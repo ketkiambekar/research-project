{
  "nbformat": 4,
  "nbformat_minor": 0,
  "metadata": {
    "colab": {
      "name": "LSTM_SI.ipynb",
      "provenance": [],
      "include_colab_link": true
    },
    "kernelspec": {
      "name": "python3",
      "display_name": "Python 3"
    },
    "language_info": {
      "name": "python"
    }
  },
  "cells": [
    {
      "cell_type": "markdown",
      "metadata": {
        "id": "view-in-github",
        "colab_type": "text"
      },
      "source": [
        "<a href=\"https://colab.research.google.com/github/ketkiambekar/masters-research-project/blob/main/LSTM_SI.ipynb\" target=\"_parent\"><img src=\"https://colab.research.google.com/assets/colab-badge.svg\" alt=\"Open In Colab\"/></a>"
      ]
    },
    {
      "cell_type": "code",
      "metadata": {
        "id": "qsY91EM5vaTK",
        "colab": {
          "base_uri": "https://localhost:8080/"
        },
        "outputId": "23ca6c2b-54ed-4723-8023-1107b19a9ba4"
      },
      "source": [
        "from google.colab import drive\n",
        "drive.mount('/content/drive')"
      ],
      "execution_count": 1,
      "outputs": [
        {
          "output_type": "stream",
          "text": [
            "Mounted at /content/drive\n"
          ],
          "name": "stdout"
        }
      ]
    },
    {
      "cell_type": "code",
      "metadata": {
        "colab": {
          "base_uri": "https://localhost:8080/"
        },
        "id": "y5rwvKysc5cv",
        "outputId": "92a648e8-920a-4b4e-9886-36ab9dcaf703"
      },
      "source": [
        "%cd drive/MyDrive/KetkiAmbekar/Raw\\ Data\\ Files\n",
        "%pwd\n",
        "%ls"
      ],
      "execution_count": 2,
      "outputs": [
        {
          "output_type": "stream",
          "text": [
            "/content/drive/.shortcut-targets-by-id/1zDGtpS_EJdRSKz3jZptcq5k6f4jqXBwI/KetkiAmbekar/Raw Data Files\n",
            " covid_BK.xlsx                   NYC_housing_prices_dropped_na.csv\n",
            " covid_BX.xlsx                   NYC_Housing_prices_dropped_values.csv\n",
            " covid_MN.xlsx                   NYC_HP_LSTM.csv\n",
            " covid_QN.xlsx                  'nyc_pluto_20v7_csv(1).zip'\n",
            " covid_real_estate.csv           nyc_pluto_20v7_csv.zip\n",
            " covid_SI.xlsx                   nyc_real_estate_PLUTO_+_Final.csv\n",
            " nyc_dataset_final.xlsx          pluto_20v7.csv\n",
            " NYC_housing_prices_dropped_na   \u001b[0m\u001b[01;34mTemperatures\u001b[0m/\n"
          ],
          "name": "stdout"
        }
      ]
    },
    {
      "cell_type": "code",
      "metadata": {
        "id": "YhI7JxKXP5p4"
      },
      "source": [
        "#Import Libraries\n",
        "import matplotlib.pyplot as plt\n",
        "import pandas as pd\n",
        "import math\n",
        "import numpy as np\n",
        "from keras.models import Sequential\n",
        "from keras.layers import Dense, Dropout\n",
        "from keras.layers import LSTM\n",
        "from sklearn.preprocessing import StandardScaler\n",
        "from sklearn.metrics import mean_squared_error\n",
        "\n",
        "\n",
        "# fix random seed for reproducibility\n",
        "np.random.seed(7)"
      ],
      "execution_count": 3,
      "outputs": []
    },
    {
      "cell_type": "code",
      "metadata": {
        "id": "ihOvRWPGPXg3",
        "colab": {
          "base_uri": "https://localhost:8080/",
          "height": 419
        },
        "outputId": "6d4e34cd-2ff8-4ee3-9fff-2e83ed66fa1c"
      },
      "source": [
        "# load the dataset\n",
        "#df = pd.read_csv('NYC_HP_LSTM.csv', engine='python', index_col='sales_date', parse_dates=True )\n",
        "df = pd.read_csv('NYC_HP_LSTM.csv', engine='python', parse_dates=True )\n",
        "df\n"
      ],
      "execution_count": 4,
      "outputs": [
        {
          "output_type": "execute_result",
          "data": {
            "text/html": [
              "<div>\n",
              "<style scoped>\n",
              "    .dataframe tbody tr th:only-of-type {\n",
              "        vertical-align: middle;\n",
              "    }\n",
              "\n",
              "    .dataframe tbody tr th {\n",
              "        vertical-align: top;\n",
              "    }\n",
              "\n",
              "    .dataframe thead th {\n",
              "        text-align: right;\n",
              "    }\n",
              "</style>\n",
              "<table border=\"1\" class=\"dataframe\">\n",
              "  <thead>\n",
              "    <tr style=\"text-align: right;\">\n",
              "      <th></th>\n",
              "      <th>Unnamed: 0</th>\n",
              "      <th>borough_BK</th>\n",
              "      <th>borough_BX</th>\n",
              "      <th>borough_MN</th>\n",
              "      <th>borough_QN</th>\n",
              "      <th>borough_SI</th>\n",
              "      <th>tot_area</th>\n",
              "      <th>covid_cases</th>\n",
              "      <th>sales_date</th>\n",
              "      <th>sales_price</th>\n",
              "    </tr>\n",
              "  </thead>\n",
              "  <tbody>\n",
              "    <tr>\n",
              "      <th>0</th>\n",
              "      <td>0</td>\n",
              "      <td>1.0</td>\n",
              "      <td>0.0</td>\n",
              "      <td>0.0</td>\n",
              "      <td>0.0</td>\n",
              "      <td>0.0</td>\n",
              "      <td>66638.0</td>\n",
              "      <td>1608</td>\n",
              "      <td>2020-08-31</td>\n",
              "      <td>5585336</td>\n",
              "    </tr>\n",
              "    <tr>\n",
              "      <th>1</th>\n",
              "      <td>1</td>\n",
              "      <td>1.0</td>\n",
              "      <td>0.0</td>\n",
              "      <td>0.0</td>\n",
              "      <td>0.0</td>\n",
              "      <td>0.0</td>\n",
              "      <td>8300.0</td>\n",
              "      <td>1608</td>\n",
              "      <td>2020-08-31</td>\n",
              "      <td>1643000</td>\n",
              "    </tr>\n",
              "    <tr>\n",
              "      <th>2</th>\n",
              "      <td>2</td>\n",
              "      <td>1.0</td>\n",
              "      <td>0.0</td>\n",
              "      <td>0.0</td>\n",
              "      <td>0.0</td>\n",
              "      <td>0.0</td>\n",
              "      <td>7488.0</td>\n",
              "      <td>1608</td>\n",
              "      <td>2020-08-31</td>\n",
              "      <td>1200000</td>\n",
              "    </tr>\n",
              "    <tr>\n",
              "      <th>3</th>\n",
              "      <td>3</td>\n",
              "      <td>1.0</td>\n",
              "      <td>0.0</td>\n",
              "      <td>0.0</td>\n",
              "      <td>0.0</td>\n",
              "      <td>0.0</td>\n",
              "      <td>6429.0</td>\n",
              "      <td>1608</td>\n",
              "      <td>2020-08-31</td>\n",
              "      <td>735000</td>\n",
              "    </tr>\n",
              "    <tr>\n",
              "      <th>4</th>\n",
              "      <td>4</td>\n",
              "      <td>1.0</td>\n",
              "      <td>0.0</td>\n",
              "      <td>0.0</td>\n",
              "      <td>0.0</td>\n",
              "      <td>0.0</td>\n",
              "      <td>7000.0</td>\n",
              "      <td>1608</td>\n",
              "      <td>2020-08-31</td>\n",
              "      <td>775000</td>\n",
              "    </tr>\n",
              "    <tr>\n",
              "      <th>...</th>\n",
              "      <td>...</td>\n",
              "      <td>...</td>\n",
              "      <td>...</td>\n",
              "      <td>...</td>\n",
              "      <td>...</td>\n",
              "      <td>...</td>\n",
              "      <td>...</td>\n",
              "      <td>...</td>\n",
              "      <td>...</td>\n",
              "      <td>...</td>\n",
              "    </tr>\n",
              "    <tr>\n",
              "      <th>76837</th>\n",
              "      <td>76837</td>\n",
              "      <td>0.0</td>\n",
              "      <td>0.0</td>\n",
              "      <td>0.0</td>\n",
              "      <td>0.0</td>\n",
              "      <td>1.0</td>\n",
              "      <td>5264.0</td>\n",
              "      <td>0</td>\n",
              "      <td>2018-01-02</td>\n",
              "      <td>680000</td>\n",
              "    </tr>\n",
              "    <tr>\n",
              "      <th>76838</th>\n",
              "      <td>76838</td>\n",
              "      <td>0.0</td>\n",
              "      <td>0.0</td>\n",
              "      <td>0.0</td>\n",
              "      <td>0.0</td>\n",
              "      <td>1.0</td>\n",
              "      <td>10268.0</td>\n",
              "      <td>0</td>\n",
              "      <td>2018-01-02</td>\n",
              "      <td>400000</td>\n",
              "    </tr>\n",
              "    <tr>\n",
              "      <th>76839</th>\n",
              "      <td>76839</td>\n",
              "      <td>0.0</td>\n",
              "      <td>0.0</td>\n",
              "      <td>0.0</td>\n",
              "      <td>0.0</td>\n",
              "      <td>1.0</td>\n",
              "      <td>4901.0</td>\n",
              "      <td>0</td>\n",
              "      <td>2018-01-02</td>\n",
              "      <td>565000</td>\n",
              "    </tr>\n",
              "    <tr>\n",
              "      <th>76840</th>\n",
              "      <td>76840</td>\n",
              "      <td>0.0</td>\n",
              "      <td>0.0</td>\n",
              "      <td>0.0</td>\n",
              "      <td>0.0</td>\n",
              "      <td>1.0</td>\n",
              "      <td>6525.0</td>\n",
              "      <td>0</td>\n",
              "      <td>2018-01-02</td>\n",
              "      <td>499500</td>\n",
              "    </tr>\n",
              "    <tr>\n",
              "      <th>76841</th>\n",
              "      <td>76841</td>\n",
              "      <td>0.0</td>\n",
              "      <td>0.0</td>\n",
              "      <td>0.0</td>\n",
              "      <td>0.0</td>\n",
              "      <td>1.0</td>\n",
              "      <td>8300.0</td>\n",
              "      <td>0</td>\n",
              "      <td>2018-01-02</td>\n",
              "      <td>685000</td>\n",
              "    </tr>\n",
              "  </tbody>\n",
              "</table>\n",
              "<p>76842 rows × 10 columns</p>\n",
              "</div>"
            ],
            "text/plain": [
              "       Unnamed: 0  borough_BK  borough_BX  ...  covid_cases  sales_date  sales_price\n",
              "0               0         1.0         0.0  ...         1608  2020-08-31      5585336\n",
              "1               1         1.0         0.0  ...         1608  2020-08-31      1643000\n",
              "2               2         1.0         0.0  ...         1608  2020-08-31      1200000\n",
              "3               3         1.0         0.0  ...         1608  2020-08-31       735000\n",
              "4               4         1.0         0.0  ...         1608  2020-08-31       775000\n",
              "...           ...         ...         ...  ...          ...         ...          ...\n",
              "76837       76837         0.0         0.0  ...            0  2018-01-02       680000\n",
              "76838       76838         0.0         0.0  ...            0  2018-01-02       400000\n",
              "76839       76839         0.0         0.0  ...            0  2018-01-02       565000\n",
              "76840       76840         0.0         0.0  ...            0  2018-01-02       499500\n",
              "76841       76841         0.0         0.0  ...            0  2018-01-02       685000\n",
              "\n",
              "[76842 rows x 10 columns]"
            ]
          },
          "metadata": {
            "tags": []
          },
          "execution_count": 4
        }
      ]
    },
    {
      "cell_type": "code",
      "metadata": {
        "colab": {
          "base_uri": "https://localhost:8080/",
          "height": 204
        },
        "id": "BUyuHFMfhsWy",
        "outputId": "f6a62982-236c-45df-c63d-2cf1129a4def"
      },
      "source": [
        "df.drop(columns=['Unnamed: 0'], inplace=True)\n",
        "df.head()"
      ],
      "execution_count": 5,
      "outputs": [
        {
          "output_type": "execute_result",
          "data": {
            "text/html": [
              "<div>\n",
              "<style scoped>\n",
              "    .dataframe tbody tr th:only-of-type {\n",
              "        vertical-align: middle;\n",
              "    }\n",
              "\n",
              "    .dataframe tbody tr th {\n",
              "        vertical-align: top;\n",
              "    }\n",
              "\n",
              "    .dataframe thead th {\n",
              "        text-align: right;\n",
              "    }\n",
              "</style>\n",
              "<table border=\"1\" class=\"dataframe\">\n",
              "  <thead>\n",
              "    <tr style=\"text-align: right;\">\n",
              "      <th></th>\n",
              "      <th>borough_BK</th>\n",
              "      <th>borough_BX</th>\n",
              "      <th>borough_MN</th>\n",
              "      <th>borough_QN</th>\n",
              "      <th>borough_SI</th>\n",
              "      <th>tot_area</th>\n",
              "      <th>covid_cases</th>\n",
              "      <th>sales_date</th>\n",
              "      <th>sales_price</th>\n",
              "    </tr>\n",
              "  </thead>\n",
              "  <tbody>\n",
              "    <tr>\n",
              "      <th>0</th>\n",
              "      <td>1.0</td>\n",
              "      <td>0.0</td>\n",
              "      <td>0.0</td>\n",
              "      <td>0.0</td>\n",
              "      <td>0.0</td>\n",
              "      <td>66638.0</td>\n",
              "      <td>1608</td>\n",
              "      <td>2020-08-31</td>\n",
              "      <td>5585336</td>\n",
              "    </tr>\n",
              "    <tr>\n",
              "      <th>1</th>\n",
              "      <td>1.0</td>\n",
              "      <td>0.0</td>\n",
              "      <td>0.0</td>\n",
              "      <td>0.0</td>\n",
              "      <td>0.0</td>\n",
              "      <td>8300.0</td>\n",
              "      <td>1608</td>\n",
              "      <td>2020-08-31</td>\n",
              "      <td>1643000</td>\n",
              "    </tr>\n",
              "    <tr>\n",
              "      <th>2</th>\n",
              "      <td>1.0</td>\n",
              "      <td>0.0</td>\n",
              "      <td>0.0</td>\n",
              "      <td>0.0</td>\n",
              "      <td>0.0</td>\n",
              "      <td>7488.0</td>\n",
              "      <td>1608</td>\n",
              "      <td>2020-08-31</td>\n",
              "      <td>1200000</td>\n",
              "    </tr>\n",
              "    <tr>\n",
              "      <th>3</th>\n",
              "      <td>1.0</td>\n",
              "      <td>0.0</td>\n",
              "      <td>0.0</td>\n",
              "      <td>0.0</td>\n",
              "      <td>0.0</td>\n",
              "      <td>6429.0</td>\n",
              "      <td>1608</td>\n",
              "      <td>2020-08-31</td>\n",
              "      <td>735000</td>\n",
              "    </tr>\n",
              "    <tr>\n",
              "      <th>4</th>\n",
              "      <td>1.0</td>\n",
              "      <td>0.0</td>\n",
              "      <td>0.0</td>\n",
              "      <td>0.0</td>\n",
              "      <td>0.0</td>\n",
              "      <td>7000.0</td>\n",
              "      <td>1608</td>\n",
              "      <td>2020-08-31</td>\n",
              "      <td>775000</td>\n",
              "    </tr>\n",
              "  </tbody>\n",
              "</table>\n",
              "</div>"
            ],
            "text/plain": [
              "   borough_BK  borough_BX  borough_MN  ...  covid_cases  sales_date  sales_price\n",
              "0         1.0         0.0         0.0  ...         1608  2020-08-31      5585336\n",
              "1         1.0         0.0         0.0  ...         1608  2020-08-31      1643000\n",
              "2         1.0         0.0         0.0  ...         1608  2020-08-31      1200000\n",
              "3         1.0         0.0         0.0  ...         1608  2020-08-31       735000\n",
              "4         1.0         0.0         0.0  ...         1608  2020-08-31       775000\n",
              "\n",
              "[5 rows x 9 columns]"
            ]
          },
          "metadata": {
            "tags": []
          },
          "execution_count": 5
        }
      ]
    },
    {
      "cell_type": "code",
      "metadata": {
        "colab": {
          "base_uri": "https://localhost:8080/"
        },
        "id": "eFB3RASUv8f-",
        "outputId": "912532a1-92df-421d-c517-8dc342edaa8d"
      },
      "source": [
        "df.info()"
      ],
      "execution_count": 6,
      "outputs": [
        {
          "output_type": "stream",
          "text": [
            "<class 'pandas.core.frame.DataFrame'>\n",
            "RangeIndex: 76842 entries, 0 to 76841\n",
            "Data columns (total 9 columns):\n",
            " #   Column       Non-Null Count  Dtype  \n",
            "---  ------       --------------  -----  \n",
            " 0   borough_BK   76842 non-null  float64\n",
            " 1   borough_BX   76842 non-null  float64\n",
            " 2   borough_MN   76842 non-null  float64\n",
            " 3   borough_QN   76842 non-null  float64\n",
            " 4   borough_SI   76842 non-null  float64\n",
            " 5   tot_area     76842 non-null  float64\n",
            " 6   covid_cases  76842 non-null  int64  \n",
            " 7   sales_date   76842 non-null  object \n",
            " 8   sales_price  76842 non-null  int64  \n",
            "dtypes: float64(6), int64(2), object(1)\n",
            "memory usage: 5.3+ MB\n"
          ],
          "name": "stdout"
        }
      ]
    },
    {
      "cell_type": "code",
      "metadata": {
        "id": "M0hh3-ybwVrz"
      },
      "source": [
        "df['covid_cases']=df.covid_cases.astype('float64')\n",
        "df['sales_price']=df.sales_price.astype('float64')\n",
        "df['per_sqft_rate']=df['sales_price']/df['tot_area']"
      ],
      "execution_count": 9,
      "outputs": []
    },
    {
      "cell_type": "code",
      "metadata": {
        "colab": {
          "base_uri": "https://localhost:8080/"
        },
        "id": "9UoUyMlozv-3",
        "outputId": "6ab4d3d1-1076-48f4-a8b2-4cde3ae7437a"
      },
      "source": [
        "#We need to separate boroughs Let's first create a model for Manhattan only\n",
        "\n",
        "df_SI = df[df['borough_SI']==1.0]\n",
        "df_SI = df_SI[['tot_area', 'covid_cases', 'sales_date','sales_price','per_sqft_rate' ]]\n",
        "print(len(df_SI), len(df))"
      ],
      "execution_count": 10,
      "outputs": [
        {
          "output_type": "stream",
          "text": [
            "10771 76842\n"
          ],
          "name": "stdout"
        }
      ]
    },
    {
      "cell_type": "code",
      "metadata": {
        "colab": {
          "base_uri": "https://localhost:8080/",
          "height": 450
        },
        "id": "LBpoFhesgl__",
        "outputId": "6b8a2df7-6ed0-4739-aecc-651f0b2b81a7"
      },
      "source": [
        "#We ensure, one datapoint per date. \n",
        "#We therefore, groupby sales_date column and aggregate over per_sqft_rate column on it's mean andchoose max number of covid_cases.\n",
        "df_SI=df_SI.groupby([\"sales_date\"]).agg({'per_sqft_rate':'mean', 'covid_cases':'max'})\n",
        "df_SI"
      ],
      "execution_count": 11,
      "outputs": [
        {
          "output_type": "execute_result",
          "data": {
            "text/html": [
              "<div>\n",
              "<style scoped>\n",
              "    .dataframe tbody tr th:only-of-type {\n",
              "        vertical-align: middle;\n",
              "    }\n",
              "\n",
              "    .dataframe tbody tr th {\n",
              "        vertical-align: top;\n",
              "    }\n",
              "\n",
              "    .dataframe thead th {\n",
              "        text-align: right;\n",
              "    }\n",
              "</style>\n",
              "<table border=\"1\" class=\"dataframe\">\n",
              "  <thead>\n",
              "    <tr style=\"text-align: right;\">\n",
              "      <th></th>\n",
              "      <th>per_sqft_rate</th>\n",
              "      <th>covid_cases</th>\n",
              "    </tr>\n",
              "    <tr>\n",
              "      <th>sales_date</th>\n",
              "      <th></th>\n",
              "      <th></th>\n",
              "    </tr>\n",
              "  </thead>\n",
              "  <tbody>\n",
              "    <tr>\n",
              "      <th>2018-01-02</th>\n",
              "      <td>82.500827</td>\n",
              "      <td>0.0</td>\n",
              "    </tr>\n",
              "    <tr>\n",
              "      <th>2018-01-03</th>\n",
              "      <td>86.727116</td>\n",
              "      <td>0.0</td>\n",
              "    </tr>\n",
              "    <tr>\n",
              "      <th>2018-01-04</th>\n",
              "      <td>84.122978</td>\n",
              "      <td>0.0</td>\n",
              "    </tr>\n",
              "    <tr>\n",
              "      <th>2018-01-05</th>\n",
              "      <td>87.660704</td>\n",
              "      <td>0.0</td>\n",
              "    </tr>\n",
              "    <tr>\n",
              "      <th>2018-01-08</th>\n",
              "      <td>83.050098</td>\n",
              "      <td>0.0</td>\n",
              "    </tr>\n",
              "    <tr>\n",
              "      <th>...</th>\n",
              "      <td>...</td>\n",
              "      <td>...</td>\n",
              "    </tr>\n",
              "    <tr>\n",
              "      <th>2020-08-10</th>\n",
              "      <td>98.546042</td>\n",
              "      <td>407.0</td>\n",
              "    </tr>\n",
              "    <tr>\n",
              "      <th>2020-08-11</th>\n",
              "      <td>101.215074</td>\n",
              "      <td>407.0</td>\n",
              "    </tr>\n",
              "    <tr>\n",
              "      <th>2020-08-12</th>\n",
              "      <td>128.117914</td>\n",
              "      <td>407.0</td>\n",
              "    </tr>\n",
              "    <tr>\n",
              "      <th>2020-08-14</th>\n",
              "      <td>67.794933</td>\n",
              "      <td>407.0</td>\n",
              "    </tr>\n",
              "    <tr>\n",
              "      <th>2020-08-24</th>\n",
              "      <td>32.528365</td>\n",
              "      <td>407.0</td>\n",
              "    </tr>\n",
              "  </tbody>\n",
              "</table>\n",
              "<p>707 rows × 2 columns</p>\n",
              "</div>"
            ],
            "text/plain": [
              "            per_sqft_rate  covid_cases\n",
              "sales_date                            \n",
              "2018-01-02      82.500827          0.0\n",
              "2018-01-03      86.727116          0.0\n",
              "2018-01-04      84.122978          0.0\n",
              "2018-01-05      87.660704          0.0\n",
              "2018-01-08      83.050098          0.0\n",
              "...                   ...          ...\n",
              "2020-08-10      98.546042        407.0\n",
              "2020-08-11     101.215074        407.0\n",
              "2020-08-12     128.117914        407.0\n",
              "2020-08-14      67.794933        407.0\n",
              "2020-08-24      32.528365        407.0\n",
              "\n",
              "[707 rows x 2 columns]"
            ]
          },
          "metadata": {
            "tags": []
          },
          "execution_count": 11
        }
      ]
    },
    {
      "cell_type": "code",
      "metadata": {
        "colab": {
          "base_uri": "https://localhost:8080/",
          "height": 297
        },
        "id": "u3ebwcjBwp6x",
        "outputId": "939bd928-a283-4705-d3fc-3cac5c844ca0"
      },
      "source": [
        "df_SI.describe()"
      ],
      "execution_count": 12,
      "outputs": [
        {
          "output_type": "execute_result",
          "data": {
            "text/html": [
              "<div>\n",
              "<style scoped>\n",
              "    .dataframe tbody tr th:only-of-type {\n",
              "        vertical-align: middle;\n",
              "    }\n",
              "\n",
              "    .dataframe tbody tr th {\n",
              "        vertical-align: top;\n",
              "    }\n",
              "\n",
              "    .dataframe thead th {\n",
              "        text-align: right;\n",
              "    }\n",
              "</style>\n",
              "<table border=\"1\" class=\"dataframe\">\n",
              "  <thead>\n",
              "    <tr style=\"text-align: right;\">\n",
              "      <th></th>\n",
              "      <th>per_sqft_rate</th>\n",
              "      <th>covid_cases</th>\n",
              "    </tr>\n",
              "  </thead>\n",
              "  <tbody>\n",
              "    <tr>\n",
              "      <th>count</th>\n",
              "      <td>707.000000</td>\n",
              "      <td>707.000000</td>\n",
              "    </tr>\n",
              "    <tr>\n",
              "      <th>mean</th>\n",
              "      <td>83.914496</td>\n",
              "      <td>481.356436</td>\n",
              "    </tr>\n",
              "    <tr>\n",
              "      <th>std</th>\n",
              "      <td>13.104710</td>\n",
              "      <td>1573.805038</td>\n",
              "    </tr>\n",
              "    <tr>\n",
              "      <th>min</th>\n",
              "      <td>19.774382</td>\n",
              "      <td>0.000000</td>\n",
              "    </tr>\n",
              "    <tr>\n",
              "      <th>25%</th>\n",
              "      <td>79.103552</td>\n",
              "      <td>0.000000</td>\n",
              "    </tr>\n",
              "    <tr>\n",
              "      <th>50%</th>\n",
              "      <td>84.063553</td>\n",
              "      <td>0.000000</td>\n",
              "    </tr>\n",
              "    <tr>\n",
              "      <th>75%</th>\n",
              "      <td>89.323665</td>\n",
              "      <td>0.000000</td>\n",
              "    </tr>\n",
              "    <tr>\n",
              "      <th>max</th>\n",
              "      <td>235.540842</td>\n",
              "      <td>7806.000000</td>\n",
              "    </tr>\n",
              "  </tbody>\n",
              "</table>\n",
              "</div>"
            ],
            "text/plain": [
              "       per_sqft_rate  covid_cases\n",
              "count     707.000000   707.000000\n",
              "mean       83.914496   481.356436\n",
              "std        13.104710  1573.805038\n",
              "min        19.774382     0.000000\n",
              "25%        79.103552     0.000000\n",
              "50%        84.063553     0.000000\n",
              "75%        89.323665     0.000000\n",
              "max       235.540842  7806.000000"
            ]
          },
          "metadata": {
            "tags": []
          },
          "execution_count": 12
        }
      ]
    },
    {
      "cell_type": "code",
      "metadata": {
        "id": "bzXz0_0bPhWV",
        "colab": {
          "base_uri": "https://localhost:8080/"
        },
        "outputId": "de80561e-4ea1-414c-e136-339a4baec50d"
      },
      "source": [
        "#LSTM uses sigmoid and tanh that are sensitive to magnitude so values need to be normalized\n",
        "# normalize the dataset\n",
        "print(df_SI.shape)\n",
        "scaler = StandardScaler()\n",
        "scaler = scaler.fit(df_SI)\n",
        "df_scaled = scaler.transform(df_SI)\n",
        "df_scaled"
      ],
      "execution_count": 13,
      "outputs": [
        {
          "output_type": "stream",
          "text": [
            "(707, 2)\n"
          ],
          "name": "stdout"
        },
        {
          "output_type": "execute_result",
          "data": {
            "text/plain": [
              "array([[-0.1079513 , -0.30607172],\n",
              "       [ 0.21477862, -0.30607172],\n",
              "       [ 0.01592016, -0.30607172],\n",
              "       ...,\n",
              "       [ 3.37548189, -0.04727973],\n",
              "       [-1.23092958, -0.04727973],\n",
              "       [-3.92397161, -0.04727973]])"
            ]
          },
          "metadata": {
            "tags": []
          },
          "execution_count": 13
        }
      ]
    },
    {
      "cell_type": "code",
      "metadata": {
        "colab": {
          "base_uri": "https://localhost:8080/"
        },
        "id": "ajMFnddw2Nu9",
        "outputId": "021839c4-2256-418d-d71e-f1f211c14b0c"
      },
      "source": [
        "df_scaled.shape"
      ],
      "execution_count": 14,
      "outputs": [
        {
          "output_type": "execute_result",
          "data": {
            "text/plain": [
              "(707, 2)"
            ]
          },
          "metadata": {
            "tags": []
          },
          "execution_count": 14
        }
      ]
    },
    {
      "cell_type": "code",
      "metadata": {
        "colab": {
          "base_uri": "https://localhost:8080/",
          "height": 235
        },
        "id": "mVB_hitf2AoX",
        "outputId": "74c9740e-f560-4b2c-aaa7-5c44f95d8980"
      },
      "source": [
        "import numpy as np\n",
        "df_SI['scaled_per_sqft_rate']= df_scaled[:,0]\n",
        "df_SI['scaled_covid_cases']= df_scaled[:,1]\n",
        "df_SI.head()"
      ],
      "execution_count": 15,
      "outputs": [
        {
          "output_type": "execute_result",
          "data": {
            "text/html": [
              "<div>\n",
              "<style scoped>\n",
              "    .dataframe tbody tr th:only-of-type {\n",
              "        vertical-align: middle;\n",
              "    }\n",
              "\n",
              "    .dataframe tbody tr th {\n",
              "        vertical-align: top;\n",
              "    }\n",
              "\n",
              "    .dataframe thead th {\n",
              "        text-align: right;\n",
              "    }\n",
              "</style>\n",
              "<table border=\"1\" class=\"dataframe\">\n",
              "  <thead>\n",
              "    <tr style=\"text-align: right;\">\n",
              "      <th></th>\n",
              "      <th>per_sqft_rate</th>\n",
              "      <th>covid_cases</th>\n",
              "      <th>scaled_per_sqft_rate</th>\n",
              "      <th>scaled_covid_cases</th>\n",
              "    </tr>\n",
              "    <tr>\n",
              "      <th>sales_date</th>\n",
              "      <th></th>\n",
              "      <th></th>\n",
              "      <th></th>\n",
              "      <th></th>\n",
              "    </tr>\n",
              "  </thead>\n",
              "  <tbody>\n",
              "    <tr>\n",
              "      <th>2018-01-02</th>\n",
              "      <td>82.500827</td>\n",
              "      <td>0.0</td>\n",
              "      <td>-0.107951</td>\n",
              "      <td>-0.306072</td>\n",
              "    </tr>\n",
              "    <tr>\n",
              "      <th>2018-01-03</th>\n",
              "      <td>86.727116</td>\n",
              "      <td>0.0</td>\n",
              "      <td>0.214779</td>\n",
              "      <td>-0.306072</td>\n",
              "    </tr>\n",
              "    <tr>\n",
              "      <th>2018-01-04</th>\n",
              "      <td>84.122978</td>\n",
              "      <td>0.0</td>\n",
              "      <td>0.015920</td>\n",
              "      <td>-0.306072</td>\n",
              "    </tr>\n",
              "    <tr>\n",
              "      <th>2018-01-05</th>\n",
              "      <td>87.660704</td>\n",
              "      <td>0.0</td>\n",
              "      <td>0.286070</td>\n",
              "      <td>-0.306072</td>\n",
              "    </tr>\n",
              "    <tr>\n",
              "      <th>2018-01-08</th>\n",
              "      <td>83.050098</td>\n",
              "      <td>0.0</td>\n",
              "      <td>-0.066008</td>\n",
              "      <td>-0.306072</td>\n",
              "    </tr>\n",
              "  </tbody>\n",
              "</table>\n",
              "</div>"
            ],
            "text/plain": [
              "            per_sqft_rate  ...  scaled_covid_cases\n",
              "sales_date                 ...                    \n",
              "2018-01-02      82.500827  ...           -0.306072\n",
              "2018-01-03      86.727116  ...           -0.306072\n",
              "2018-01-04      84.122978  ...           -0.306072\n",
              "2018-01-05      87.660704  ...           -0.306072\n",
              "2018-01-08      83.050098  ...           -0.306072\n",
              "\n",
              "[5 rows x 4 columns]"
            ]
          },
          "metadata": {
            "tags": []
          },
          "execution_count": 15
        }
      ]
    },
    {
      "cell_type": "code",
      "metadata": {
        "colab": {
          "base_uri": "https://localhost:8080/",
          "height": 390
        },
        "id": "zuC2S6qFFSb-",
        "outputId": "221cf2fb-97a3-4f67-9743-0e1b082eba36"
      },
      "source": [
        "df_SI.tail(10)"
      ],
      "execution_count": 16,
      "outputs": [
        {
          "output_type": "execute_result",
          "data": {
            "text/html": [
              "<div>\n",
              "<style scoped>\n",
              "    .dataframe tbody tr th:only-of-type {\n",
              "        vertical-align: middle;\n",
              "    }\n",
              "\n",
              "    .dataframe tbody tr th {\n",
              "        vertical-align: top;\n",
              "    }\n",
              "\n",
              "    .dataframe thead th {\n",
              "        text-align: right;\n",
              "    }\n",
              "</style>\n",
              "<table border=\"1\" class=\"dataframe\">\n",
              "  <thead>\n",
              "    <tr style=\"text-align: right;\">\n",
              "      <th></th>\n",
              "      <th>per_sqft_rate</th>\n",
              "      <th>covid_cases</th>\n",
              "      <th>scaled_per_sqft_rate</th>\n",
              "      <th>scaled_covid_cases</th>\n",
              "    </tr>\n",
              "    <tr>\n",
              "      <th>sales_date</th>\n",
              "      <th></th>\n",
              "      <th></th>\n",
              "      <th></th>\n",
              "      <th></th>\n",
              "    </tr>\n",
              "  </thead>\n",
              "  <tbody>\n",
              "    <tr>\n",
              "      <th>2020-07-31</th>\n",
              "      <td>108.475685</td>\n",
              "      <td>637.0</td>\n",
              "      <td>1.875553</td>\n",
              "      <td>0.098966</td>\n",
              "    </tr>\n",
              "    <tr>\n",
              "      <th>2020-08-04</th>\n",
              "      <td>80.005938</td>\n",
              "      <td>407.0</td>\n",
              "      <td>-0.298467</td>\n",
              "      <td>-0.047280</td>\n",
              "    </tr>\n",
              "    <tr>\n",
              "      <th>2020-08-05</th>\n",
              "      <td>65.134760</td>\n",
              "      <td>407.0</td>\n",
              "      <td>-1.434067</td>\n",
              "      <td>-0.047280</td>\n",
              "    </tr>\n",
              "    <tr>\n",
              "      <th>2020-08-06</th>\n",
              "      <td>78.585473</td>\n",
              "      <td>407.0</td>\n",
              "      <td>-0.406937</td>\n",
              "      <td>-0.047280</td>\n",
              "    </tr>\n",
              "    <tr>\n",
              "      <th>2020-08-07</th>\n",
              "      <td>71.157122</td>\n",
              "      <td>407.0</td>\n",
              "      <td>-0.974185</td>\n",
              "      <td>-0.047280</td>\n",
              "    </tr>\n",
              "    <tr>\n",
              "      <th>2020-08-10</th>\n",
              "      <td>98.546042</td>\n",
              "      <td>407.0</td>\n",
              "      <td>1.117301</td>\n",
              "      <td>-0.047280</td>\n",
              "    </tr>\n",
              "    <tr>\n",
              "      <th>2020-08-11</th>\n",
              "      <td>101.215074</td>\n",
              "      <td>407.0</td>\n",
              "      <td>1.321115</td>\n",
              "      <td>-0.047280</td>\n",
              "    </tr>\n",
              "    <tr>\n",
              "      <th>2020-08-12</th>\n",
              "      <td>128.117914</td>\n",
              "      <td>407.0</td>\n",
              "      <td>3.375482</td>\n",
              "      <td>-0.047280</td>\n",
              "    </tr>\n",
              "    <tr>\n",
              "      <th>2020-08-14</th>\n",
              "      <td>67.794933</td>\n",
              "      <td>407.0</td>\n",
              "      <td>-1.230930</td>\n",
              "      <td>-0.047280</td>\n",
              "    </tr>\n",
              "    <tr>\n",
              "      <th>2020-08-24</th>\n",
              "      <td>32.528365</td>\n",
              "      <td>407.0</td>\n",
              "      <td>-3.923972</td>\n",
              "      <td>-0.047280</td>\n",
              "    </tr>\n",
              "  </tbody>\n",
              "</table>\n",
              "</div>"
            ],
            "text/plain": [
              "            per_sqft_rate  ...  scaled_covid_cases\n",
              "sales_date                 ...                    \n",
              "2020-07-31     108.475685  ...            0.098966\n",
              "2020-08-04      80.005938  ...           -0.047280\n",
              "2020-08-05      65.134760  ...           -0.047280\n",
              "2020-08-06      78.585473  ...           -0.047280\n",
              "2020-08-07      71.157122  ...           -0.047280\n",
              "2020-08-10      98.546042  ...           -0.047280\n",
              "2020-08-11     101.215074  ...           -0.047280\n",
              "2020-08-12     128.117914  ...           -0.047280\n",
              "2020-08-14      67.794933  ...           -0.047280\n",
              "2020-08-24      32.528365  ...           -0.047280\n",
              "\n",
              "[10 rows x 4 columns]"
            ]
          },
          "metadata": {
            "tags": []
          },
          "execution_count": 16
        }
      ]
    },
    {
      "cell_type": "code",
      "metadata": {
        "colab": {
          "base_uri": "https://localhost:8080/",
          "height": 390
        },
        "id": "a8hCAnuf2yLU",
        "outputId": "7cc9f026-b498-40fb-f290-ed44e3d54519"
      },
      "source": [
        "#Plotting Normalized Prices and Covid Cases\n",
        "plt.figure(figsize=(20,6))\n",
        "plt.title(\"Covid Cases and Per Sqft Housing Prices Over Time in Staten Island (Scaled)\")\n",
        "plt.plot(df_SI['scaled_covid_cases'], linestyle='solid', color='orange', label=\"Covid Cases\")\n",
        "plt.plot(df_SI['scaled_per_sqft_rate'], linestyle='solid', color='teal', label=\"Per Sqft. Rate in Dollars\")\n",
        "plt.legend(loc=\"upper left\")\n",
        "plt.grid(False)\n",
        "#sns.lineplot(data=trends.drop(['sales_price', 'covid_cases'], axis=1));"
      ],
      "execution_count": 18,
      "outputs": [
        {
          "output_type": "display_data",
          "data": {
            "image/png": "[encoded data removed]",
            "text/plain": [
              "<Figure size 1440x432 with 1 Axes>"
            ]
          },
          "metadata": {
            "tags": [],
            "needs_background": "light"
          }
        }
      ]
    },
    {
      "cell_type": "code",
      "metadata": {
        "colab": {
          "base_uri": "https://localhost:8080/"
        },
        "id": "m-xL74KaOm7k",
        "outputId": "d2dc56ba-f8c2-435e-b9bc-9f7f5907192e"
      },
      "source": [
        "#Separate dates for future plotting\n",
        "train_dates = pd.to_datetime(df_SI.index)\n",
        "train_dates"
      ],
      "execution_count": 20,
      "outputs": [
        {
          "output_type": "execute_result",
          "data": {
            "text/plain": [
              "DatetimeIndex(['2018-01-02', '2018-01-03', '2018-01-04', '2018-01-05',\n",
              "               '2018-01-08', '2018-01-09', '2018-01-10', '2018-01-11',\n",
              "               '2018-01-12', '2018-01-13',\n",
              "               ...\n",
              "               '2020-07-31', '2020-08-04', '2020-08-05', '2020-08-06',\n",
              "               '2020-08-07', '2020-08-10', '2020-08-11', '2020-08-12',\n",
              "               '2020-08-14', '2020-08-24'],\n",
              "              dtype='datetime64[ns]', name='sales_date', length=707, freq=None)"
            ]
          },
          "metadata": {
            "tags": []
          },
          "execution_count": 20
        }
      ]
    },
    {
      "cell_type": "code",
      "metadata": {
        "id": "d1gDbGP_jpfy"
      },
      "source": [
        "trainX = []\n",
        "trainY = []\n",
        "\n",
        "n_future = 1   # Number of days we want to predict into the future\n",
        "n_past = 21     # Number of past days we want to use to predict the future\n",
        "\n",
        "\n",
        "#Creating sequential window trainX for training. \n",
        "#Sample trainX window : [0.1 0.2 0.3 0.5 0.4 0.1 ]\n",
        "for i in range(n_past, len(df_scaled) - n_future +1):\n",
        "    trainX.append(df_scaled[i - n_past:i, 0:df_scaled.shape[1]])\n",
        "\n",
        "    #trainY.append(df_scaled[i + n_future - 1:i + n_future, 0])\n",
        "    trainY.append(df_scaled[i + n_future - 1:i + n_future, :])  #We want to predict both covid cases and per sq. ft rate, so trin y will contain both.  \n",
        "\n",
        "\n"
      ],
      "execution_count": 21,
      "outputs": []
    },
    {
      "cell_type": "code",
      "metadata": {
        "id": "0F7i7fHjs2fO"
      },
      "source": [
        "trainX, trainY = np.array(trainX), np.array(trainY)"
      ],
      "execution_count": 22,
      "outputs": []
    },
    {
      "cell_type": "code",
      "metadata": {
        "id": "RuSAVAz30bas",
        "colab": {
          "base_uri": "https://localhost:8080/"
        },
        "outputId": "f3719a27-6adb-4418-a494-5430dc5db24a"
      },
      "source": [
        "#trainX=trainX[:800]\n",
        "#trainY=trainY[:800]\n",
        "trainX.shape"
      ],
      "execution_count": 23,
      "outputs": [
        {
          "output_type": "execute_result",
          "data": {
            "text/plain": [
              "(686, 21, 2)"
            ]
          },
          "metadata": {
            "tags": []
          },
          "execution_count": 23
        }
      ]
    },
    {
      "cell_type": "code",
      "metadata": {
        "colab": {
          "base_uri": "https://localhost:8080/"
        },
        "id": "_qiS5BXzZo8-",
        "outputId": "c07bae23-9f8f-4adb-f98b-6ded16976470"
      },
      "source": [
        "trainY.shape"
      ],
      "execution_count": 24,
      "outputs": [
        {
          "output_type": "execute_result",
          "data": {
            "text/plain": [
              "(686, 1, 2)"
            ]
          },
          "metadata": {
            "tags": []
          },
          "execution_count": 24
        }
      ]
    },
    {
      "cell_type": "code",
      "metadata": {
        "colab": {
          "base_uri": "https://localhost:8080/"
        },
        "id": "gK--kpB5s1rs",
        "outputId": "3cceef5c-d347-4089-ae9d-f2396bdb39f3"
      },
      "source": [
        "df_scaled.shape"
      ],
      "execution_count": 25,
      "outputs": [
        {
          "output_type": "execute_result",
          "data": {
            "text/plain": [
              "(707, 2)"
            ]
          },
          "metadata": {
            "tags": []
          },
          "execution_count": 25
        }
      ]
    },
    {
      "cell_type": "code",
      "metadata": {
        "id": "EWLTBDr3t_N0",
        "colab": {
          "base_uri": "https://localhost:8080/"
        },
        "outputId": "0671997c-21e1-4789-9850-ea95606d15a9"
      },
      "source": [
        "print(trainX[0])"
      ],
      "execution_count": 26,
      "outputs": [
        {
          "output_type": "stream",
          "text": [
            "[[-0.1079513  -0.30607172]\n",
            " [ 0.21477862 -0.30607172]\n",
            " [ 0.01592016 -0.30607172]\n",
            " [ 0.28606964 -0.30607172]\n",
            " [-0.06600755 -0.30607172]\n",
            " [-0.36970102 -0.30607172]\n",
            " [ 0.47556743 -0.30607172]\n",
            " [ 0.82305505 -0.30607172]\n",
            " [-0.09332973 -0.30607172]\n",
            " [-4.0640469  -0.30607172]\n",
            " [ 0.06730611 -0.30607172]\n",
            " [-0.90446365 -0.30607172]\n",
            " [-1.30740288 -0.30607172]\n",
            " [-0.09683307 -0.30607172]\n",
            " [-0.74962579 -0.30607172]\n",
            " [-3.23935072 -0.30607172]\n",
            " [-1.92521114 -0.30607172]\n",
            " [ 0.36592426 -0.30607172]\n",
            " [ 0.33977672 -0.30607172]\n",
            " [-0.98087655 -0.30607172]\n",
            " [-0.50704135 -0.30607172]]\n"
          ],
          "name": "stdout"
        }
      ]
    },
    {
      "cell_type": "code",
      "metadata": {
        "colab": {
          "base_uri": "https://localhost:8080/"
        },
        "id": "o33aOj19o8Ho",
        "outputId": "e3c1a512-25fb-447f-a570-bce828b2c6bc"
      },
      "source": [
        "print(trainX.shape, trainY.shape[1])"
      ],
      "execution_count": 27,
      "outputs": [
        {
          "output_type": "stream",
          "text": [
            "(686, 21, 2) 1\n"
          ],
          "name": "stdout"
        }
      ]
    },
    {
      "cell_type": "code",
      "metadata": {
        "colab": {
          "base_uri": "https://localhost:8080/"
        },
        "id": "XBJuEABfJhzB",
        "outputId": "8f6b1e18-f761-4ab0-b9dd-e14403de4248"
      },
      "source": [
        "print('trainX shape == {}.'.format(trainX.shape))\n",
        "print('trainY shape == {}.'.format(trainY.shape))\n"
      ],
      "execution_count": 28,
      "outputs": [
        {
          "output_type": "stream",
          "text": [
            "trainX shape == (686, 21, 2).\n",
            "trainY shape == (686, 1, 2).\n"
          ],
          "name": "stdout"
        }
      ]
    },
    {
      "cell_type": "code",
      "metadata": {
        "id": "Qi2wbtW2Pk0H",
        "colab": {
          "base_uri": "https://localhost:8080/",
          "height": 352
        },
        "outputId": "bd9e8402-d2c0-4257-8d71-9f00568e1212"
      },
      "source": [
        "# Correlations among columns\n",
        "import seaborn as sns\n",
        "sns.heatmap(df.corr(),annot=True);\n",
        "plt.title('Correlation Among Features', size=10);\n",
        "plt.figure(figsize=(15,15));\n",
        "plt.show();"
      ],
      "execution_count": 29,
      "outputs": [
        {
          "output_type": "display_data",
          "data": {
            "image/png": "[encoded data removed]",
            "text/plain": [
              "<Figure size 432x288 with 2 Axes>"
            ]
          },
          "metadata": {
            "tags": [],
            "needs_background": "light"
          }
        },
        {
          "output_type": "display_data",
          "data": {
            "text/plain": [
              "<Figure size 1080x1080 with 0 Axes>"
            ]
          },
          "metadata": {
            "tags": []
          }
        }
      ]
    },
    {
      "cell_type": "code",
      "metadata": {
        "colab": {
          "base_uri": "https://localhost:8080/"
        },
        "id": "YU6KmK65mLwU",
        "outputId": "1b9f7954-e3e4-4baa-f323-509dc8fc68db"
      },
      "source": [
        "# define LSTM model\n",
        "model=None\n",
        "model = Sequential()\n",
        "model.add(LSTM(32, activation='relu', input_shape=(trainX.shape[1], trainX.shape[2]), return_sequences=True))\n",
        "model.add(LSTM(32, activation='relu', return_sequences=False))\n",
        "model.add(Dropout(0.2))\n",
        "model.add(Dense(1))\n",
        "\n",
        "model.compile(optimizer='adam', loss='mse')\n",
        "model.summary()\n"
      ],
      "execution_count": 30,
      "outputs": [
        {
          "output_type": "stream",
          "text": [
            "Model: \"sequential\"\n",
            "_________________________________________________________________\n",
            "Layer (type)                 Output Shape              Param #   \n",
            "=================================================================\n",
            "lstm (LSTM)                  (None, 21, 32)            4480      \n",
            "_________________________________________________________________\n",
            "lstm_1 (LSTM)                (None, 32)                8320      \n",
            "_________________________________________________________________\n",
            "dropout (Dropout)            (None, 32)                0         \n",
            "_________________________________________________________________\n",
            "dense (Dense)                (None, 1)                 33        \n",
            "=================================================================\n",
            "Total params: 12,833\n",
            "Trainable params: 12,833\n",
            "Non-trainable params: 0\n",
            "_________________________________________________________________\n"
          ],
          "name": "stdout"
        }
      ]
    },
    {
      "cell_type": "code",
      "metadata": {
        "colab": {
          "base_uri": "https://localhost:8080/",
          "height": 652
        },
        "id": "sdX8AblHvwNa",
        "outputId": "70f80d7d-0365-4d28-c276-35e51e166771"
      },
      "source": [
        "print('Train...')\n",
        "\n",
        "#fit\n",
        "\n",
        "history = model.fit(trainX, trainY, epochs=10, batch_size=70, validation_split=0.3, verbose=1)\n",
        "# summarize history for loss\n",
        "plt.plot(history.history['loss'])\n",
        "plt.plot(history.history['val_loss'])\n",
        "plt.title('model loss')\n",
        "plt.ylabel('loss')\n",
        "plt.xlabel('epoch')\n",
        "plt.legend(['train', 'test'], loc='upper right')\n",
        "plt.show()\n",
        "\n"
      ],
      "execution_count": 31,
      "outputs": [
        {
          "output_type": "stream",
          "text": [
            "Train...\n",
            "Epoch 1/10\n",
            "7/7 [==============================] - 3s 102ms/step - loss: 0.5270 - val_loss: 2.2371\n",
            "Epoch 2/10\n",
            "7/7 [==============================] - 0s 31ms/step - loss: 0.4572 - val_loss: 2.3151\n",
            "Epoch 3/10\n",
            "7/7 [==============================] - 0s 31ms/step - loss: 0.4139 - val_loss: 2.3463\n",
            "Epoch 4/10\n",
            "7/7 [==============================] - 0s 30ms/step - loss: 0.4363 - val_loss: 2.2981\n",
            "Epoch 5/10\n",
            "7/7 [==============================] - 0s 31ms/step - loss: 0.6293 - val_loss: 2.2730\n",
            "Epoch 6/10\n",
            "7/7 [==============================] - 0s 31ms/step - loss: 0.5529 - val_loss: 2.2671\n",
            "Epoch 7/10\n",
            "7/7 [==============================] - 0s 30ms/step - loss: 0.3951 - val_loss: 2.2733\n",
            "Epoch 8/10\n",
            "7/7 [==============================] - 0s 31ms/step - loss: 0.3902 - val_loss: 2.2748\n",
            "Epoch 9/10\n",
            "7/7 [==============================] - 0s 30ms/step - loss: 0.4318 - val_loss: 2.2630\n",
            "Epoch 10/10\n",
            "7/7 [==============================] - 0s 31ms/step - loss: 0.3686 - val_loss: 2.2606\n"
          ],
          "name": "stdout"
        },
        {
          "output_type": "display_data",
          "data": {
            "image/png": "[encoded data removed]",
            "text/plain": [
              "<Figure size 432x288 with 1 Axes>"
            ]
          },
          "metadata": {
            "tags": [],
            "needs_background": "light"
          }
        }
      ]
    },
    {
      "cell_type": "code",
      "metadata": {
        "colab": {
          "base_uri": "https://localhost:8080/"
        },
        "id": "tMTbEJ2zqOMo",
        "outputId": "ab190e59-f559-4cdb-9c56-ec809bdb10c1"
      },
      "source": [
        "print(len(history.history['loss']))"
      ],
      "execution_count": 32,
      "outputs": [
        {
          "output_type": "stream",
          "text": [
            "10\n"
          ],
          "name": "stdout"
        }
      ]
    },
    {
      "cell_type": "code",
      "metadata": {
        "colab": {
          "base_uri": "https://localhost:8080/"
        },
        "id": "jCHtxebYdFN8",
        "outputId": "cdacd357-8097-43cd-d564-5cbe59cc475f"
      },
      "source": [
        "print(len(train_dates))"
      ],
      "execution_count": 33,
      "outputs": [
        {
          "output_type": "stream",
          "text": [
            "707\n"
          ],
          "name": "stdout"
        }
      ]
    },
    {
      "cell_type": "code",
      "metadata": {
        "id": "2gWtfjS5OZ2y",
        "colab": {
          "base_uri": "https://localhost:8080/",
          "height": 286
        },
        "outputId": "d5b41af9-9d5d-49e5-9bc4-14aaeafe3bae"
      },
      "source": [
        "#Forecasting...\n",
        "#Start with the last day in training date and predict future...\n",
        "n_future=90 #Redefining n_future to extend prediction dates beyond original n_future dates...\n",
        "forecast_period_dates = pd.date_range(list(train_dates)[-1], periods=n_future, freq='1d').tolist()\n",
        "#print(type(forecast_period_dates[0]))\n",
        "\n",
        "forecast = model.predict(trainX[-n_future:]) #forecast \n",
        "#print(forecast)\n",
        "#Perform inverse transformation to rescale back to original range\n",
        "#Since we used 2 variables for transform, the inverse expects same dimensions\n",
        "#Therefore, let us copy our values 2 times and discard them after inverse transform\n",
        "#forecast_copies=None\n",
        "forecast_copies = np.repeat(forecast,2, axis=-1)\n",
        "print(forecast.shape)\n",
        "\n",
        "#Inverse Transform the forecast using previous scaler\n",
        "y_pred_future = scaler.inverse_transform(forecast_copies)[:,:]\n",
        "\n",
        "# Convert timestamp to date\n",
        "forecast_dates = []\n",
        "for time_i in forecast_period_dates:\n",
        "    forecast_dates.append(time_i.date())\n",
        "\n",
        "\n",
        "print(np.array(forecast_dates).shape)\n",
        "print(np.array(y_pred_future[:,0]).shape)\n",
        "    \n",
        "df_forecast = pd.DataFrame({'sales_date':np.array(forecast_dates), 'per_sqft_rate':y_pred_future[:,0]})\n",
        "df_forecast['sales_date']=pd.to_datetime(df_forecast['sales_date'])\n",
        "original = pd.DataFrame()\n",
        "original['per_sqft_rate'] = df_SI['per_sqft_rate']\n",
        "original['sales_date']=train_dates\n",
        "original['sales_date']=pd.to_datetime(original['sales_date'])\n",
        "original=original[0:-1]\n",
        "original = original[original['sales_date'] >= '2020-8-1']\n",
        "original.head()\n",
        "\n"
      ],
      "execution_count": 34,
      "outputs": [
        {
          "output_type": "stream",
          "text": [
            "(90, 1)\n",
            "(90,)\n",
            "(90,)\n"
          ],
          "name": "stdout"
        },
        {
          "output_type": "execute_result",
          "data": {
            "text/html": [
              "<div>\n",
              "<style scoped>\n",
              "    .dataframe tbody tr th:only-of-type {\n",
              "        vertical-align: middle;\n",
              "    }\n",
              "\n",
              "    .dataframe tbody tr th {\n",
              "        vertical-align: top;\n",
              "    }\n",
              "\n",
              "    .dataframe thead th {\n",
              "        text-align: right;\n",
              "    }\n",
              "</style>\n",
              "<table border=\"1\" class=\"dataframe\">\n",
              "  <thead>\n",
              "    <tr style=\"text-align: right;\">\n",
              "      <th></th>\n",
              "      <th>per_sqft_rate</th>\n",
              "      <th>sales_date</th>\n",
              "    </tr>\n",
              "    <tr>\n",
              "      <th>sales_date</th>\n",
              "      <th></th>\n",
              "      <th></th>\n",
              "    </tr>\n",
              "  </thead>\n",
              "  <tbody>\n",
              "    <tr>\n",
              "      <th>2020-08-04</th>\n",
              "      <td>80.005938</td>\n",
              "      <td>2020-08-04</td>\n",
              "    </tr>\n",
              "    <tr>\n",
              "      <th>2020-08-05</th>\n",
              "      <td>65.134760</td>\n",
              "      <td>2020-08-05</td>\n",
              "    </tr>\n",
              "    <tr>\n",
              "      <th>2020-08-06</th>\n",
              "      <td>78.585473</td>\n",
              "      <td>2020-08-06</td>\n",
              "    </tr>\n",
              "    <tr>\n",
              "      <th>2020-08-07</th>\n",
              "      <td>71.157122</td>\n",
              "      <td>2020-08-07</td>\n",
              "    </tr>\n",
              "    <tr>\n",
              "      <th>2020-08-10</th>\n",
              "      <td>98.546042</td>\n",
              "      <td>2020-08-10</td>\n",
              "    </tr>\n",
              "  </tbody>\n",
              "</table>\n",
              "</div>"
            ],
            "text/plain": [
              "            per_sqft_rate sales_date\n",
              "sales_date                          \n",
              "2020-08-04      80.005938 2020-08-04\n",
              "2020-08-05      65.134760 2020-08-05\n",
              "2020-08-06      78.585473 2020-08-06\n",
              "2020-08-07      71.157122 2020-08-07\n",
              "2020-08-10      98.546042 2020-08-10"
            ]
          },
          "metadata": {
            "tags": []
          },
          "execution_count": 34
        }
      ]
    },
    {
      "cell_type": "code",
      "metadata": {
        "colab": {
          "base_uri": "https://localhost:8080/",
          "height": 694
        },
        "id": "ICficRjq7nLt",
        "outputId": "837d245b-5f9c-406d-e2cf-1561a0b3587c"
      },
      "source": [
        "import seaborn as sns\n",
        "plt.figure(figsize=(15,10))\n",
        "sns.lineplot(original['sales_date'], original['per_sqft_rate']);\n",
        "sns.lineplot(df_forecast['sales_date'], df_forecast['per_sqft_rate']);\n"
      ],
      "execution_count": 35,
      "outputs": [
        {
          "output_type": "stream",
          "text": [
            "/usr/local/lib/python3.7/dist-packages/seaborn/_decorators.py:43: FutureWarning: Pass the following variables as keyword args: x, y. From version 0.12, the only valid positional argument will be `data`, and passing other arguments without an explicit keyword will result in an error or misinterpretation.\n",
            "  FutureWarning\n",
            "/usr/local/lib/python3.7/dist-packages/seaborn/_decorators.py:43: FutureWarning: Pass the following variables as keyword args: x, y. From version 0.12, the only valid positional argument will be `data`, and passing other arguments without an explicit keyword will result in an error or misinterpretation.\n",
            "  FutureWarning\n"
          ],
          "name": "stderr"
        },
        {
          "output_type": "display_data",
          "data": {
            "image/png": "[encoded data removed]",
            "text/plain": [
              "<Figure size 1080x720 with 1 Axes>"
            ]
          },
          "metadata": {
            "tags": [],
            "needs_background": "light"
          }
        }
      ]
    }
  ]
}