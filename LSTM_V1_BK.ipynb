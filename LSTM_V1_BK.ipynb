{
  "nbformat": 4,
  "nbformat_minor": 0,
  "metadata": {
    "colab": {
      "name": "LSTM_V1_BK.ipynb",
      "provenance": [],
      "include_colab_link": true
    },
    "kernelspec": {
      "name": "python3",
      "display_name": "Python 3"
    },
    "language_info": {
      "name": "python"
    }
  },
  "cells": [
    {
      "cell_type": "markdown",
      "metadata": {
        "id": "view-in-github",
        "colab_type": "text"
      },
      "source": [
        "<a href=\"https://colab.research.google.com/github/ketkiambekar/masters-research-project/blob/main/LSTM_V1_BK.ipynb\" target=\"_parent\"><img src=\"https://colab.research.google.com/assets/colab-badge.svg\" alt=\"Open In Colab\"/></a>"
      ]
    },
    {
      "cell_type": "code",
      "metadata": {
        "id": "qsY91EM5vaTK",
        "colab": {
          "base_uri": "https://localhost:8080/"
        },
        "outputId": "d0040952-9dc5-447c-963a-416ec9175615"
      },
      "source": [
        "from google.colab import drive\n",
        "drive.mount('/content/drive')"
      ],
      "execution_count": 27,
      "outputs": [
        {
          "output_type": "stream",
          "text": [
            "Drive already mounted at /content/drive; to attempt to forcibly remount, call drive.mount(\"/content/drive\", force_remount=True).\n"
          ],
          "name": "stdout"
        }
      ]
    },
    {
      "cell_type": "code",
      "metadata": {
        "colab": {
          "base_uri": "https://localhost:8080/"
        },
        "id": "y5rwvKysc5cv",
        "outputId": "6e56a766-8934-4c46-d779-5a2be2e1fe10"
      },
      "source": [
        "%cd drive/MyDrive/KetkiAmbekar/Raw\\ Data\\ Files\n",
        "%pwd\n",
        "%ls"
      ],
      "execution_count": 28,
      "outputs": [
        {
          "output_type": "stream",
          "text": [
            "[Errno 2] No such file or directory: 'drive/MyDrive/KetkiAmbekar/Raw Data Files'\n",
            "/content/drive/.shortcut-targets-by-id/1zDGtpS_EJdRSKz3jZptcq5k6f4jqXBwI/KetkiAmbekar/Raw Data Files\n",
            " covid_BK.xlsx                   NYC_housing_prices_dropped_na.csv\n",
            " covid_BX.xlsx                   NYC_Housing_prices_dropped_values.csv\n",
            " covid_MN.xlsx                   NYC_HP_LSTM.csv\n",
            " covid_QN.xlsx                  'nyc_pluto_20v7_csv(1).zip'\n",
            " covid_real_estate.csv           nyc_pluto_20v7_csv.zip\n",
            " covid_SI.xlsx                   nyc_real_estate_PLUTO_+_Final.csv\n",
            " nyc_dataset_final.xlsx          pluto_20v7.csv\n",
            " NYC_housing_prices_dropped_na   \u001b[0m\u001b[01;34mTemperatures\u001b[0m/\n"
          ],
          "name": "stdout"
        }
      ]
    },
    {
      "cell_type": "code",
      "metadata": {
        "id": "YhI7JxKXP5p4"
      },
      "source": [
        "#Import Libraries\n",
        "import matplotlib.pyplot as plt\n",
        "import pandas as pd\n",
        "import math\n",
        "import numpy as np\n",
        "from keras.models import Sequential\n",
        "from keras.layers import Dense, Dropout\n",
        "from keras.layers import LSTM\n",
        "from sklearn.preprocessing import StandardScaler\n",
        "from sklearn.metrics import mean_squared_error\n",
        "\n",
        "\n",
        "# fix random seed for reproducibility\n",
        "np.random.seed(7)"
      ],
      "execution_count": 29,
      "outputs": []
    },
    {
      "cell_type": "code",
      "metadata": {
        "id": "ihOvRWPGPXg3",
        "colab": {
          "base_uri": "https://localhost:8080/",
          "height": 419
        },
        "outputId": "db97a54a-e1c5-4e20-cf52-bf16d171c370"
      },
      "source": [
        "# load the dataset\n",
        "#df = pd.read_csv('NYC_HP_LSTM.csv', engine='python', index_col='sales_date', parse_dates=True )\n",
        "df = pd.read_csv('NYC_HP_LSTM.csv', engine='python', parse_dates=True )\n",
        "df\n"
      ],
      "execution_count": 56,
      "outputs": [
        {
          "output_type": "execute_result",
          "data": {
            "text/html": [
              "<div>\n",
              "<style scoped>\n",
              "    .dataframe tbody tr th:only-of-type {\n",
              "        vertical-align: middle;\n",
              "    }\n",
              "\n",
              "    .dataframe tbody tr th {\n",
              "        vertical-align: top;\n",
              "    }\n",
              "\n",
              "    .dataframe thead th {\n",
              "        text-align: right;\n",
              "    }\n",
              "</style>\n",
              "<table border=\"1\" class=\"dataframe\">\n",
              "  <thead>\n",
              "    <tr style=\"text-align: right;\">\n",
              "      <th></th>\n",
              "      <th>Unnamed: 0</th>\n",
              "      <th>borough_BK</th>\n",
              "      <th>borough_BX</th>\n",
              "      <th>borough_MN</th>\n",
              "      <th>borough_QN</th>\n",
              "      <th>borough_SI</th>\n",
              "      <th>tot_area</th>\n",
              "      <th>covid_cases</th>\n",
              "      <th>sales_date</th>\n",
              "      <th>sales_price</th>\n",
              "    </tr>\n",
              "  </thead>\n",
              "  <tbody>\n",
              "    <tr>\n",
              "      <th>0</th>\n",
              "      <td>0</td>\n",
              "      <td>1.0</td>\n",
              "      <td>0.0</td>\n",
              "      <td>0.0</td>\n",
              "      <td>0.0</td>\n",
              "      <td>0.0</td>\n",
              "      <td>66638.0</td>\n",
              "      <td>1608</td>\n",
              "      <td>2020-08-31</td>\n",
              "      <td>5585336</td>\n",
              "    </tr>\n",
              "    <tr>\n",
              "      <th>1</th>\n",
              "      <td>1</td>\n",
              "      <td>1.0</td>\n",
              "      <td>0.0</td>\n",
              "      <td>0.0</td>\n",
              "      <td>0.0</td>\n",
              "      <td>0.0</td>\n",
              "      <td>8300.0</td>\n",
              "      <td>1608</td>\n",
              "      <td>2020-08-31</td>\n",
              "      <td>1643000</td>\n",
              "    </tr>\n",
              "    <tr>\n",
              "      <th>2</th>\n",
              "      <td>2</td>\n",
              "      <td>1.0</td>\n",
              "      <td>0.0</td>\n",
              "      <td>0.0</td>\n",
              "      <td>0.0</td>\n",
              "      <td>0.0</td>\n",
              "      <td>7488.0</td>\n",
              "      <td>1608</td>\n",
              "      <td>2020-08-31</td>\n",
              "      <td>1200000</td>\n",
              "    </tr>\n",
              "    <tr>\n",
              "      <th>3</th>\n",
              "      <td>3</td>\n",
              "      <td>1.0</td>\n",
              "      <td>0.0</td>\n",
              "      <td>0.0</td>\n",
              "      <td>0.0</td>\n",
              "      <td>0.0</td>\n",
              "      <td>6429.0</td>\n",
              "      <td>1608</td>\n",
              "      <td>2020-08-31</td>\n",
              "      <td>735000</td>\n",
              "    </tr>\n",
              "    <tr>\n",
              "      <th>4</th>\n",
              "      <td>4</td>\n",
              "      <td>1.0</td>\n",
              "      <td>0.0</td>\n",
              "      <td>0.0</td>\n",
              "      <td>0.0</td>\n",
              "      <td>0.0</td>\n",
              "      <td>7000.0</td>\n",
              "      <td>1608</td>\n",
              "      <td>2020-08-31</td>\n",
              "      <td>775000</td>\n",
              "    </tr>\n",
              "    <tr>\n",
              "      <th>...</th>\n",
              "      <td>...</td>\n",
              "      <td>...</td>\n",
              "      <td>...</td>\n",
              "      <td>...</td>\n",
              "      <td>...</td>\n",
              "      <td>...</td>\n",
              "      <td>...</td>\n",
              "      <td>...</td>\n",
              "      <td>...</td>\n",
              "      <td>...</td>\n",
              "    </tr>\n",
              "    <tr>\n",
              "      <th>76837</th>\n",
              "      <td>76837</td>\n",
              "      <td>0.0</td>\n",
              "      <td>0.0</td>\n",
              "      <td>0.0</td>\n",
              "      <td>0.0</td>\n",
              "      <td>1.0</td>\n",
              "      <td>5264.0</td>\n",
              "      <td>0</td>\n",
              "      <td>2018-01-02</td>\n",
              "      <td>680000</td>\n",
              "    </tr>\n",
              "    <tr>\n",
              "      <th>76838</th>\n",
              "      <td>76838</td>\n",
              "      <td>0.0</td>\n",
              "      <td>0.0</td>\n",
              "      <td>0.0</td>\n",
              "      <td>0.0</td>\n",
              "      <td>1.0</td>\n",
              "      <td>10268.0</td>\n",
              "      <td>0</td>\n",
              "      <td>2018-01-02</td>\n",
              "      <td>400000</td>\n",
              "    </tr>\n",
              "    <tr>\n",
              "      <th>76839</th>\n",
              "      <td>76839</td>\n",
              "      <td>0.0</td>\n",
              "      <td>0.0</td>\n",
              "      <td>0.0</td>\n",
              "      <td>0.0</td>\n",
              "      <td>1.0</td>\n",
              "      <td>4901.0</td>\n",
              "      <td>0</td>\n",
              "      <td>2018-01-02</td>\n",
              "      <td>565000</td>\n",
              "    </tr>\n",
              "    <tr>\n",
              "      <th>76840</th>\n",
              "      <td>76840</td>\n",
              "      <td>0.0</td>\n",
              "      <td>0.0</td>\n",
              "      <td>0.0</td>\n",
              "      <td>0.0</td>\n",
              "      <td>1.0</td>\n",
              "      <td>6525.0</td>\n",
              "      <td>0</td>\n",
              "      <td>2018-01-02</td>\n",
              "      <td>499500</td>\n",
              "    </tr>\n",
              "    <tr>\n",
              "      <th>76841</th>\n",
              "      <td>76841</td>\n",
              "      <td>0.0</td>\n",
              "      <td>0.0</td>\n",
              "      <td>0.0</td>\n",
              "      <td>0.0</td>\n",
              "      <td>1.0</td>\n",
              "      <td>8300.0</td>\n",
              "      <td>0</td>\n",
              "      <td>2018-01-02</td>\n",
              "      <td>685000</td>\n",
              "    </tr>\n",
              "  </tbody>\n",
              "</table>\n",
              "<p>76842 rows × 10 columns</p>\n",
              "</div>"
            ],
            "text/plain": [
              "       Unnamed: 0  borough_BK  borough_BX  ...  covid_cases  sales_date  sales_price\n",
              "0               0         1.0         0.0  ...         1608  2020-08-31      5585336\n",
              "1               1         1.0         0.0  ...         1608  2020-08-31      1643000\n",
              "2               2         1.0         0.0  ...         1608  2020-08-31      1200000\n",
              "3               3         1.0         0.0  ...         1608  2020-08-31       735000\n",
              "4               4         1.0         0.0  ...         1608  2020-08-31       775000\n",
              "...           ...         ...         ...  ...          ...         ...          ...\n",
              "76837       76837         0.0         0.0  ...            0  2018-01-02       680000\n",
              "76838       76838         0.0         0.0  ...            0  2018-01-02       400000\n",
              "76839       76839         0.0         0.0  ...            0  2018-01-02       565000\n",
              "76840       76840         0.0         0.0  ...            0  2018-01-02       499500\n",
              "76841       76841         0.0         0.0  ...            0  2018-01-02       685000\n",
              "\n",
              "[76842 rows x 10 columns]"
            ]
          },
          "metadata": {
            "tags": []
          },
          "execution_count": 56
        }
      ]
    },
    {
      "cell_type": "code",
      "metadata": {
        "colab": {
          "base_uri": "https://localhost:8080/",
          "height": 204
        },
        "id": "BUyuHFMfhsWy",
        "outputId": "6668ec46-98f8-4796-88d8-802bfe97d195"
      },
      "source": [
        "df.drop(columns=['Unnamed: 0'], inplace=True)\n",
        "df.head()"
      ],
      "execution_count": 57,
      "outputs": [
        {
          "output_type": "execute_result",
          "data": {
            "text/html": [
              "<div>\n",
              "<style scoped>\n",
              "    .dataframe tbody tr th:only-of-type {\n",
              "        vertical-align: middle;\n",
              "    }\n",
              "\n",
              "    .dataframe tbody tr th {\n",
              "        vertical-align: top;\n",
              "    }\n",
              "\n",
              "    .dataframe thead th {\n",
              "        text-align: right;\n",
              "    }\n",
              "</style>\n",
              "<table border=\"1\" class=\"dataframe\">\n",
              "  <thead>\n",
              "    <tr style=\"text-align: right;\">\n",
              "      <th></th>\n",
              "      <th>borough_BK</th>\n",
              "      <th>borough_BX</th>\n",
              "      <th>borough_MN</th>\n",
              "      <th>borough_QN</th>\n",
              "      <th>borough_SI</th>\n",
              "      <th>tot_area</th>\n",
              "      <th>covid_cases</th>\n",
              "      <th>sales_date</th>\n",
              "      <th>sales_price</th>\n",
              "    </tr>\n",
              "  </thead>\n",
              "  <tbody>\n",
              "    <tr>\n",
              "      <th>0</th>\n",
              "      <td>1.0</td>\n",
              "      <td>0.0</td>\n",
              "      <td>0.0</td>\n",
              "      <td>0.0</td>\n",
              "      <td>0.0</td>\n",
              "      <td>66638.0</td>\n",
              "      <td>1608</td>\n",
              "      <td>2020-08-31</td>\n",
              "      <td>5585336</td>\n",
              "    </tr>\n",
              "    <tr>\n",
              "      <th>1</th>\n",
              "      <td>1.0</td>\n",
              "      <td>0.0</td>\n",
              "      <td>0.0</td>\n",
              "      <td>0.0</td>\n",
              "      <td>0.0</td>\n",
              "      <td>8300.0</td>\n",
              "      <td>1608</td>\n",
              "      <td>2020-08-31</td>\n",
              "      <td>1643000</td>\n",
              "    </tr>\n",
              "    <tr>\n",
              "      <th>2</th>\n",
              "      <td>1.0</td>\n",
              "      <td>0.0</td>\n",
              "      <td>0.0</td>\n",
              "      <td>0.0</td>\n",
              "      <td>0.0</td>\n",
              "      <td>7488.0</td>\n",
              "      <td>1608</td>\n",
              "      <td>2020-08-31</td>\n",
              "      <td>1200000</td>\n",
              "    </tr>\n",
              "    <tr>\n",
              "      <th>3</th>\n",
              "      <td>1.0</td>\n",
              "      <td>0.0</td>\n",
              "      <td>0.0</td>\n",
              "      <td>0.0</td>\n",
              "      <td>0.0</td>\n",
              "      <td>6429.0</td>\n",
              "      <td>1608</td>\n",
              "      <td>2020-08-31</td>\n",
              "      <td>735000</td>\n",
              "    </tr>\n",
              "    <tr>\n",
              "      <th>4</th>\n",
              "      <td>1.0</td>\n",
              "      <td>0.0</td>\n",
              "      <td>0.0</td>\n",
              "      <td>0.0</td>\n",
              "      <td>0.0</td>\n",
              "      <td>7000.0</td>\n",
              "      <td>1608</td>\n",
              "      <td>2020-08-31</td>\n",
              "      <td>775000</td>\n",
              "    </tr>\n",
              "  </tbody>\n",
              "</table>\n",
              "</div>"
            ],
            "text/plain": [
              "   borough_BK  borough_BX  borough_MN  ...  covid_cases  sales_date  sales_price\n",
              "0         1.0         0.0         0.0  ...         1608  2020-08-31      5585336\n",
              "1         1.0         0.0         0.0  ...         1608  2020-08-31      1643000\n",
              "2         1.0         0.0         0.0  ...         1608  2020-08-31      1200000\n",
              "3         1.0         0.0         0.0  ...         1608  2020-08-31       735000\n",
              "4         1.0         0.0         0.0  ...         1608  2020-08-31       775000\n",
              "\n",
              "[5 rows x 9 columns]"
            ]
          },
          "metadata": {
            "tags": []
          },
          "execution_count": 57
        }
      ]
    },
    {
      "cell_type": "code",
      "metadata": {
        "colab": {
          "base_uri": "https://localhost:8080/"
        },
        "id": "eFB3RASUv8f-",
        "outputId": "6afec2b0-046d-47ad-ac03-7ceead1230aa"
      },
      "source": [
        "df.info()"
      ],
      "execution_count": 58,
      "outputs": [
        {
          "output_type": "stream",
          "text": [
            "<class 'pandas.core.frame.DataFrame'>\n",
            "RangeIndex: 76842 entries, 0 to 76841\n",
            "Data columns (total 9 columns):\n",
            " #   Column       Non-Null Count  Dtype  \n",
            "---  ------       --------------  -----  \n",
            " 0   borough_BK   76842 non-null  float64\n",
            " 1   borough_BX   76842 non-null  float64\n",
            " 2   borough_MN   76842 non-null  float64\n",
            " 3   borough_QN   76842 non-null  float64\n",
            " 4   borough_SI   76842 non-null  float64\n",
            " 5   tot_area     76842 non-null  float64\n",
            " 6   covid_cases  76842 non-null  int64  \n",
            " 7   sales_date   76842 non-null  object \n",
            " 8   sales_price  76842 non-null  int64  \n",
            "dtypes: float64(6), int64(2), object(1)\n",
            "memory usage: 5.3+ MB\n"
          ],
          "name": "stdout"
        }
      ]
    },
    {
      "cell_type": "code",
      "metadata": {
        "id": "M0hh3-ybwVrz"
      },
      "source": [
        "df['covid_cases']=df.covid_cases.astype('float64')\n",
        "df['sales_price']=df.sales_price.astype('float64')\n",
        "df['per_sqft_rate']=df['sales_price']/df['tot_area']"
      ],
      "execution_count": 59,
      "outputs": []
    },
    {
      "cell_type": "code",
      "metadata": {
        "id": "o9RKRW9rDsEj",
        "colab": {
          "base_uri": "https://localhost:8080/",
          "height": 204
        },
        "outputId": "841f161f-3432-4bda-bf1a-7cf40cecf735"
      },
      "source": [
        "df.head()"
      ],
      "execution_count": 60,
      "outputs": [
        {
          "output_type": "execute_result",
          "data": {
            "text/html": [
              "<div>\n",
              "<style scoped>\n",
              "    .dataframe tbody tr th:only-of-type {\n",
              "        vertical-align: middle;\n",
              "    }\n",
              "\n",
              "    .dataframe tbody tr th {\n",
              "        vertical-align: top;\n",
              "    }\n",
              "\n",
              "    .dataframe thead th {\n",
              "        text-align: right;\n",
              "    }\n",
              "</style>\n",
              "<table border=\"1\" class=\"dataframe\">\n",
              "  <thead>\n",
              "    <tr style=\"text-align: right;\">\n",
              "      <th></th>\n",
              "      <th>borough_BK</th>\n",
              "      <th>borough_BX</th>\n",
              "      <th>borough_MN</th>\n",
              "      <th>borough_QN</th>\n",
              "      <th>borough_SI</th>\n",
              "      <th>tot_area</th>\n",
              "      <th>covid_cases</th>\n",
              "      <th>sales_date</th>\n",
              "      <th>sales_price</th>\n",
              "      <th>per_sqft_rate</th>\n",
              "    </tr>\n",
              "  </thead>\n",
              "  <tbody>\n",
              "    <tr>\n",
              "      <th>0</th>\n",
              "      <td>1.0</td>\n",
              "      <td>0.0</td>\n",
              "      <td>0.0</td>\n",
              "      <td>0.0</td>\n",
              "      <td>0.0</td>\n",
              "      <td>66638.0</td>\n",
              "      <td>1608.0</td>\n",
              "      <td>2020-08-31</td>\n",
              "      <td>5585336.0</td>\n",
              "      <td>83.816081</td>\n",
              "    </tr>\n",
              "    <tr>\n",
              "      <th>1</th>\n",
              "      <td>1.0</td>\n",
              "      <td>0.0</td>\n",
              "      <td>0.0</td>\n",
              "      <td>0.0</td>\n",
              "      <td>0.0</td>\n",
              "      <td>8300.0</td>\n",
              "      <td>1608.0</td>\n",
              "      <td>2020-08-31</td>\n",
              "      <td>1643000.0</td>\n",
              "      <td>197.951807</td>\n",
              "    </tr>\n",
              "    <tr>\n",
              "      <th>2</th>\n",
              "      <td>1.0</td>\n",
              "      <td>0.0</td>\n",
              "      <td>0.0</td>\n",
              "      <td>0.0</td>\n",
              "      <td>0.0</td>\n",
              "      <td>7488.0</td>\n",
              "      <td>1608.0</td>\n",
              "      <td>2020-08-31</td>\n",
              "      <td>1200000.0</td>\n",
              "      <td>160.256410</td>\n",
              "    </tr>\n",
              "    <tr>\n",
              "      <th>3</th>\n",
              "      <td>1.0</td>\n",
              "      <td>0.0</td>\n",
              "      <td>0.0</td>\n",
              "      <td>0.0</td>\n",
              "      <td>0.0</td>\n",
              "      <td>6429.0</td>\n",
              "      <td>1608.0</td>\n",
              "      <td>2020-08-31</td>\n",
              "      <td>735000.0</td>\n",
              "      <td>114.325712</td>\n",
              "    </tr>\n",
              "    <tr>\n",
              "      <th>4</th>\n",
              "      <td>1.0</td>\n",
              "      <td>0.0</td>\n",
              "      <td>0.0</td>\n",
              "      <td>0.0</td>\n",
              "      <td>0.0</td>\n",
              "      <td>7000.0</td>\n",
              "      <td>1608.0</td>\n",
              "      <td>2020-08-31</td>\n",
              "      <td>775000.0</td>\n",
              "      <td>110.714286</td>\n",
              "    </tr>\n",
              "  </tbody>\n",
              "</table>\n",
              "</div>"
            ],
            "text/plain": [
              "   borough_BK  borough_BX  borough_MN  ...  sales_date  sales_price  per_sqft_rate\n",
              "0         1.0         0.0         0.0  ...  2020-08-31    5585336.0      83.816081\n",
              "1         1.0         0.0         0.0  ...  2020-08-31    1643000.0     197.951807\n",
              "2         1.0         0.0         0.0  ...  2020-08-31    1200000.0     160.256410\n",
              "3         1.0         0.0         0.0  ...  2020-08-31     735000.0     114.325712\n",
              "4         1.0         0.0         0.0  ...  2020-08-31     775000.0     110.714286\n",
              "\n",
              "[5 rows x 10 columns]"
            ]
          },
          "metadata": {
            "tags": []
          },
          "execution_count": 60
        }
      ]
    },
    {
      "cell_type": "code",
      "metadata": {
        "colab": {
          "base_uri": "https://localhost:8080/",
          "height": 419
        },
        "id": "9UoUyMlozv-3",
        "outputId": "e52c08f5-da3a-4c7d-a3cf-0f2ec0fbcbd0"
      },
      "source": [
        "#We need to separate boroughs Let's first create a model for Brooklyn only\n",
        "\n",
        "df_BK = df[df['borough_BK']==1.0]\n",
        "df_BK = df_BK[['tot_area', 'covid_cases', 'sales_date','sales_price','per_sqft_rate' ]]\n",
        "df_BK"
      ],
      "execution_count": 62,
      "outputs": [
        {
          "output_type": "execute_result",
          "data": {
            "text/html": [
              "<div>\n",
              "<style scoped>\n",
              "    .dataframe tbody tr th:only-of-type {\n",
              "        vertical-align: middle;\n",
              "    }\n",
              "\n",
              "    .dataframe tbody tr th {\n",
              "        vertical-align: top;\n",
              "    }\n",
              "\n",
              "    .dataframe thead th {\n",
              "        text-align: right;\n",
              "    }\n",
              "</style>\n",
              "<table border=\"1\" class=\"dataframe\">\n",
              "  <thead>\n",
              "    <tr style=\"text-align: right;\">\n",
              "      <th></th>\n",
              "      <th>tot_area</th>\n",
              "      <th>covid_cases</th>\n",
              "      <th>sales_date</th>\n",
              "      <th>sales_price</th>\n",
              "      <th>per_sqft_rate</th>\n",
              "    </tr>\n",
              "  </thead>\n",
              "  <tbody>\n",
              "    <tr>\n",
              "      <th>0</th>\n",
              "      <td>66638.0</td>\n",
              "      <td>1608.0</td>\n",
              "      <td>2020-08-31</td>\n",
              "      <td>5585336.0</td>\n",
              "      <td>83.816081</td>\n",
              "    </tr>\n",
              "    <tr>\n",
              "      <th>1</th>\n",
              "      <td>8300.0</td>\n",
              "      <td>1608.0</td>\n",
              "      <td>2020-08-31</td>\n",
              "      <td>1643000.0</td>\n",
              "      <td>197.951807</td>\n",
              "    </tr>\n",
              "    <tr>\n",
              "      <th>2</th>\n",
              "      <td>7488.0</td>\n",
              "      <td>1608.0</td>\n",
              "      <td>2020-08-31</td>\n",
              "      <td>1200000.0</td>\n",
              "      <td>160.256410</td>\n",
              "    </tr>\n",
              "    <tr>\n",
              "      <th>3</th>\n",
              "      <td>6429.0</td>\n",
              "      <td>1608.0</td>\n",
              "      <td>2020-08-31</td>\n",
              "      <td>735000.0</td>\n",
              "      <td>114.325712</td>\n",
              "    </tr>\n",
              "    <tr>\n",
              "      <th>4</th>\n",
              "      <td>7000.0</td>\n",
              "      <td>1608.0</td>\n",
              "      <td>2020-08-31</td>\n",
              "      <td>775000.0</td>\n",
              "      <td>110.714286</td>\n",
              "    </tr>\n",
              "    <tr>\n",
              "      <th>...</th>\n",
              "      <td>...</td>\n",
              "      <td>...</td>\n",
              "      <td>...</td>\n",
              "      <td>...</td>\n",
              "      <td>...</td>\n",
              "    </tr>\n",
              "    <tr>\n",
              "      <th>20096</th>\n",
              "      <td>7024.0</td>\n",
              "      <td>0.0</td>\n",
              "      <td>2018-01-02</td>\n",
              "      <td>1270000.0</td>\n",
              "      <td>180.808656</td>\n",
              "    </tr>\n",
              "    <tr>\n",
              "      <th>20097</th>\n",
              "      <td>358240.0</td>\n",
              "      <td>0.0</td>\n",
              "      <td>2018-01-02</td>\n",
              "      <td>213000.0</td>\n",
              "      <td>0.594573</td>\n",
              "    </tr>\n",
              "    <tr>\n",
              "      <th>20098</th>\n",
              "      <td>5346.0</td>\n",
              "      <td>0.0</td>\n",
              "      <td>2018-01-02</td>\n",
              "      <td>200000.0</td>\n",
              "      <td>37.411149</td>\n",
              "    </tr>\n",
              "    <tr>\n",
              "      <th>20099</th>\n",
              "      <td>3826.0</td>\n",
              "      <td>0.0</td>\n",
              "      <td>2018-01-02</td>\n",
              "      <td>505000.0</td>\n",
              "      <td>131.991636</td>\n",
              "    </tr>\n",
              "    <tr>\n",
              "      <th>20100</th>\n",
              "      <td>6674.0</td>\n",
              "      <td>0.0</td>\n",
              "      <td>2018-01-02</td>\n",
              "      <td>400000.0</td>\n",
              "      <td>59.934073</td>\n",
              "    </tr>\n",
              "  </tbody>\n",
              "</table>\n",
              "<p>20101 rows × 5 columns</p>\n",
              "</div>"
            ],
            "text/plain": [
              "       tot_area  covid_cases  sales_date  sales_price  per_sqft_rate\n",
              "0       66638.0       1608.0  2020-08-31    5585336.0      83.816081\n",
              "1        8300.0       1608.0  2020-08-31    1643000.0     197.951807\n",
              "2        7488.0       1608.0  2020-08-31    1200000.0     160.256410\n",
              "3        6429.0       1608.0  2020-08-31     735000.0     114.325712\n",
              "4        7000.0       1608.0  2020-08-31     775000.0     110.714286\n",
              "...         ...          ...         ...          ...            ...\n",
              "20096    7024.0          0.0  2018-01-02    1270000.0     180.808656\n",
              "20097  358240.0          0.0  2018-01-02     213000.0       0.594573\n",
              "20098    5346.0          0.0  2018-01-02     200000.0      37.411149\n",
              "20099    3826.0          0.0  2018-01-02     505000.0     131.991636\n",
              "20100    6674.0          0.0  2018-01-02     400000.0      59.934073\n",
              "\n",
              "[20101 rows x 5 columns]"
            ]
          },
          "metadata": {
            "tags": []
          },
          "execution_count": 62
        }
      ]
    },
    {
      "cell_type": "code",
      "metadata": {
        "id": "K-JxYd7yH-gw"
      },
      "source": [
        "sales_date = df['sales_date']"
      ],
      "execution_count": 63,
      "outputs": []
    },
    {
      "cell_type": "code",
      "metadata": {
        "colab": {
          "base_uri": "https://localhost:8080/",
          "height": 450
        },
        "id": "LBpoFhesgl__",
        "outputId": "97dd465d-fd8b-4eb7-a5b4-877d9e060c73"
      },
      "source": [
        "#We ensure, one datapoint per date. \n",
        "#We therefore, groupby sales_date column and aggregate over per_sqft_rate column on it's mean andchoose max number of covid_cases.\n",
        "df_BK=df_BK.groupby([\"sales_date\"]).agg({'per_sqft_rate':'mean', 'covid_cases':'max'})\n",
        "df_BK"
      ],
      "execution_count": 64,
      "outputs": [
        {
          "output_type": "execute_result",
          "data": {
            "text/html": [
              "<div>\n",
              "<style scoped>\n",
              "    .dataframe tbody tr th:only-of-type {\n",
              "        vertical-align: middle;\n",
              "    }\n",
              "\n",
              "    .dataframe tbody tr th {\n",
              "        vertical-align: top;\n",
              "    }\n",
              "\n",
              "    .dataframe thead th {\n",
              "        text-align: right;\n",
              "    }\n",
              "</style>\n",
              "<table border=\"1\" class=\"dataframe\">\n",
              "  <thead>\n",
              "    <tr style=\"text-align: right;\">\n",
              "      <th></th>\n",
              "      <th>per_sqft_rate</th>\n",
              "      <th>covid_cases</th>\n",
              "    </tr>\n",
              "    <tr>\n",
              "      <th>sales_date</th>\n",
              "      <th></th>\n",
              "      <th></th>\n",
              "    </tr>\n",
              "  </thead>\n",
              "  <tbody>\n",
              "    <tr>\n",
              "      <th>2018-01-02</th>\n",
              "      <td>192.782887</td>\n",
              "      <td>0.0</td>\n",
              "    </tr>\n",
              "    <tr>\n",
              "      <th>2018-01-03</th>\n",
              "      <td>101.595929</td>\n",
              "      <td>0.0</td>\n",
              "    </tr>\n",
              "    <tr>\n",
              "      <th>2018-01-04</th>\n",
              "      <td>115.135626</td>\n",
              "      <td>0.0</td>\n",
              "    </tr>\n",
              "    <tr>\n",
              "      <th>2018-01-05</th>\n",
              "      <td>138.580350</td>\n",
              "      <td>0.0</td>\n",
              "    </tr>\n",
              "    <tr>\n",
              "      <th>2018-01-07</th>\n",
              "      <td>53.516820</td>\n",
              "      <td>0.0</td>\n",
              "    </tr>\n",
              "    <tr>\n",
              "      <th>...</th>\n",
              "      <td>...</td>\n",
              "      <td>...</td>\n",
              "    </tr>\n",
              "    <tr>\n",
              "      <th>2020-08-25</th>\n",
              "      <td>152.301999</td>\n",
              "      <td>1608.0</td>\n",
              "    </tr>\n",
              "    <tr>\n",
              "      <th>2020-08-26</th>\n",
              "      <td>211.410674</td>\n",
              "      <td>1608.0</td>\n",
              "    </tr>\n",
              "    <tr>\n",
              "      <th>2020-08-27</th>\n",
              "      <td>160.964074</td>\n",
              "      <td>1608.0</td>\n",
              "    </tr>\n",
              "    <tr>\n",
              "      <th>2020-08-28</th>\n",
              "      <td>119.994769</td>\n",
              "      <td>1608.0</td>\n",
              "    </tr>\n",
              "    <tr>\n",
              "      <th>2020-08-31</th>\n",
              "      <td>120.566169</td>\n",
              "      <td>1608.0</td>\n",
              "    </tr>\n",
              "  </tbody>\n",
              "</table>\n",
              "<p>733 rows × 2 columns</p>\n",
              "</div>"
            ],
            "text/plain": [
              "            per_sqft_rate  covid_cases\n",
              "sales_date                            \n",
              "2018-01-02     192.782887          0.0\n",
              "2018-01-03     101.595929          0.0\n",
              "2018-01-04     115.135626          0.0\n",
              "2018-01-05     138.580350          0.0\n",
              "2018-01-07      53.516820          0.0\n",
              "...                   ...          ...\n",
              "2020-08-25     152.301999       1608.0\n",
              "2020-08-26     211.410674       1608.0\n",
              "2020-08-27     160.964074       1608.0\n",
              "2020-08-28     119.994769       1608.0\n",
              "2020-08-31     120.566169       1608.0\n",
              "\n",
              "[733 rows x 2 columns]"
            ]
          },
          "metadata": {
            "tags": []
          },
          "execution_count": 64
        }
      ]
    },
    {
      "cell_type": "code",
      "metadata": {
        "colab": {
          "base_uri": "https://localhost:8080/",
          "height": 297
        },
        "id": "u3ebwcjBwp6x",
        "outputId": "e69e679d-4f84-40ab-b1eb-6d0ccec7fc73"
      },
      "source": [
        "df_BK.describe()"
      ],
      "execution_count": 65,
      "outputs": [
        {
          "output_type": "execute_result",
          "data": {
            "text/html": [
              "<div>\n",
              "<style scoped>\n",
              "    .dataframe tbody tr th:only-of-type {\n",
              "        vertical-align: middle;\n",
              "    }\n",
              "\n",
              "    .dataframe tbody tr th {\n",
              "        vertical-align: top;\n",
              "    }\n",
              "\n",
              "    .dataframe thead th {\n",
              "        text-align: right;\n",
              "    }\n",
              "</style>\n",
              "<table border=\"1\" class=\"dataframe\">\n",
              "  <thead>\n",
              "    <tr style=\"text-align: right;\">\n",
              "      <th></th>\n",
              "      <th>per_sqft_rate</th>\n",
              "      <th>covid_cases</th>\n",
              "    </tr>\n",
              "  </thead>\n",
              "  <tbody>\n",
              "    <tr>\n",
              "      <th>count</th>\n",
              "      <td>733.000000</td>\n",
              "      <td>733.000000</td>\n",
              "    </tr>\n",
              "    <tr>\n",
              "      <th>mean</th>\n",
              "      <td>155.399371</td>\n",
              "      <td>1635.724420</td>\n",
              "    </tr>\n",
              "    <tr>\n",
              "      <th>std</th>\n",
              "      <td>71.809305</td>\n",
              "      <td>5178.086032</td>\n",
              "    </tr>\n",
              "    <tr>\n",
              "      <th>min</th>\n",
              "      <td>0.399773</td>\n",
              "      <td>0.000000</td>\n",
              "    </tr>\n",
              "    <tr>\n",
              "      <th>25%</th>\n",
              "      <td>126.699209</td>\n",
              "      <td>0.000000</td>\n",
              "    </tr>\n",
              "    <tr>\n",
              "      <th>50%</th>\n",
              "      <td>152.025116</td>\n",
              "      <td>0.000000</td>\n",
              "    </tr>\n",
              "    <tr>\n",
              "      <th>75%</th>\n",
              "      <td>172.814200</td>\n",
              "      <td>0.000000</td>\n",
              "    </tr>\n",
              "    <tr>\n",
              "      <th>max</th>\n",
              "      <td>1065.952914</td>\n",
              "      <td>26878.000000</td>\n",
              "    </tr>\n",
              "  </tbody>\n",
              "</table>\n",
              "</div>"
            ],
            "text/plain": [
              "       per_sqft_rate   covid_cases\n",
              "count     733.000000    733.000000\n",
              "mean      155.399371   1635.724420\n",
              "std        71.809305   5178.086032\n",
              "min         0.399773      0.000000\n",
              "25%       126.699209      0.000000\n",
              "50%       152.025116      0.000000\n",
              "75%       172.814200      0.000000\n",
              "max      1065.952914  26878.000000"
            ]
          },
          "metadata": {
            "tags": []
          },
          "execution_count": 65
        }
      ]
    },
    {
      "cell_type": "code",
      "metadata": {
        "id": "bzXz0_0bPhWV",
        "colab": {
          "base_uri": "https://localhost:8080/"
        },
        "outputId": "913ba00c-d186-4712-e8db-2d98effefd14"
      },
      "source": [
        "#LSTM uses sigmoid and tanh that are sensitive to magnitude so values need to be normalized\n",
        "# normalize the dataset\n",
        "print(df_BK.shape)\n",
        "scaler = StandardScaler()\n",
        "scaler = scaler.fit(df_BK)\n",
        "df_scaled = scaler.transform(df_BK)\n",
        "df_scaled"
      ],
      "execution_count": 66,
      "outputs": [
        {
          "output_type": "stream",
          "text": [
            "(733, 2)\n"
          ],
          "name": "stdout"
        },
        {
          "output_type": "execute_result",
          "data": {
            "text/plain": [
              "array([[ 0.52094979, -0.31610934],\n",
              "       [-0.74976607, -0.31610934],\n",
              "       [-0.56108659, -0.31610934],\n",
              "       ...,\n",
              "       [ 0.07754571, -0.00535784],\n",
              "       [-0.49337306, -0.00535784],\n",
              "       [-0.48541044, -0.00535784]])"
            ]
          },
          "metadata": {
            "tags": []
          },
          "execution_count": 66
        }
      ]
    },
    {
      "cell_type": "code",
      "metadata": {
        "colab": {
          "base_uri": "https://localhost:8080/"
        },
        "id": "ajMFnddw2Nu9",
        "outputId": "5eaf46d2-9acb-48dd-e3f8-17ec08689132"
      },
      "source": [
        "df_scaled.shape"
      ],
      "execution_count": 67,
      "outputs": [
        {
          "output_type": "execute_result",
          "data": {
            "text/plain": [
              "(733, 2)"
            ]
          },
          "metadata": {
            "tags": []
          },
          "execution_count": 67
        }
      ]
    },
    {
      "cell_type": "code",
      "metadata": {
        "colab": {
          "base_uri": "https://localhost:8080/",
          "height": 235
        },
        "id": "mVB_hitf2AoX",
        "outputId": "25f8d919-c080-4d4d-c95e-035bb9cd28dc"
      },
      "source": [
        "import numpy as np\n",
        "df_BK['scaled_per_sqft_rate']= df_scaled[:,0]\n",
        "df_BK['scaled_covid_cases']= df_scaled[:,1]\n",
        "df_BK.head()"
      ],
      "execution_count": 68,
      "outputs": [
        {
          "output_type": "execute_result",
          "data": {
            "text/html": [
              "<div>\n",
              "<style scoped>\n",
              "    .dataframe tbody tr th:only-of-type {\n",
              "        vertical-align: middle;\n",
              "    }\n",
              "\n",
              "    .dataframe tbody tr th {\n",
              "        vertical-align: top;\n",
              "    }\n",
              "\n",
              "    .dataframe thead th {\n",
              "        text-align: right;\n",
              "    }\n",
              "</style>\n",
              "<table border=\"1\" class=\"dataframe\">\n",
              "  <thead>\n",
              "    <tr style=\"text-align: right;\">\n",
              "      <th></th>\n",
              "      <th>per_sqft_rate</th>\n",
              "      <th>covid_cases</th>\n",
              "      <th>scaled_per_sqft_rate</th>\n",
              "      <th>scaled_covid_cases</th>\n",
              "    </tr>\n",
              "    <tr>\n",
              "      <th>sales_date</th>\n",
              "      <th></th>\n",
              "      <th></th>\n",
              "      <th></th>\n",
              "      <th></th>\n",
              "    </tr>\n",
              "  </thead>\n",
              "  <tbody>\n",
              "    <tr>\n",
              "      <th>2018-01-02</th>\n",
              "      <td>192.782887</td>\n",
              "      <td>0.0</td>\n",
              "      <td>0.520950</td>\n",
              "      <td>-0.316109</td>\n",
              "    </tr>\n",
              "    <tr>\n",
              "      <th>2018-01-03</th>\n",
              "      <td>101.595929</td>\n",
              "      <td>0.0</td>\n",
              "      <td>-0.749766</td>\n",
              "      <td>-0.316109</td>\n",
              "    </tr>\n",
              "    <tr>\n",
              "      <th>2018-01-04</th>\n",
              "      <td>115.135626</td>\n",
              "      <td>0.0</td>\n",
              "      <td>-0.561087</td>\n",
              "      <td>-0.316109</td>\n",
              "    </tr>\n",
              "    <tr>\n",
              "      <th>2018-01-05</th>\n",
              "      <td>138.580350</td>\n",
              "      <td>0.0</td>\n",
              "      <td>-0.234378</td>\n",
              "      <td>-0.316109</td>\n",
              "    </tr>\n",
              "    <tr>\n",
              "      <th>2018-01-07</th>\n",
              "      <td>53.516820</td>\n",
              "      <td>0.0</td>\n",
              "      <td>-1.419762</td>\n",
              "      <td>-0.316109</td>\n",
              "    </tr>\n",
              "  </tbody>\n",
              "</table>\n",
              "</div>"
            ],
            "text/plain": [
              "            per_sqft_rate  ...  scaled_covid_cases\n",
              "sales_date                 ...                    \n",
              "2018-01-02     192.782887  ...           -0.316109\n",
              "2018-01-03     101.595929  ...           -0.316109\n",
              "2018-01-04     115.135626  ...           -0.316109\n",
              "2018-01-05     138.580350  ...           -0.316109\n",
              "2018-01-07      53.516820  ...           -0.316109\n",
              "\n",
              "[5 rows x 4 columns]"
            ]
          },
          "metadata": {
            "tags": []
          },
          "execution_count": 68
        }
      ]
    },
    {
      "cell_type": "code",
      "metadata": {
        "colab": {
          "base_uri": "https://localhost:8080/",
          "height": 390
        },
        "id": "zuC2S6qFFSb-",
        "outputId": "b92d6e40-e57b-4fa1-8a05-1723730b4c16"
      },
      "source": [
        "df_BK.tail(10)"
      ],
      "execution_count": 69,
      "outputs": [
        {
          "output_type": "execute_result",
          "data": {
            "text/html": [
              "<div>\n",
              "<style scoped>\n",
              "    .dataframe tbody tr th:only-of-type {\n",
              "        vertical-align: middle;\n",
              "    }\n",
              "\n",
              "    .dataframe tbody tr th {\n",
              "        vertical-align: top;\n",
              "    }\n",
              "\n",
              "    .dataframe thead th {\n",
              "        text-align: right;\n",
              "    }\n",
              "</style>\n",
              "<table border=\"1\" class=\"dataframe\">\n",
              "  <thead>\n",
              "    <tr style=\"text-align: right;\">\n",
              "      <th></th>\n",
              "      <th>per_sqft_rate</th>\n",
              "      <th>covid_cases</th>\n",
              "      <th>scaled_per_sqft_rate</th>\n",
              "      <th>scaled_covid_cases</th>\n",
              "    </tr>\n",
              "    <tr>\n",
              "      <th>sales_date</th>\n",
              "      <th></th>\n",
              "      <th></th>\n",
              "      <th></th>\n",
              "      <th></th>\n",
              "    </tr>\n",
              "  </thead>\n",
              "  <tbody>\n",
              "    <tr>\n",
              "      <th>2020-08-18</th>\n",
              "      <td>217.331311</td>\n",
              "      <td>1608.0</td>\n",
              "      <td>0.863039</td>\n",
              "      <td>-0.005358</td>\n",
              "    </tr>\n",
              "    <tr>\n",
              "      <th>2020-08-19</th>\n",
              "      <td>165.559770</td>\n",
              "      <td>1608.0</td>\n",
              "      <td>0.141588</td>\n",
              "      <td>-0.005358</td>\n",
              "    </tr>\n",
              "    <tr>\n",
              "      <th>2020-08-20</th>\n",
              "      <td>182.369924</td>\n",
              "      <td>1608.0</td>\n",
              "      <td>0.375842</td>\n",
              "      <td>-0.005358</td>\n",
              "    </tr>\n",
              "    <tr>\n",
              "      <th>2020-08-21</th>\n",
              "      <td>160.687984</td>\n",
              "      <td>1608.0</td>\n",
              "      <td>0.073698</td>\n",
              "      <td>-0.005358</td>\n",
              "    </tr>\n",
              "    <tr>\n",
              "      <th>2020-08-24</th>\n",
              "      <td>224.797650</td>\n",
              "      <td>1608.0</td>\n",
              "      <td>0.967085</td>\n",
              "      <td>-0.005358</td>\n",
              "    </tr>\n",
              "    <tr>\n",
              "      <th>2020-08-25</th>\n",
              "      <td>152.301999</td>\n",
              "      <td>1608.0</td>\n",
              "      <td>-0.043163</td>\n",
              "      <td>-0.005358</td>\n",
              "    </tr>\n",
              "    <tr>\n",
              "      <th>2020-08-26</th>\n",
              "      <td>211.410674</td>\n",
              "      <td>1608.0</td>\n",
              "      <td>0.780533</td>\n",
              "      <td>-0.005358</td>\n",
              "    </tr>\n",
              "    <tr>\n",
              "      <th>2020-08-27</th>\n",
              "      <td>160.964074</td>\n",
              "      <td>1608.0</td>\n",
              "      <td>0.077546</td>\n",
              "      <td>-0.005358</td>\n",
              "    </tr>\n",
              "    <tr>\n",
              "      <th>2020-08-28</th>\n",
              "      <td>119.994769</td>\n",
              "      <td>1608.0</td>\n",
              "      <td>-0.493373</td>\n",
              "      <td>-0.005358</td>\n",
              "    </tr>\n",
              "    <tr>\n",
              "      <th>2020-08-31</th>\n",
              "      <td>120.566169</td>\n",
              "      <td>1608.0</td>\n",
              "      <td>-0.485410</td>\n",
              "      <td>-0.005358</td>\n",
              "    </tr>\n",
              "  </tbody>\n",
              "</table>\n",
              "</div>"
            ],
            "text/plain": [
              "            per_sqft_rate  ...  scaled_covid_cases\n",
              "sales_date                 ...                    \n",
              "2020-08-18     217.331311  ...           -0.005358\n",
              "2020-08-19     165.559770  ...           -0.005358\n",
              "2020-08-20     182.369924  ...           -0.005358\n",
              "2020-08-21     160.687984  ...           -0.005358\n",
              "2020-08-24     224.797650  ...           -0.005358\n",
              "2020-08-25     152.301999  ...           -0.005358\n",
              "2020-08-26     211.410674  ...           -0.005358\n",
              "2020-08-27     160.964074  ...           -0.005358\n",
              "2020-08-28     119.994769  ...           -0.005358\n",
              "2020-08-31     120.566169  ...           -0.005358\n",
              "\n",
              "[10 rows x 4 columns]"
            ]
          },
          "metadata": {
            "tags": []
          },
          "execution_count": 69
        }
      ]
    },
    {
      "cell_type": "code",
      "metadata": {
        "colab": {
          "base_uri": "https://localhost:8080/",
          "height": 390
        },
        "id": "a8hCAnuf2yLU",
        "outputId": "4e700fb5-c1cb-4397-dd39-9f6fc7cb0c39"
      },
      "source": [
        "#Plotting Normalized Prices and Covid Cases\n",
        "plt.figure(figsize=(20,6))\n",
        "plt.title(\"Covid Cases and Per Sqft Housing Prices Over Time in Brooklyn (Scaled)\")\n",
        "plt.plot(df_BK['scaled_covid_cases'], linestyle='solid', color='orange', label=\"Covid Cases\")\n",
        "plt.plot(df_BK['scaled_per_sqft_rate'], linestyle='solid', color='teal', label=\"Per Sqft. Rate in Dollars\")\n",
        "plt.legend(loc=\"upper left\")\n",
        "plt.grid(False)\n",
        "#sns.lineplot(data=trends.drop(['sales_price', 'covid_cases'], axis=1));"
      ],
      "execution_count": 70,
      "outputs": [
        {
          "output_type": "display_data",
          "data": {
            "image/png": "[encoded data removed]",
            "text/plain": [
              "<Figure size 1440x432 with 1 Axes>"
            ]
          },
          "metadata": {
            "tags": [],
            "needs_background": "light"
          }
        }
      ]
    },
    {
      "cell_type": "code",
      "metadata": {
        "colab": {
          "base_uri": "https://localhost:8080/"
        },
        "id": "m-xL74KaOm7k",
        "outputId": "5943f382-475f-4741-fdb6-d3439015dde2"
      },
      "source": [
        "#Separate dates for future plotting\n",
        "train_dates = pd.to_datetime(df_BK.index)\n",
        "train_dates"
      ],
      "execution_count": 71,
      "outputs": [
        {
          "output_type": "execute_result",
          "data": {
            "text/plain": [
              "DatetimeIndex(['2018-01-02', '2018-01-03', '2018-01-04', '2018-01-05',\n",
              "               '2018-01-07', '2018-01-08', '2018-01-09', '2018-01-10',\n",
              "               '2018-01-11', '2018-01-12',\n",
              "               ...\n",
              "               '2020-08-18', '2020-08-19', '2020-08-20', '2020-08-21',\n",
              "               '2020-08-24', '2020-08-25', '2020-08-26', '2020-08-27',\n",
              "               '2020-08-28', '2020-08-31'],\n",
              "              dtype='datetime64[ns]', name='sales_date', length=733, freq=None)"
            ]
          },
          "metadata": {
            "tags": []
          },
          "execution_count": 71
        }
      ]
    },
    {
      "cell_type": "code",
      "metadata": {
        "id": "d1gDbGP_jpfy"
      },
      "source": [
        "trainX = []\n",
        "trainY = []\n",
        "\n",
        "n_future = 1   # Number of days we want to predict into the future\n",
        "n_past = 21     # Number of past days we want to use to predict the future\n",
        "\n",
        "\n",
        "#Creating sequential window trainX for training. \n",
        "#Sample trainX window : [0.1 0.2 0.3 0.5 0.4 0.1 ]\n",
        "for i in range(n_past, len(df_scaled) - n_future +1):\n",
        "    trainX.append(df_scaled[i - n_past:i, 0:df_scaled.shape[1]])\n",
        "\n",
        "    #trainY.append(df_scaled[i + n_future - 1:i + n_future, 0])\n",
        "    trainY.append(df_scaled[i + n_future - 1:i + n_future, :])  #We want to predict both covid cases and per sq. ft rate, so trin y will contain both.  \n",
        "\n",
        "\n"
      ],
      "execution_count": 72,
      "outputs": []
    },
    {
      "cell_type": "code",
      "metadata": {
        "id": "0F7i7fHjs2fO"
      },
      "source": [
        "trainX, trainY = np.array(trainX), np.array(trainY)"
      ],
      "execution_count": 73,
      "outputs": []
    },
    {
      "cell_type": "code",
      "metadata": {
        "id": "RuSAVAz30bas",
        "colab": {
          "base_uri": "https://localhost:8080/"
        },
        "outputId": "0e8ba3b2-acaf-4c77-b7d7-baac6faceb32"
      },
      "source": [
        "#trainX=trainX[:800]\n",
        "#trainY=trainY[:800]\n",
        "trainX.shape"
      ],
      "execution_count": 74,
      "outputs": [
        {
          "output_type": "execute_result",
          "data": {
            "text/plain": [
              "(712, 21, 2)"
            ]
          },
          "metadata": {
            "tags": []
          },
          "execution_count": 74
        }
      ]
    },
    {
      "cell_type": "code",
      "metadata": {
        "colab": {
          "base_uri": "https://localhost:8080/"
        },
        "id": "_qiS5BXzZo8-",
        "outputId": "59c1d3c2-9f9a-49aa-f78b-09f5f65d05ff"
      },
      "source": [
        "trainY.shape"
      ],
      "execution_count": 75,
      "outputs": [
        {
          "output_type": "execute_result",
          "data": {
            "text/plain": [
              "(712, 1, 2)"
            ]
          },
          "metadata": {
            "tags": []
          },
          "execution_count": 75
        }
      ]
    },
    {
      "cell_type": "code",
      "metadata": {
        "colab": {
          "base_uri": "https://localhost:8080/"
        },
        "id": "gK--kpB5s1rs",
        "outputId": "9a2c7c15-6cb7-4b02-f83f-9014e74086ad"
      },
      "source": [
        "df_scaled.shape"
      ],
      "execution_count": 76,
      "outputs": [
        {
          "output_type": "execute_result",
          "data": {
            "text/plain": [
              "(733, 2)"
            ]
          },
          "metadata": {
            "tags": []
          },
          "execution_count": 76
        }
      ]
    },
    {
      "cell_type": "code",
      "metadata": {
        "id": "EWLTBDr3t_N0",
        "colab": {
          "base_uri": "https://localhost:8080/"
        },
        "outputId": "d92aeb98-ad4a-40de-eadc-dc230cf6d7f6"
      },
      "source": [
        "print(trainX[0])"
      ],
      "execution_count": 77,
      "outputs": [
        {
          "output_type": "stream",
          "text": [
            "[[ 0.52094979 -0.31610934]\n",
            " [-0.74976607 -0.31610934]\n",
            " [-0.56108659 -0.31610934]\n",
            " [-0.23437778 -0.31610934]\n",
            " [-1.41976196 -0.31610934]\n",
            " [-0.69510911 -0.31610934]\n",
            " [-0.31687671 -0.31610934]\n",
            " [-0.40745861 -0.31610934]\n",
            " [-0.65507247 -0.31610934]\n",
            " [-0.18718046 -0.31610934]\n",
            " [-1.52650676 -0.31610934]\n",
            " [-0.50443672 -0.31610934]\n",
            " [-0.62305913 -0.31610934]\n",
            " [-0.42266955 -0.31610934]\n",
            " [-0.27326005 -0.31610934]\n",
            " [-0.40640678 -0.31610934]\n",
            " [-0.55007078 -0.31610934]\n",
            " [-0.30186705 -0.31610934]\n",
            " [-0.52813387 -0.31610934]\n",
            " [-0.05107189 -0.31610934]\n",
            " [-0.4990237  -0.31610934]]\n"
          ],
          "name": "stdout"
        }
      ]
    },
    {
      "cell_type": "code",
      "metadata": {
        "colab": {
          "base_uri": "https://localhost:8080/"
        },
        "id": "o33aOj19o8Ho",
        "outputId": "743e5c3d-e823-468e-940d-1ce29f78abf4"
      },
      "source": [
        "print(trainX.shape, trainY.shape[1])"
      ],
      "execution_count": 78,
      "outputs": [
        {
          "output_type": "stream",
          "text": [
            "(712, 21, 2) 1\n"
          ],
          "name": "stdout"
        }
      ]
    },
    {
      "cell_type": "code",
      "metadata": {
        "colab": {
          "base_uri": "https://localhost:8080/"
        },
        "id": "XBJuEABfJhzB",
        "outputId": "66fb18f4-5471-4e43-ba8e-02543210ad70"
      },
      "source": [
        "print('trainX shape == {}.'.format(trainX.shape))\n",
        "print('trainY shape == {}.'.format(trainY.shape))\n"
      ],
      "execution_count": 79,
      "outputs": [
        {
          "output_type": "stream",
          "text": [
            "trainX shape == (712, 21, 2).\n",
            "trainY shape == (712, 1, 2).\n"
          ],
          "name": "stdout"
        }
      ]
    },
    {
      "cell_type": "code",
      "metadata": {
        "id": "Qi2wbtW2Pk0H",
        "colab": {
          "base_uri": "https://localhost:8080/",
          "height": 352
        },
        "outputId": "73e01e1a-f900-4677-c5a8-cd9b1658ee29"
      },
      "source": [
        "# Correlations among columns\n",
        "import seaborn as sns\n",
        "sns.heatmap(df.corr(),annot=True);\n",
        "plt.title('Correlation Among Features', size=10);\n",
        "plt.figure(figsize=(15,15));\n",
        "plt.show();"
      ],
      "execution_count": 80,
      "outputs": [
        {
          "output_type": "display_data",
          "data": {
            "image/png": "[encoded data removed]",
            "text/plain": [
              "<Figure size 432x288 with 2 Axes>"
            ]
          },
          "metadata": {
            "tags": [],
            "needs_background": "light"
          }
        },
        {
          "output_type": "display_data",
          "data": {
            "text/plain": [
              "<Figure size 1080x1080 with 0 Axes>"
            ]
          },
          "metadata": {
            "tags": []
          }
        }
      ]
    },
    {
      "cell_type": "code",
      "metadata": {
        "colab": {
          "base_uri": "https://localhost:8080/"
        },
        "id": "YU6KmK65mLwU",
        "outputId": "a1e838de-114b-460a-b311-0cef90f511a9"
      },
      "source": [
        "# define LSTM model\n",
        "model=None\n",
        "model = Sequential()\n",
        "model.add(LSTM(32, activation='relu', input_shape=(trainX.shape[1], trainX.shape[2]), return_sequences=True))\n",
        "model.add(LSTM(32, activation='relu', return_sequences=False))\n",
        "model.add(Dropout(0.2))\n",
        "model.add(Dense(1))\n",
        "\n",
        "model.compile(optimizer='adam', loss='mse')\n",
        "model.summary()\n"
      ],
      "execution_count": 81,
      "outputs": [
        {
          "output_type": "stream",
          "text": [
            "Model: \"sequential_1\"\n",
            "_________________________________________________________________\n",
            "Layer (type)                 Output Shape              Param #   \n",
            "=================================================================\n",
            "lstm_2 (LSTM)                (None, 21, 32)            4480      \n",
            "_________________________________________________________________\n",
            "lstm_3 (LSTM)                (None, 32)                8320      \n",
            "_________________________________________________________________\n",
            "dropout_1 (Dropout)          (None, 32)                0         \n",
            "_________________________________________________________________\n",
            "dense_1 (Dense)              (None, 1)                 33        \n",
            "=================================================================\n",
            "Total params: 12,833\n",
            "Trainable params: 12,833\n",
            "Non-trainable params: 0\n",
            "_________________________________________________________________\n"
          ],
          "name": "stdout"
        }
      ]
    },
    {
      "cell_type": "code",
      "metadata": {
        "colab": {
          "base_uri": "https://localhost:8080/",
          "height": 1000
        },
        "id": "sdX8AblHvwNa",
        "outputId": "206c3294-9d63-4132-a62d-0053240662f5"
      },
      "source": [
        "print('Train...')\n",
        "\n",
        "#fit\n",
        "\n",
        "history = model.fit(trainX, trainY, epochs=50, batch_size=10, validation_split=0.35, verbose=1)\n",
        "# summarize history for loss\n",
        "plt.plot(history.history['loss'])\n",
        "plt.plot(history.history['val_loss'])\n",
        "plt.title('model loss')\n",
        "plt.ylabel('loss')\n",
        "plt.xlabel('epoch')\n",
        "plt.legend(['train', 'test'], loc='upper right')\n",
        "plt.show()\n",
        "\n"
      ],
      "execution_count": 92,
      "outputs": [
        {
          "output_type": "stream",
          "text": [
            "Train...\n",
            "Epoch 1/50\n",
            "43/43 [==============================] - 1s 14ms/step - loss: 0.4219 - val_loss: 1.9226\n",
            "Epoch 2/50\n",
            "43/43 [==============================] - 1s 13ms/step - loss: 0.4214 - val_loss: 1.9337\n",
            "Epoch 3/50\n",
            "43/43 [==============================] - 1s 13ms/step - loss: 0.4210 - val_loss: 1.9309\n",
            "Epoch 4/50\n",
            "43/43 [==============================] - 1s 13ms/step - loss: 0.4214 - val_loss: 1.9292\n",
            "Epoch 5/50\n",
            "43/43 [==============================] - 1s 12ms/step - loss: 0.4210 - val_loss: 1.9331\n",
            "Epoch 6/50\n",
            "43/43 [==============================] - 1s 13ms/step - loss: 0.4214 - val_loss: 1.9313\n",
            "Epoch 7/50\n",
            "43/43 [==============================] - 1s 12ms/step - loss: 0.4219 - val_loss: 1.9319\n",
            "Epoch 8/50\n",
            "43/43 [==============================] - 1s 12ms/step - loss: 0.4217 - val_loss: 1.9314\n",
            "Epoch 9/50\n",
            "43/43 [==============================] - 1s 12ms/step - loss: 0.4216 - val_loss: 1.9326\n",
            "Epoch 10/50\n",
            "43/43 [==============================] - 1s 12ms/step - loss: 0.4212 - val_loss: 1.9384\n",
            "Epoch 11/50\n",
            "43/43 [==============================] - 1s 12ms/step - loss: 0.4215 - val_loss: 1.9348\n",
            "Epoch 12/50\n",
            "43/43 [==============================] - 1s 13ms/step - loss: 0.4209 - val_loss: 1.9389\n",
            "Epoch 13/50\n",
            "43/43 [==============================] - 1s 13ms/step - loss: 0.4216 - val_loss: 1.9429\n",
            "Epoch 14/50\n",
            "43/43 [==============================] - 1s 12ms/step - loss: 0.4207 - val_loss: 1.9372\n",
            "Epoch 15/50\n",
            "43/43 [==============================] - 1s 13ms/step - loss: 0.4216 - val_loss: 1.9293\n",
            "Epoch 16/50\n",
            "43/43 [==============================] - 1s 12ms/step - loss: 0.4214 - val_loss: 1.9400\n",
            "Epoch 17/50\n",
            "43/43 [==============================] - 1s 12ms/step - loss: 0.4207 - val_loss: 1.9367\n",
            "Epoch 18/50\n",
            "43/43 [==============================] - 1s 13ms/step - loss: 0.4210 - val_loss: 1.9427\n",
            "Epoch 19/50\n",
            "43/43 [==============================] - 1s 13ms/step - loss: 0.4213 - val_loss: 1.9381\n",
            "Epoch 20/50\n",
            "43/43 [==============================] - 1s 12ms/step - loss: 0.4216 - val_loss: 1.9340\n",
            "Epoch 21/50\n",
            "43/43 [==============================] - 1s 13ms/step - loss: 0.4211 - val_loss: 1.9321\n",
            "Epoch 22/50\n",
            "43/43 [==============================] - 1s 12ms/step - loss: 0.4214 - val_loss: 1.9399\n",
            "Epoch 23/50\n",
            "43/43 [==============================] - 1s 13ms/step - loss: 0.4211 - val_loss: 1.9356\n",
            "Epoch 24/50\n",
            "43/43 [==============================] - 1s 12ms/step - loss: 0.4207 - val_loss: 1.9109\n",
            "Epoch 25/50\n",
            "43/43 [==============================] - 1s 13ms/step - loss: 0.4208 - val_loss: 1.8746\n",
            "Epoch 26/50\n",
            "43/43 [==============================] - 1s 13ms/step - loss: 0.4212 - val_loss: 1.8930\n",
            "Epoch 27/50\n",
            "43/43 [==============================] - 1s 13ms/step - loss: 0.4209 - val_loss: 1.8705\n",
            "Epoch 28/50\n",
            "43/43 [==============================] - 1s 13ms/step - loss: 0.4211 - val_loss: 1.8674\n",
            "Epoch 29/50\n",
            "43/43 [==============================] - 1s 13ms/step - loss: 0.4213 - val_loss: 1.8765\n",
            "Epoch 30/50\n",
            "43/43 [==============================] - 1s 13ms/step - loss: 0.4210 - val_loss: 1.8617\n",
            "Epoch 31/50\n",
            "43/43 [==============================] - 1s 12ms/step - loss: 0.4213 - val_loss: 1.8582\n",
            "Epoch 32/50\n",
            "43/43 [==============================] - 1s 13ms/step - loss: 0.4210 - val_loss: 1.8722\n",
            "Epoch 33/50\n",
            "43/43 [==============================] - 1s 13ms/step - loss: 0.4210 - val_loss: 1.8883\n",
            "Epoch 34/50\n",
            "43/43 [==============================] - 1s 13ms/step - loss: 0.4211 - val_loss: 1.8737\n",
            "Epoch 35/50\n",
            "43/43 [==============================] - 1s 12ms/step - loss: 0.4217 - val_loss: 1.8895\n",
            "Epoch 36/50\n",
            "43/43 [==============================] - 1s 13ms/step - loss: 0.4211 - val_loss: 1.8982\n",
            "Epoch 37/50\n",
            "43/43 [==============================] - 1s 12ms/step - loss: 0.4208 - val_loss: 1.8879\n",
            "Epoch 38/50\n",
            "43/43 [==============================] - 1s 13ms/step - loss: 0.4207 - val_loss: 1.8330\n",
            "Epoch 39/50\n",
            "43/43 [==============================] - 1s 12ms/step - loss: 0.4212 - val_loss: 1.8444\n",
            "Epoch 40/50\n",
            "43/43 [==============================] - 1s 13ms/step - loss: 0.4204 - val_loss: 1.8348\n",
            "Epoch 41/50\n",
            "43/43 [==============================] - 1s 13ms/step - loss: 0.4210 - val_loss: 1.8376\n",
            "Epoch 42/50\n",
            "43/43 [==============================] - 1s 13ms/step - loss: 0.4209 - val_loss: 1.8221\n",
            "Epoch 43/50\n",
            "43/43 [==============================] - 1s 13ms/step - loss: 0.4212 - val_loss: 1.8405\n",
            "Epoch 44/50\n",
            "43/43 [==============================] - 1s 12ms/step - loss: 0.4211 - val_loss: 3.4435\n",
            "Epoch 45/50\n",
            "43/43 [==============================] - 1s 13ms/step - loss: 0.4213 - val_loss: 2.0110\n",
            "Epoch 46/50\n",
            "43/43 [==============================] - 1s 12ms/step - loss: 0.4209 - val_loss: 9.4267\n",
            "Epoch 47/50\n",
            "43/43 [==============================] - 1s 12ms/step - loss: 0.4210 - val_loss: 8.3175\n",
            "Epoch 48/50\n",
            "43/43 [==============================] - 1s 13ms/step - loss: 0.4214 - val_loss: 2.9262\n",
            "Epoch 49/50\n",
            "43/43 [==============================] - 1s 12ms/step - loss: 0.4214 - val_loss: 1.8526\n",
            "Epoch 50/50\n",
            "43/43 [==============================] - 1s 12ms/step - loss: 0.4210 - val_loss: 1.7957\n"
          ],
          "name": "stdout"
        },
        {
          "output_type": "display_data",
          "data": {
            "image/png": "[encoded data removed]",
            "text/plain": [
              "<Figure size 432x288 with 1 Axes>"
            ]
          },
          "metadata": {
            "tags": [],
            "needs_background": "light"
          }
        }
      ]
    },
    {
      "cell_type": "code",
      "metadata": {
        "colab": {
          "base_uri": "https://localhost:8080/"
        },
        "id": "tMTbEJ2zqOMo",
        "outputId": "4cbd57b0-6d58-49db-ca05-3f9893d9875e"
      },
      "source": [
        "print(len(history.history['loss']))"
      ],
      "execution_count": 83,
      "outputs": [
        {
          "output_type": "stream",
          "text": [
            "10\n"
          ],
          "name": "stdout"
        }
      ]
    },
    {
      "cell_type": "code",
      "metadata": {
        "colab": {
          "base_uri": "https://localhost:8080/"
        },
        "id": "jCHtxebYdFN8",
        "outputId": "0cc6f593-b090-427f-d1e8-8d752863473a"
      },
      "source": [
        "print(len(train_dates))"
      ],
      "execution_count": 84,
      "outputs": [
        {
          "output_type": "stream",
          "text": [
            "733\n"
          ],
          "name": "stdout"
        }
      ]
    },
    {
      "cell_type": "code",
      "metadata": {
        "id": "2gWtfjS5OZ2y",
        "colab": {
          "base_uri": "https://localhost:8080/",
          "height": 286
        },
        "outputId": "9263f30d-c4cd-4392-fc1e-a33739257033"
      },
      "source": [
        "#Forecasting...\n",
        "#Start with the last day in training date and predict future...\n",
        "n_future=90 #Redefining n_future to extend prediction dates beyond original n_future dates...\n",
        "forecast_period_dates = pd.date_range(list(train_dates)[-1], periods=n_future, freq='1d').tolist()\n",
        "#print(type(forecast_period_dates[0]))\n",
        "\n",
        "forecast = model.predict(trainX[-n_future:]) #forecast \n",
        "#print(forecast)\n",
        "#Perform inverse transformation to rescale back to original range\n",
        "#Since we used 2 variables for transform, the inverse expects same dimensions\n",
        "#Therefore, let us copy our values 2 times and discard them after inverse transform\n",
        "#forecast_copies=None\n",
        "forecast_copies = np.repeat(forecast,2, axis=-1)\n",
        "print(forecast.shape)\n",
        "\n",
        "#Inverse Transform the forecast using previous scaler\n",
        "y_pred_future = scaler.inverse_transform(forecast_copies)[:,:]\n",
        "\n",
        "# Convert timestamp to date\n",
        "forecast_dates = []\n",
        "for time_i in forecast_period_dates:\n",
        "    forecast_dates.append(time_i.date())\n",
        "\n",
        "\n",
        "print(np.array(forecast_dates).shape)\n",
        "print(np.array(y_pred_future[:,0]).shape)\n",
        "    \n",
        "df_forecast = pd.DataFrame({'sales_date':np.array(forecast_dates), 'per_sqft_rate':y_pred_future[:,0]})\n",
        "df_forecast['sales_date']=pd.to_datetime(df_forecast['sales_date'])\n",
        "original = pd.DataFrame()\n",
        "original['per_sqft_rate'] = df_BK['per_sqft_rate']\n",
        "original['sales_date']=train_dates\n",
        "original['sales_date']=pd.to_datetime(original['sales_date'])\n",
        "original=original[0:-1]\n",
        "original = original[original['sales_date'] >= '2020-8-1']\n",
        "original.head()\n",
        "\n"
      ],
      "execution_count": 88,
      "outputs": [
        {
          "output_type": "stream",
          "text": [
            "(90, 1)\n",
            "(90,)\n",
            "(90,)\n"
          ],
          "name": "stdout"
        },
        {
          "output_type": "execute_result",
          "data": {
            "text/html": [
              "<div>\n",
              "<style scoped>\n",
              "    .dataframe tbody tr th:only-of-type {\n",
              "        vertical-align: middle;\n",
              "    }\n",
              "\n",
              "    .dataframe tbody tr th {\n",
              "        vertical-align: top;\n",
              "    }\n",
              "\n",
              "    .dataframe thead th {\n",
              "        text-align: right;\n",
              "    }\n",
              "</style>\n",
              "<table border=\"1\" class=\"dataframe\">\n",
              "  <thead>\n",
              "    <tr style=\"text-align: right;\">\n",
              "      <th></th>\n",
              "      <th>per_sqft_rate</th>\n",
              "      <th>sales_date</th>\n",
              "    </tr>\n",
              "    <tr>\n",
              "      <th>sales_date</th>\n",
              "      <th></th>\n",
              "      <th></th>\n",
              "    </tr>\n",
              "  </thead>\n",
              "  <tbody>\n",
              "    <tr>\n",
              "      <th>2020-08-03</th>\n",
              "      <td>200.676098</td>\n",
              "      <td>2020-08-03</td>\n",
              "    </tr>\n",
              "    <tr>\n",
              "      <th>2020-08-04</th>\n",
              "      <td>205.187197</td>\n",
              "      <td>2020-08-04</td>\n",
              "    </tr>\n",
              "    <tr>\n",
              "      <th>2020-08-05</th>\n",
              "      <td>155.588903</td>\n",
              "      <td>2020-08-05</td>\n",
              "    </tr>\n",
              "    <tr>\n",
              "      <th>2020-08-06</th>\n",
              "      <td>150.377652</td>\n",
              "      <td>2020-08-06</td>\n",
              "    </tr>\n",
              "    <tr>\n",
              "      <th>2020-08-07</th>\n",
              "      <td>150.152849</td>\n",
              "      <td>2020-08-07</td>\n",
              "    </tr>\n",
              "  </tbody>\n",
              "</table>\n",
              "</div>"
            ],
            "text/plain": [
              "            per_sqft_rate sales_date\n",
              "sales_date                          \n",
              "2020-08-03     200.676098 2020-08-03\n",
              "2020-08-04     205.187197 2020-08-04\n",
              "2020-08-05     155.588903 2020-08-05\n",
              "2020-08-06     150.377652 2020-08-06\n",
              "2020-08-07     150.152849 2020-08-07"
            ]
          },
          "metadata": {
            "tags": []
          },
          "execution_count": 88
        }
      ]
    },
    {
      "cell_type": "code",
      "metadata": {
        "colab": {
          "base_uri": "https://localhost:8080/",
          "height": 694
        },
        "id": "ICficRjq7nLt",
        "outputId": "8989cfc9-5881-4f08-b000-9fe0f6e20346"
      },
      "source": [
        "import seaborn as sns\n",
        "plt.figure(figsize=(15,10))\n",
        "sns.lineplot(original['sales_date'], original['per_sqft_rate']);\n",
        "sns.lineplot(df_forecast['sales_date'], df_forecast['per_sqft_rate']);\n"
      ],
      "execution_count": 89,
      "outputs": [
        {
          "output_type": "stream",
          "text": [
            "/usr/local/lib/python3.7/dist-packages/seaborn/_decorators.py:43: FutureWarning: Pass the following variables as keyword args: x, y. From version 0.12, the only valid positional argument will be `data`, and passing other arguments without an explicit keyword will result in an error or misinterpretation.\n",
            "  FutureWarning\n",
            "/usr/local/lib/python3.7/dist-packages/seaborn/_decorators.py:43: FutureWarning: Pass the following variables as keyword args: x, y. From version 0.12, the only valid positional argument will be `data`, and passing other arguments without an explicit keyword will result in an error or misinterpretation.\n",
            "  FutureWarning\n"
          ],
          "name": "stderr"
        },
        {
          "output_type": "display_data",
          "data": {
            "image/png": "[encoded data removed]",
            "text/plain": [
              "<Figure size 1080x720 with 1 Axes>"
            ]
          },
          "metadata": {
            "tags": [],
            "needs_background": "light"
          }
        }
      ]
    }
  ]
}