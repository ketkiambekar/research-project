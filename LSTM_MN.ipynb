{
  "nbformat": 4,
  "nbformat_minor": 0,
  "metadata": {
    "colab": {
      "name": "LSTM_MN.ipynb",
      "provenance": [],
      "include_colab_link": true
    },
    "kernelspec": {
      "name": "python3",
      "display_name": "Python 3"
    },
    "language_info": {
      "name": "python"
    }
  },
  "cells": [
    {
      "cell_type": "markdown",
      "metadata": {
        "id": "view-in-github",
        "colab_type": "text"
      },
      "source": [
        "<a href=\"https://colab.research.google.com/github/ketkiambekar/masters-research-project/blob/main/LSTM_MN.ipynb\" target=\"_parent\"><img src=\"https://colab.research.google.com/assets/colab-badge.svg\" alt=\"Open In Colab\"/></a>"
      ]
    },
    {
      "cell_type": "code",
      "metadata": {
        "id": "qsY91EM5vaTK",
        "colab": {
          "base_uri": "https://localhost:8080/"
        },
        "outputId": "b860421f-6f76-4a1a-9f7d-f6d4cc4a0c87"
      },
      "source": [
        "from google.colab import drive\n",
        "drive.mount('/content/drive')"
      ],
      "execution_count": 2,
      "outputs": [
        {
          "output_type": "stream",
          "text": [
            "Mounted at /content/drive\n"
          ],
          "name": "stdout"
        }
      ]
    },
    {
      "cell_type": "code",
      "metadata": {
        "colab": {
          "base_uri": "https://localhost:8080/"
        },
        "id": "y5rwvKysc5cv",
        "outputId": "2906f204-7e92-42f9-dbfa-fb17be346ec4"
      },
      "source": [
        "%cd drive/MyDrive/KetkiAmbekar/Raw\\ Data\\ Files\n",
        "%pwd\n",
        "%ls"
      ],
      "execution_count": 3,
      "outputs": [
        {
          "output_type": "stream",
          "text": [
            "/content/drive/.shortcut-targets-by-id/1zDGtpS_EJdRSKz3jZptcq5k6f4jqXBwI/KetkiAmbekar/Raw Data Files\n",
            " covid_BK.xlsx                   NYC_housing_prices_dropped_na.csv\n",
            " covid_BX.xlsx                   NYC_Housing_prices_dropped_values.csv\n",
            " covid_MN.xlsx                   NYC_HP_LSTM.csv\n",
            " covid_QN.xlsx                  'nyc_pluto_20v7_csv(1).zip'\n",
            " covid_real_estate.csv           nyc_pluto_20v7_csv.zip\n",
            " covid_SI.xlsx                   nyc_real_estate_PLUTO_+_Final.csv\n",
            " nyc_dataset_final.xlsx          pluto_20v7.csv\n",
            " NYC_housing_prices_dropped_na   \u001b[0m\u001b[01;34mTemperatures\u001b[0m/\n"
          ],
          "name": "stdout"
        }
      ]
    },
    {
      "cell_type": "code",
      "metadata": {
        "id": "YhI7JxKXP5p4"
      },
      "source": [
        "#Import Libraries\n",
        "import matplotlib.pyplot as plt\n",
        "import pandas as pd\n",
        "import math\n",
        "import numpy as np\n",
        "from keras.models import Sequential\n",
        "from keras.layers import Dense, Dropout\n",
        "from keras.layers import LSTM\n",
        "from sklearn.preprocessing import StandardScaler\n",
        "from sklearn.metrics import mean_squared_error\n",
        "\n",
        "\n",
        "# fix random seed for reproducibility\n",
        "np.random.seed(7)"
      ],
      "execution_count": 4,
      "outputs": []
    },
    {
      "cell_type": "code",
      "metadata": {
        "id": "ihOvRWPGPXg3",
        "colab": {
          "base_uri": "https://localhost:8080/",
          "height": 419
        },
        "outputId": "924dd54d-3c80-461b-d978-fba55c9dcd53"
      },
      "source": [
        "# load the dataset\n",
        "#df = pd.read_csv('NYC_HP_LSTM.csv', engine='python', index_col='sales_date', parse_dates=True )\n",
        "df = pd.read_csv('NYC_HP_LSTM.csv', engine='python', parse_dates=True )\n",
        "df\n"
      ],
      "execution_count": 5,
      "outputs": [
        {
          "output_type": "execute_result",
          "data": {
            "text/html": [
              "<div>\n",
              "<style scoped>\n",
              "    .dataframe tbody tr th:only-of-type {\n",
              "        vertical-align: middle;\n",
              "    }\n",
              "\n",
              "    .dataframe tbody tr th {\n",
              "        vertical-align: top;\n",
              "    }\n",
              "\n",
              "    .dataframe thead th {\n",
              "        text-align: right;\n",
              "    }\n",
              "</style>\n",
              "<table border=\"1\" class=\"dataframe\">\n",
              "  <thead>\n",
              "    <tr style=\"text-align: right;\">\n",
              "      <th></th>\n",
              "      <th>Unnamed: 0</th>\n",
              "      <th>borough_BK</th>\n",
              "      <th>borough_BX</th>\n",
              "      <th>borough_MN</th>\n",
              "      <th>borough_QN</th>\n",
              "      <th>borough_SI</th>\n",
              "      <th>tot_area</th>\n",
              "      <th>covid_cases</th>\n",
              "      <th>sales_date</th>\n",
              "      <th>sales_price</th>\n",
              "    </tr>\n",
              "  </thead>\n",
              "  <tbody>\n",
              "    <tr>\n",
              "      <th>0</th>\n",
              "      <td>0</td>\n",
              "      <td>1.0</td>\n",
              "      <td>0.0</td>\n",
              "      <td>0.0</td>\n",
              "      <td>0.0</td>\n",
              "      <td>0.0</td>\n",
              "      <td>66638.0</td>\n",
              "      <td>1608</td>\n",
              "      <td>2020-08-31</td>\n",
              "      <td>5585336</td>\n",
              "    </tr>\n",
              "    <tr>\n",
              "      <th>1</th>\n",
              "      <td>1</td>\n",
              "      <td>1.0</td>\n",
              "      <td>0.0</td>\n",
              "      <td>0.0</td>\n",
              "      <td>0.0</td>\n",
              "      <td>0.0</td>\n",
              "      <td>8300.0</td>\n",
              "      <td>1608</td>\n",
              "      <td>2020-08-31</td>\n",
              "      <td>1643000</td>\n",
              "    </tr>\n",
              "    <tr>\n",
              "      <th>2</th>\n",
              "      <td>2</td>\n",
              "      <td>1.0</td>\n",
              "      <td>0.0</td>\n",
              "      <td>0.0</td>\n",
              "      <td>0.0</td>\n",
              "      <td>0.0</td>\n",
              "      <td>7488.0</td>\n",
              "      <td>1608</td>\n",
              "      <td>2020-08-31</td>\n",
              "      <td>1200000</td>\n",
              "    </tr>\n",
              "    <tr>\n",
              "      <th>3</th>\n",
              "      <td>3</td>\n",
              "      <td>1.0</td>\n",
              "      <td>0.0</td>\n",
              "      <td>0.0</td>\n",
              "      <td>0.0</td>\n",
              "      <td>0.0</td>\n",
              "      <td>6429.0</td>\n",
              "      <td>1608</td>\n",
              "      <td>2020-08-31</td>\n",
              "      <td>735000</td>\n",
              "    </tr>\n",
              "    <tr>\n",
              "      <th>4</th>\n",
              "      <td>4</td>\n",
              "      <td>1.0</td>\n",
              "      <td>0.0</td>\n",
              "      <td>0.0</td>\n",
              "      <td>0.0</td>\n",
              "      <td>0.0</td>\n",
              "      <td>7000.0</td>\n",
              "      <td>1608</td>\n",
              "      <td>2020-08-31</td>\n",
              "      <td>775000</td>\n",
              "    </tr>\n",
              "    <tr>\n",
              "      <th>...</th>\n",
              "      <td>...</td>\n",
              "      <td>...</td>\n",
              "      <td>...</td>\n",
              "      <td>...</td>\n",
              "      <td>...</td>\n",
              "      <td>...</td>\n",
              "      <td>...</td>\n",
              "      <td>...</td>\n",
              "      <td>...</td>\n",
              "      <td>...</td>\n",
              "    </tr>\n",
              "    <tr>\n",
              "      <th>76837</th>\n",
              "      <td>76837</td>\n",
              "      <td>0.0</td>\n",
              "      <td>0.0</td>\n",
              "      <td>0.0</td>\n",
              "      <td>0.0</td>\n",
              "      <td>1.0</td>\n",
              "      <td>5264.0</td>\n",
              "      <td>0</td>\n",
              "      <td>2018-01-02</td>\n",
              "      <td>680000</td>\n",
              "    </tr>\n",
              "    <tr>\n",
              "      <th>76838</th>\n",
              "      <td>76838</td>\n",
              "      <td>0.0</td>\n",
              "      <td>0.0</td>\n",
              "      <td>0.0</td>\n",
              "      <td>0.0</td>\n",
              "      <td>1.0</td>\n",
              "      <td>10268.0</td>\n",
              "      <td>0</td>\n",
              "      <td>2018-01-02</td>\n",
              "      <td>400000</td>\n",
              "    </tr>\n",
              "    <tr>\n",
              "      <th>76839</th>\n",
              "      <td>76839</td>\n",
              "      <td>0.0</td>\n",
              "      <td>0.0</td>\n",
              "      <td>0.0</td>\n",
              "      <td>0.0</td>\n",
              "      <td>1.0</td>\n",
              "      <td>4901.0</td>\n",
              "      <td>0</td>\n",
              "      <td>2018-01-02</td>\n",
              "      <td>565000</td>\n",
              "    </tr>\n",
              "    <tr>\n",
              "      <th>76840</th>\n",
              "      <td>76840</td>\n",
              "      <td>0.0</td>\n",
              "      <td>0.0</td>\n",
              "      <td>0.0</td>\n",
              "      <td>0.0</td>\n",
              "      <td>1.0</td>\n",
              "      <td>6525.0</td>\n",
              "      <td>0</td>\n",
              "      <td>2018-01-02</td>\n",
              "      <td>499500</td>\n",
              "    </tr>\n",
              "    <tr>\n",
              "      <th>76841</th>\n",
              "      <td>76841</td>\n",
              "      <td>0.0</td>\n",
              "      <td>0.0</td>\n",
              "      <td>0.0</td>\n",
              "      <td>0.0</td>\n",
              "      <td>1.0</td>\n",
              "      <td>8300.0</td>\n",
              "      <td>0</td>\n",
              "      <td>2018-01-02</td>\n",
              "      <td>685000</td>\n",
              "    </tr>\n",
              "  </tbody>\n",
              "</table>\n",
              "<p>76842 rows × 10 columns</p>\n",
              "</div>"
            ],
            "text/plain": [
              "       Unnamed: 0  borough_BK  borough_BX  ...  covid_cases  sales_date  sales_price\n",
              "0               0         1.0         0.0  ...         1608  2020-08-31      5585336\n",
              "1               1         1.0         0.0  ...         1608  2020-08-31      1643000\n",
              "2               2         1.0         0.0  ...         1608  2020-08-31      1200000\n",
              "3               3         1.0         0.0  ...         1608  2020-08-31       735000\n",
              "4               4         1.0         0.0  ...         1608  2020-08-31       775000\n",
              "...           ...         ...         ...  ...          ...         ...          ...\n",
              "76837       76837         0.0         0.0  ...            0  2018-01-02       680000\n",
              "76838       76838         0.0         0.0  ...            0  2018-01-02       400000\n",
              "76839       76839         0.0         0.0  ...            0  2018-01-02       565000\n",
              "76840       76840         0.0         0.0  ...            0  2018-01-02       499500\n",
              "76841       76841         0.0         0.0  ...            0  2018-01-02       685000\n",
              "\n",
              "[76842 rows x 10 columns]"
            ]
          },
          "metadata": {
            "tags": []
          },
          "execution_count": 5
        }
      ]
    },
    {
      "cell_type": "code",
      "metadata": {
        "colab": {
          "base_uri": "https://localhost:8080/",
          "height": 204
        },
        "id": "BUyuHFMfhsWy",
        "outputId": "543a98da-020e-49cc-f1f7-af4c30d2ec2d"
      },
      "source": [
        "df.drop(columns=['Unnamed: 0'], inplace=True)\n",
        "df.head()"
      ],
      "execution_count": 6,
      "outputs": [
        {
          "output_type": "execute_result",
          "data": {
            "text/html": [
              "<div>\n",
              "<style scoped>\n",
              "    .dataframe tbody tr th:only-of-type {\n",
              "        vertical-align: middle;\n",
              "    }\n",
              "\n",
              "    .dataframe tbody tr th {\n",
              "        vertical-align: top;\n",
              "    }\n",
              "\n",
              "    .dataframe thead th {\n",
              "        text-align: right;\n",
              "    }\n",
              "</style>\n",
              "<table border=\"1\" class=\"dataframe\">\n",
              "  <thead>\n",
              "    <tr style=\"text-align: right;\">\n",
              "      <th></th>\n",
              "      <th>borough_BK</th>\n",
              "      <th>borough_BX</th>\n",
              "      <th>borough_MN</th>\n",
              "      <th>borough_QN</th>\n",
              "      <th>borough_SI</th>\n",
              "      <th>tot_area</th>\n",
              "      <th>covid_cases</th>\n",
              "      <th>sales_date</th>\n",
              "      <th>sales_price</th>\n",
              "    </tr>\n",
              "  </thead>\n",
              "  <tbody>\n",
              "    <tr>\n",
              "      <th>0</th>\n",
              "      <td>1.0</td>\n",
              "      <td>0.0</td>\n",
              "      <td>0.0</td>\n",
              "      <td>0.0</td>\n",
              "      <td>0.0</td>\n",
              "      <td>66638.0</td>\n",
              "      <td>1608</td>\n",
              "      <td>2020-08-31</td>\n",
              "      <td>5585336</td>\n",
              "    </tr>\n",
              "    <tr>\n",
              "      <th>1</th>\n",
              "      <td>1.0</td>\n",
              "      <td>0.0</td>\n",
              "      <td>0.0</td>\n",
              "      <td>0.0</td>\n",
              "      <td>0.0</td>\n",
              "      <td>8300.0</td>\n",
              "      <td>1608</td>\n",
              "      <td>2020-08-31</td>\n",
              "      <td>1643000</td>\n",
              "    </tr>\n",
              "    <tr>\n",
              "      <th>2</th>\n",
              "      <td>1.0</td>\n",
              "      <td>0.0</td>\n",
              "      <td>0.0</td>\n",
              "      <td>0.0</td>\n",
              "      <td>0.0</td>\n",
              "      <td>7488.0</td>\n",
              "      <td>1608</td>\n",
              "      <td>2020-08-31</td>\n",
              "      <td>1200000</td>\n",
              "    </tr>\n",
              "    <tr>\n",
              "      <th>3</th>\n",
              "      <td>1.0</td>\n",
              "      <td>0.0</td>\n",
              "      <td>0.0</td>\n",
              "      <td>0.0</td>\n",
              "      <td>0.0</td>\n",
              "      <td>6429.0</td>\n",
              "      <td>1608</td>\n",
              "      <td>2020-08-31</td>\n",
              "      <td>735000</td>\n",
              "    </tr>\n",
              "    <tr>\n",
              "      <th>4</th>\n",
              "      <td>1.0</td>\n",
              "      <td>0.0</td>\n",
              "      <td>0.0</td>\n",
              "      <td>0.0</td>\n",
              "      <td>0.0</td>\n",
              "      <td>7000.0</td>\n",
              "      <td>1608</td>\n",
              "      <td>2020-08-31</td>\n",
              "      <td>775000</td>\n",
              "    </tr>\n",
              "  </tbody>\n",
              "</table>\n",
              "</div>"
            ],
            "text/plain": [
              "   borough_BK  borough_BX  borough_MN  ...  covid_cases  sales_date  sales_price\n",
              "0         1.0         0.0         0.0  ...         1608  2020-08-31      5585336\n",
              "1         1.0         0.0         0.0  ...         1608  2020-08-31      1643000\n",
              "2         1.0         0.0         0.0  ...         1608  2020-08-31      1200000\n",
              "3         1.0         0.0         0.0  ...         1608  2020-08-31       735000\n",
              "4         1.0         0.0         0.0  ...         1608  2020-08-31       775000\n",
              "\n",
              "[5 rows x 9 columns]"
            ]
          },
          "metadata": {
            "tags": []
          },
          "execution_count": 6
        }
      ]
    },
    {
      "cell_type": "code",
      "metadata": {
        "colab": {
          "base_uri": "https://localhost:8080/"
        },
        "id": "eFB3RASUv8f-",
        "outputId": "1bf5c328-f3b1-4c40-dd65-f6433082d557"
      },
      "source": [
        "df.info()"
      ],
      "execution_count": 7,
      "outputs": [
        {
          "output_type": "stream",
          "text": [
            "<class 'pandas.core.frame.DataFrame'>\n",
            "RangeIndex: 76842 entries, 0 to 76841\n",
            "Data columns (total 9 columns):\n",
            " #   Column       Non-Null Count  Dtype  \n",
            "---  ------       --------------  -----  \n",
            " 0   borough_BK   76842 non-null  float64\n",
            " 1   borough_BX   76842 non-null  float64\n",
            " 2   borough_MN   76842 non-null  float64\n",
            " 3   borough_QN   76842 non-null  float64\n",
            " 4   borough_SI   76842 non-null  float64\n",
            " 5   tot_area     76842 non-null  float64\n",
            " 6   covid_cases  76842 non-null  int64  \n",
            " 7   sales_date   76842 non-null  object \n",
            " 8   sales_price  76842 non-null  int64  \n",
            "dtypes: float64(6), int64(2), object(1)\n",
            "memory usage: 5.3+ MB\n"
          ],
          "name": "stdout"
        }
      ]
    },
    {
      "cell_type": "code",
      "metadata": {
        "id": "M0hh3-ybwVrz"
      },
      "source": [
        "df['covid_cases']=df.covid_cases.astype('float64')\n",
        "df['sales_price']=df.sales_price.astype('float64')\n",
        "df['per_sqft_rate']=df['sales_price']/df['tot_area']"
      ],
      "execution_count": 41,
      "outputs": []
    },
    {
      "cell_type": "code",
      "metadata": {
        "id": "o9RKRW9rDsEj",
        "colab": {
          "base_uri": "https://localhost:8080/",
          "height": 204
        },
        "outputId": "2d8101a9-60e9-42c1-84c6-42a03e7928a3"
      },
      "source": [
        "df.head()"
      ],
      "execution_count": 42,
      "outputs": [
        {
          "output_type": "execute_result",
          "data": {
            "text/html": [
              "<div>\n",
              "<style scoped>\n",
              "    .dataframe tbody tr th:only-of-type {\n",
              "        vertical-align: middle;\n",
              "    }\n",
              "\n",
              "    .dataframe tbody tr th {\n",
              "        vertical-align: top;\n",
              "    }\n",
              "\n",
              "    .dataframe thead th {\n",
              "        text-align: right;\n",
              "    }\n",
              "</style>\n",
              "<table border=\"1\" class=\"dataframe\">\n",
              "  <thead>\n",
              "    <tr style=\"text-align: right;\">\n",
              "      <th></th>\n",
              "      <th>borough_BK</th>\n",
              "      <th>borough_BX</th>\n",
              "      <th>borough_MN</th>\n",
              "      <th>borough_QN</th>\n",
              "      <th>borough_SI</th>\n",
              "      <th>tot_area</th>\n",
              "      <th>covid_cases</th>\n",
              "      <th>sales_date</th>\n",
              "      <th>sales_price</th>\n",
              "      <th>per_sqft_rate</th>\n",
              "    </tr>\n",
              "  </thead>\n",
              "  <tbody>\n",
              "    <tr>\n",
              "      <th>0</th>\n",
              "      <td>1.0</td>\n",
              "      <td>0.0</td>\n",
              "      <td>0.0</td>\n",
              "      <td>0.0</td>\n",
              "      <td>0.0</td>\n",
              "      <td>66638.0</td>\n",
              "      <td>1608.0</td>\n",
              "      <td>2020-08-31</td>\n",
              "      <td>5585336.0</td>\n",
              "      <td>83.816081</td>\n",
              "    </tr>\n",
              "    <tr>\n",
              "      <th>1</th>\n",
              "      <td>1.0</td>\n",
              "      <td>0.0</td>\n",
              "      <td>0.0</td>\n",
              "      <td>0.0</td>\n",
              "      <td>0.0</td>\n",
              "      <td>8300.0</td>\n",
              "      <td>1608.0</td>\n",
              "      <td>2020-08-31</td>\n",
              "      <td>1643000.0</td>\n",
              "      <td>197.951807</td>\n",
              "    </tr>\n",
              "    <tr>\n",
              "      <th>2</th>\n",
              "      <td>1.0</td>\n",
              "      <td>0.0</td>\n",
              "      <td>0.0</td>\n",
              "      <td>0.0</td>\n",
              "      <td>0.0</td>\n",
              "      <td>7488.0</td>\n",
              "      <td>1608.0</td>\n",
              "      <td>2020-08-31</td>\n",
              "      <td>1200000.0</td>\n",
              "      <td>160.256410</td>\n",
              "    </tr>\n",
              "    <tr>\n",
              "      <th>3</th>\n",
              "      <td>1.0</td>\n",
              "      <td>0.0</td>\n",
              "      <td>0.0</td>\n",
              "      <td>0.0</td>\n",
              "      <td>0.0</td>\n",
              "      <td>6429.0</td>\n",
              "      <td>1608.0</td>\n",
              "      <td>2020-08-31</td>\n",
              "      <td>735000.0</td>\n",
              "      <td>114.325712</td>\n",
              "    </tr>\n",
              "    <tr>\n",
              "      <th>4</th>\n",
              "      <td>1.0</td>\n",
              "      <td>0.0</td>\n",
              "      <td>0.0</td>\n",
              "      <td>0.0</td>\n",
              "      <td>0.0</td>\n",
              "      <td>7000.0</td>\n",
              "      <td>1608.0</td>\n",
              "      <td>2020-08-31</td>\n",
              "      <td>775000.0</td>\n",
              "      <td>110.714286</td>\n",
              "    </tr>\n",
              "  </tbody>\n",
              "</table>\n",
              "</div>"
            ],
            "text/plain": [
              "   borough_BK  borough_BX  borough_MN  ...  sales_date  sales_price  per_sqft_rate\n",
              "0         1.0         0.0         0.0  ...  2020-08-31    5585336.0      83.816081\n",
              "1         1.0         0.0         0.0  ...  2020-08-31    1643000.0     197.951807\n",
              "2         1.0         0.0         0.0  ...  2020-08-31    1200000.0     160.256410\n",
              "3         1.0         0.0         0.0  ...  2020-08-31     735000.0     114.325712\n",
              "4         1.0         0.0         0.0  ...  2020-08-31     775000.0     110.714286\n",
              "\n",
              "[5 rows x 10 columns]"
            ]
          },
          "metadata": {
            "tags": []
          },
          "execution_count": 42
        }
      ]
    },
    {
      "cell_type": "code",
      "metadata": {
        "colab": {
          "base_uri": "https://localhost:8080/"
        },
        "id": "9UoUyMlozv-3",
        "outputId": "501f63e6-f3cc-4da2-9355-d65609726104"
      },
      "source": [
        "#We need to separate boroughs Let's first create a model for Manhattan only\n",
        "\n",
        "df_MN = df[df['borough_MN']==1.0]\n",
        "df_MN = df_MN[['tot_area', 'covid_cases', 'sales_date','sales_price','per_sqft_rate' ]]\n",
        "print(len(df_MN), len(df))"
      ],
      "execution_count": 43,
      "outputs": [
        {
          "output_type": "stream",
          "text": [
            "7603 76842\n"
          ],
          "name": "stdout"
        }
      ]
    },
    {
      "cell_type": "code",
      "metadata": {
        "colab": {
          "base_uri": "https://localhost:8080/",
          "height": 450
        },
        "id": "LBpoFhesgl__",
        "outputId": "81c31fc5-4da7-40ae-8f39-ec8634ad0533"
      },
      "source": [
        "#We ensure, one datapoint per date. \n",
        "#We therefore, groupby sales_date column and aggregate over per_sqft_rate column on it's mean andchoose max number of covid_cases.\n",
        "df_MN=df_MN.groupby([\"sales_date\"]).agg({'per_sqft_rate':'mean', 'covid_cases':'max'})\n",
        "df_MN"
      ],
      "execution_count": 44,
      "outputs": [
        {
          "output_type": "execute_result",
          "data": {
            "text/html": [
              "<div>\n",
              "<style scoped>\n",
              "    .dataframe tbody tr th:only-of-type {\n",
              "        vertical-align: middle;\n",
              "    }\n",
              "\n",
              "    .dataframe tbody tr th {\n",
              "        vertical-align: top;\n",
              "    }\n",
              "\n",
              "    .dataframe thead th {\n",
              "        text-align: right;\n",
              "    }\n",
              "</style>\n",
              "<table border=\"1\" class=\"dataframe\">\n",
              "  <thead>\n",
              "    <tr style=\"text-align: right;\">\n",
              "      <th></th>\n",
              "      <th>per_sqft_rate</th>\n",
              "      <th>covid_cases</th>\n",
              "    </tr>\n",
              "    <tr>\n",
              "      <th>sales_date</th>\n",
              "      <th></th>\n",
              "      <th></th>\n",
              "    </tr>\n",
              "  </thead>\n",
              "  <tbody>\n",
              "    <tr>\n",
              "      <th>2018-01-01</th>\n",
              "      <td>15.085136</td>\n",
              "      <td>0.0</td>\n",
              "    </tr>\n",
              "    <tr>\n",
              "      <th>2018-01-02</th>\n",
              "      <td>14.040353</td>\n",
              "      <td>0.0</td>\n",
              "    </tr>\n",
              "    <tr>\n",
              "      <th>2018-01-03</th>\n",
              "      <td>22.860166</td>\n",
              "      <td>0.0</td>\n",
              "    </tr>\n",
              "    <tr>\n",
              "      <th>2018-01-04</th>\n",
              "      <td>10.648810</td>\n",
              "      <td>0.0</td>\n",
              "    </tr>\n",
              "    <tr>\n",
              "      <th>2018-01-05</th>\n",
              "      <td>4.322801</td>\n",
              "      <td>0.0</td>\n",
              "    </tr>\n",
              "    <tr>\n",
              "      <th>...</th>\n",
              "      <td>...</td>\n",
              "      <td>...</td>\n",
              "    </tr>\n",
              "    <tr>\n",
              "      <th>2020-08-25</th>\n",
              "      <td>234.502818</td>\n",
              "      <td>1278.0</td>\n",
              "    </tr>\n",
              "    <tr>\n",
              "      <th>2020-08-26</th>\n",
              "      <td>274.190344</td>\n",
              "      <td>1278.0</td>\n",
              "    </tr>\n",
              "    <tr>\n",
              "      <th>2020-08-27</th>\n",
              "      <td>80.290997</td>\n",
              "      <td>1278.0</td>\n",
              "    </tr>\n",
              "    <tr>\n",
              "      <th>2020-08-28</th>\n",
              "      <td>319.488818</td>\n",
              "      <td>1278.0</td>\n",
              "    </tr>\n",
              "    <tr>\n",
              "      <th>2020-08-31</th>\n",
              "      <td>309.525652</td>\n",
              "      <td>1278.0</td>\n",
              "    </tr>\n",
              "  </tbody>\n",
              "</table>\n",
              "<p>625 rows × 2 columns</p>\n",
              "</div>"
            ],
            "text/plain": [
              "            per_sqft_rate  covid_cases\n",
              "sales_date                            \n",
              "2018-01-01      15.085136          0.0\n",
              "2018-01-02      14.040353          0.0\n",
              "2018-01-03      22.860166          0.0\n",
              "2018-01-04      10.648810          0.0\n",
              "2018-01-05       4.322801          0.0\n",
              "...                   ...          ...\n",
              "2020-08-25     234.502818       1278.0\n",
              "2020-08-26     274.190344       1278.0\n",
              "2020-08-27      80.290997       1278.0\n",
              "2020-08-28     319.488818       1278.0\n",
              "2020-08-31     309.525652       1278.0\n",
              "\n",
              "[625 rows x 2 columns]"
            ]
          },
          "metadata": {
            "tags": []
          },
          "execution_count": 44
        }
      ]
    },
    {
      "cell_type": "code",
      "metadata": {
        "colab": {
          "base_uri": "https://localhost:8080/",
          "height": 297
        },
        "id": "u3ebwcjBwp6x",
        "outputId": "9e2c554e-2440-4771-b67e-fd8ed0ba637e"
      },
      "source": [
        "df_MN.describe()"
      ],
      "execution_count": 34,
      "outputs": [
        {
          "output_type": "execute_result",
          "data": {
            "text/html": [
              "<div>\n",
              "<style scoped>\n",
              "    .dataframe tbody tr th:only-of-type {\n",
              "        vertical-align: middle;\n",
              "    }\n",
              "\n",
              "    .dataframe tbody tr th {\n",
              "        vertical-align: top;\n",
              "    }\n",
              "\n",
              "    .dataframe thead th {\n",
              "        text-align: right;\n",
              "    }\n",
              "</style>\n",
              "<table border=\"1\" class=\"dataframe\">\n",
              "  <thead>\n",
              "    <tr style=\"text-align: right;\">\n",
              "      <th></th>\n",
              "      <th>per_sqft_rate</th>\n",
              "      <th>covid_cases</th>\n",
              "    </tr>\n",
              "  </thead>\n",
              "  <tbody>\n",
              "    <tr>\n",
              "      <th>count</th>\n",
              "      <td>625.000000</td>\n",
              "      <td>625.00000</td>\n",
              "    </tr>\n",
              "    <tr>\n",
              "      <th>mean</th>\n",
              "      <td>274.782482</td>\n",
              "      <td>811.87360</td>\n",
              "    </tr>\n",
              "    <tr>\n",
              "      <th>std</th>\n",
              "      <td>285.396005</td>\n",
              "      <td>2521.92261</td>\n",
              "    </tr>\n",
              "    <tr>\n",
              "      <th>min</th>\n",
              "      <td>0.172679</td>\n",
              "      <td>0.00000</td>\n",
              "    </tr>\n",
              "    <tr>\n",
              "      <th>25%</th>\n",
              "      <td>56.179086</td>\n",
              "      <td>0.00000</td>\n",
              "    </tr>\n",
              "    <tr>\n",
              "      <th>50%</th>\n",
              "      <td>193.558341</td>\n",
              "      <td>0.00000</td>\n",
              "    </tr>\n",
              "    <tr>\n",
              "      <th>75%</th>\n",
              "      <td>418.252967</td>\n",
              "      <td>0.00000</td>\n",
              "    </tr>\n",
              "    <tr>\n",
              "      <th>max</th>\n",
              "      <td>1727.817130</td>\n",
              "      <td>11756.00000</td>\n",
              "    </tr>\n",
              "  </tbody>\n",
              "</table>\n",
              "</div>"
            ],
            "text/plain": [
              "       per_sqft_rate  covid_cases\n",
              "count     625.000000    625.00000\n",
              "mean      274.782482    811.87360\n",
              "std       285.396005   2521.92261\n",
              "min         0.172679      0.00000\n",
              "25%        56.179086      0.00000\n",
              "50%       193.558341      0.00000\n",
              "75%       418.252967      0.00000\n",
              "max      1727.817130  11756.00000"
            ]
          },
          "metadata": {
            "tags": []
          },
          "execution_count": 34
        }
      ]
    },
    {
      "cell_type": "code",
      "metadata": {
        "id": "bzXz0_0bPhWV",
        "colab": {
          "base_uri": "https://localhost:8080/"
        },
        "outputId": "1056f70d-c34a-4dd8-daaf-418326062eb9"
      },
      "source": [
        "#LSTM uses sigmoid and tanh that are sensitive to magnitude so values need to be normalized\n",
        "# normalize the dataset\n",
        "print(df_MN.shape)\n",
        "scaler = StandardScaler()\n",
        "scaler = scaler.fit(df_MN)\n",
        "df_scaled = scaler.transform(df_MN)\n",
        "df_scaled"
      ],
      "execution_count": 35,
      "outputs": [
        {
          "output_type": "stream",
          "text": [
            "(625, 2)\n"
          ],
          "name": "stdout"
        },
        {
          "output_type": "execute_result",
          "data": {
            "text/plain": [
              "array([[-0.91068322, -0.3221843 ],\n",
              "       [-0.91434697, -0.3221843 ],\n",
              "       [-0.88341845, -0.3221843 ],\n",
              "       ...,\n",
              "       [-0.68202519,  0.18497782],\n",
              "       [ 0.15677215,  0.18497782],\n",
              "       [ 0.12183421,  0.18497782]])"
            ]
          },
          "metadata": {
            "tags": []
          },
          "execution_count": 35
        }
      ]
    },
    {
      "cell_type": "code",
      "metadata": {
        "colab": {
          "base_uri": "https://localhost:8080/"
        },
        "id": "ajMFnddw2Nu9",
        "outputId": "f6efde91-88c3-41c7-c977-2712b93da5e5"
      },
      "source": [
        "df_scaled.shape"
      ],
      "execution_count": 36,
      "outputs": [
        {
          "output_type": "execute_result",
          "data": {
            "text/plain": [
              "(625, 2)"
            ]
          },
          "metadata": {
            "tags": []
          },
          "execution_count": 36
        }
      ]
    },
    {
      "cell_type": "code",
      "metadata": {
        "colab": {
          "base_uri": "https://localhost:8080/",
          "height": 235
        },
        "id": "mVB_hitf2AoX",
        "outputId": "149a5393-0686-49f1-e62a-f0e09b099391"
      },
      "source": [
        "import numpy as np\n",
        "df_MN['scaled_per_sqft_rate']= df_scaled[:,0]\n",
        "df_MN['scaled_covid_cases']= df_scaled[:,1]\n",
        "df_MN.head()"
      ],
      "execution_count": 37,
      "outputs": [
        {
          "output_type": "execute_result",
          "data": {
            "text/html": [
              "<div>\n",
              "<style scoped>\n",
              "    .dataframe tbody tr th:only-of-type {\n",
              "        vertical-align: middle;\n",
              "    }\n",
              "\n",
              "    .dataframe tbody tr th {\n",
              "        vertical-align: top;\n",
              "    }\n",
              "\n",
              "    .dataframe thead th {\n",
              "        text-align: right;\n",
              "    }\n",
              "</style>\n",
              "<table border=\"1\" class=\"dataframe\">\n",
              "  <thead>\n",
              "    <tr style=\"text-align: right;\">\n",
              "      <th></th>\n",
              "      <th>per_sqft_rate</th>\n",
              "      <th>covid_cases</th>\n",
              "      <th>scaled_per_sqft_rate</th>\n",
              "      <th>scaled_covid_cases</th>\n",
              "    </tr>\n",
              "    <tr>\n",
              "      <th>sales_date</th>\n",
              "      <th></th>\n",
              "      <th></th>\n",
              "      <th></th>\n",
              "      <th></th>\n",
              "    </tr>\n",
              "  </thead>\n",
              "  <tbody>\n",
              "    <tr>\n",
              "      <th>2018-01-01</th>\n",
              "      <td>15.085136</td>\n",
              "      <td>0.0</td>\n",
              "      <td>-0.910683</td>\n",
              "      <td>-0.322184</td>\n",
              "    </tr>\n",
              "    <tr>\n",
              "      <th>2018-01-02</th>\n",
              "      <td>14.040353</td>\n",
              "      <td>0.0</td>\n",
              "      <td>-0.914347</td>\n",
              "      <td>-0.322184</td>\n",
              "    </tr>\n",
              "    <tr>\n",
              "      <th>2018-01-03</th>\n",
              "      <td>22.860166</td>\n",
              "      <td>0.0</td>\n",
              "      <td>-0.883418</td>\n",
              "      <td>-0.322184</td>\n",
              "    </tr>\n",
              "    <tr>\n",
              "      <th>2018-01-04</th>\n",
              "      <td>10.648810</td>\n",
              "      <td>0.0</td>\n",
              "      <td>-0.926240</td>\n",
              "      <td>-0.322184</td>\n",
              "    </tr>\n",
              "    <tr>\n",
              "      <th>2018-01-05</th>\n",
              "      <td>4.322801</td>\n",
              "      <td>0.0</td>\n",
              "      <td>-0.948424</td>\n",
              "      <td>-0.322184</td>\n",
              "    </tr>\n",
              "  </tbody>\n",
              "</table>\n",
              "</div>"
            ],
            "text/plain": [
              "            per_sqft_rate  ...  scaled_covid_cases\n",
              "sales_date                 ...                    \n",
              "2018-01-01      15.085136  ...           -0.322184\n",
              "2018-01-02      14.040353  ...           -0.322184\n",
              "2018-01-03      22.860166  ...           -0.322184\n",
              "2018-01-04      10.648810  ...           -0.322184\n",
              "2018-01-05       4.322801  ...           -0.322184\n",
              "\n",
              "[5 rows x 4 columns]"
            ]
          },
          "metadata": {
            "tags": []
          },
          "execution_count": 37
        }
      ]
    },
    {
      "cell_type": "code",
      "metadata": {
        "colab": {
          "base_uri": "https://localhost:8080/",
          "height": 390
        },
        "id": "zuC2S6qFFSb-",
        "outputId": "d736df4a-d2d1-4e19-cacc-26ca3e86b20a"
      },
      "source": [
        "df_MN.tail(10)"
      ],
      "execution_count": 38,
      "outputs": [
        {
          "output_type": "execute_result",
          "data": {
            "text/html": [
              "<div>\n",
              "<style scoped>\n",
              "    .dataframe tbody tr th:only-of-type {\n",
              "        vertical-align: middle;\n",
              "    }\n",
              "\n",
              "    .dataframe tbody tr th {\n",
              "        vertical-align: top;\n",
              "    }\n",
              "\n",
              "    .dataframe thead th {\n",
              "        text-align: right;\n",
              "    }\n",
              "</style>\n",
              "<table border=\"1\" class=\"dataframe\">\n",
              "  <thead>\n",
              "    <tr style=\"text-align: right;\">\n",
              "      <th></th>\n",
              "      <th>per_sqft_rate</th>\n",
              "      <th>covid_cases</th>\n",
              "      <th>scaled_per_sqft_rate</th>\n",
              "      <th>scaled_covid_cases</th>\n",
              "    </tr>\n",
              "    <tr>\n",
              "      <th>sales_date</th>\n",
              "      <th></th>\n",
              "      <th></th>\n",
              "      <th></th>\n",
              "      <th></th>\n",
              "    </tr>\n",
              "  </thead>\n",
              "  <tbody>\n",
              "    <tr>\n",
              "      <th>2020-08-14</th>\n",
              "      <td>380.451005</td>\n",
              "      <td>1278.0</td>\n",
              "      <td>0.370549</td>\n",
              "      <td>0.184978</td>\n",
              "    </tr>\n",
              "    <tr>\n",
              "      <th>2020-08-17</th>\n",
              "      <td>163.150596</td>\n",
              "      <td>1278.0</td>\n",
              "      <td>-0.391461</td>\n",
              "      <td>0.184978</td>\n",
              "    </tr>\n",
              "    <tr>\n",
              "      <th>2020-08-18</th>\n",
              "      <td>231.811139</td>\n",
              "      <td>1278.0</td>\n",
              "      <td>-0.150688</td>\n",
              "      <td>0.184978</td>\n",
              "    </tr>\n",
              "    <tr>\n",
              "      <th>2020-08-20</th>\n",
              "      <td>236.500263</td>\n",
              "      <td>1278.0</td>\n",
              "      <td>-0.134245</td>\n",
              "      <td>0.184978</td>\n",
              "    </tr>\n",
              "    <tr>\n",
              "      <th>2020-08-24</th>\n",
              "      <td>294.098433</td>\n",
              "      <td>1278.0</td>\n",
              "      <td>0.067735</td>\n",
              "      <td>0.184978</td>\n",
              "    </tr>\n",
              "    <tr>\n",
              "      <th>2020-08-25</th>\n",
              "      <td>234.502818</td>\n",
              "      <td>1278.0</td>\n",
              "      <td>-0.141249</td>\n",
              "      <td>0.184978</td>\n",
              "    </tr>\n",
              "    <tr>\n",
              "      <th>2020-08-26</th>\n",
              "      <td>274.190344</td>\n",
              "      <td>1278.0</td>\n",
              "      <td>-0.002076</td>\n",
              "      <td>0.184978</td>\n",
              "    </tr>\n",
              "    <tr>\n",
              "      <th>2020-08-27</th>\n",
              "      <td>80.290997</td>\n",
              "      <td>1278.0</td>\n",
              "      <td>-0.682025</td>\n",
              "      <td>0.184978</td>\n",
              "    </tr>\n",
              "    <tr>\n",
              "      <th>2020-08-28</th>\n",
              "      <td>319.488818</td>\n",
              "      <td>1278.0</td>\n",
              "      <td>0.156772</td>\n",
              "      <td>0.184978</td>\n",
              "    </tr>\n",
              "    <tr>\n",
              "      <th>2020-08-31</th>\n",
              "      <td>309.525652</td>\n",
              "      <td>1278.0</td>\n",
              "      <td>0.121834</td>\n",
              "      <td>0.184978</td>\n",
              "    </tr>\n",
              "  </tbody>\n",
              "</table>\n",
              "</div>"
            ],
            "text/plain": [
              "            per_sqft_rate  ...  scaled_covid_cases\n",
              "sales_date                 ...                    \n",
              "2020-08-14     380.451005  ...            0.184978\n",
              "2020-08-17     163.150596  ...            0.184978\n",
              "2020-08-18     231.811139  ...            0.184978\n",
              "2020-08-20     236.500263  ...            0.184978\n",
              "2020-08-24     294.098433  ...            0.184978\n",
              "2020-08-25     234.502818  ...            0.184978\n",
              "2020-08-26     274.190344  ...            0.184978\n",
              "2020-08-27      80.290997  ...            0.184978\n",
              "2020-08-28     319.488818  ...            0.184978\n",
              "2020-08-31     309.525652  ...            0.184978\n",
              "\n",
              "[10 rows x 4 columns]"
            ]
          },
          "metadata": {
            "tags": []
          },
          "execution_count": 38
        }
      ]
    },
    {
      "cell_type": "code",
      "metadata": {
        "colab": {
          "base_uri": "https://localhost:8080/",
          "height": 390
        },
        "id": "a8hCAnuf2yLU",
        "outputId": "8e82bf34-336e-4b6e-c9b8-b3770468aa71"
      },
      "source": [
        "#Plotting Normalized Prices and Covid Cases\n",
        "plt.figure(figsize=(20,6))\n",
        "plt.title(\"Covid Cases and Per Sqft Housing Prices Over Time in Brooklyn (Scaled)\")\n",
        "plt.plot(df_MN['scaled_covid_cases'], linestyle='solid', color='orange', label=\"Covid Cases\")\n",
        "plt.plot(df_MN['scaled_per_sqft_rate'], linestyle='solid', color='teal', label=\"Per Sqft. Rate in Dollars\")\n",
        "plt.legend(loc=\"upper left\")\n",
        "plt.grid(False)\n",
        "#sns.lineplot(data=trends.drop(['sales_price', 'covid_cases'], axis=1));"
      ],
      "execution_count": 39,
      "outputs": [
        {
          "output_type": "display_data",
          "data": {
            "image/png": "[encoded data removed]",
            "text/plain": [
              "<Figure size 1440x432 with 1 Axes>"
            ]
          },
          "metadata": {
            "tags": [],
            "needs_background": "light"
          }
        }
      ]
    },
    {
      "cell_type": "code",
      "metadata": {
        "colab": {
          "base_uri": "https://localhost:8080/"
        },
        "id": "m-xL74KaOm7k",
        "outputId": "6f491e2d-5835-4338-c311-8184a1ca5915"
      },
      "source": [
        "#Separate dates for future plotting\n",
        "train_dates = pd.to_datetime(df_MN.index)\n",
        "train_dates"
      ],
      "execution_count": 45,
      "outputs": [
        {
          "output_type": "execute_result",
          "data": {
            "text/plain": [
              "DatetimeIndex(['2018-01-01', '2018-01-02', '2018-01-03', '2018-01-04',\n",
              "               '2018-01-05', '2018-01-08', '2018-01-09', '2018-01-10',\n",
              "               '2018-01-11', '2018-01-12',\n",
              "               ...\n",
              "               '2020-08-14', '2020-08-17', '2020-08-18', '2020-08-20',\n",
              "               '2020-08-24', '2020-08-25', '2020-08-26', '2020-08-27',\n",
              "               '2020-08-28', '2020-08-31'],\n",
              "              dtype='datetime64[ns]', name='sales_date', length=625, freq=None)"
            ]
          },
          "metadata": {
            "tags": []
          },
          "execution_count": 45
        }
      ]
    },
    {
      "cell_type": "code",
      "metadata": {
        "id": "d1gDbGP_jpfy"
      },
      "source": [
        "trainX = []\n",
        "trainY = []\n",
        "\n",
        "n_future = 1   # Number of days we want to predict into the future\n",
        "n_past = 21     # Number of past days we want to use to predict the future\n",
        "\n",
        "\n",
        "#Creating sequential window trainX for training. \n",
        "#Sample trainX window : [0.1 0.2 0.3 0.5 0.4 0.1 ]\n",
        "for i in range(n_past, len(df_scaled) - n_future +1):\n",
        "    trainX.append(df_scaled[i - n_past:i, 0:df_scaled.shape[1]])\n",
        "\n",
        "    #trainY.append(df_scaled[i + n_future - 1:i + n_future, 0])\n",
        "    trainY.append(df_scaled[i + n_future - 1:i + n_future, :])  #We want to predict both covid cases and per sq. ft rate, so trin y will contain both.  \n",
        "\n",
        "\n"
      ],
      "execution_count": 46,
      "outputs": []
    },
    {
      "cell_type": "code",
      "metadata": {
        "id": "0F7i7fHjs2fO"
      },
      "source": [
        "trainX, trainY = np.array(trainX), np.array(trainY)"
      ],
      "execution_count": 47,
      "outputs": []
    },
    {
      "cell_type": "code",
      "metadata": {
        "id": "RuSAVAz30bas"
      },
      "source": [
        "#trainX=trainX[:800]\n",
        "#trainY=trainY[:800]\n",
        "trainX.shape"
      ],
      "execution_count": null,
      "outputs": []
    },
    {
      "cell_type": "code",
      "metadata": {
        "colab": {
          "base_uri": "https://localhost:8080/"
        },
        "id": "_qiS5BXzZo8-",
        "outputId": "30858cec-1a52-48ae-a204-98f79c9fb35c"
      },
      "source": [
        "trainY.shape"
      ],
      "execution_count": 48,
      "outputs": [
        {
          "output_type": "execute_result",
          "data": {
            "text/plain": [
              "(604, 1, 2)"
            ]
          },
          "metadata": {
            "tags": []
          },
          "execution_count": 48
        }
      ]
    },
    {
      "cell_type": "code",
      "metadata": {
        "colab": {
          "base_uri": "https://localhost:8080/"
        },
        "id": "gK--kpB5s1rs",
        "outputId": "7e69028c-aeb8-451d-8bd3-70c0163fd5ad"
      },
      "source": [
        "df_scaled.shape"
      ],
      "execution_count": 49,
      "outputs": [
        {
          "output_type": "execute_result",
          "data": {
            "text/plain": [
              "(625, 2)"
            ]
          },
          "metadata": {
            "tags": []
          },
          "execution_count": 49
        }
      ]
    },
    {
      "cell_type": "code",
      "metadata": {
        "id": "EWLTBDr3t_N0",
        "colab": {
          "base_uri": "https://localhost:8080/"
        },
        "outputId": "5a3bbcad-309a-49c4-c26d-8ab7ded9c39e"
      },
      "source": [
        "print(trainX[0])"
      ],
      "execution_count": 50,
      "outputs": [
        {
          "output_type": "stream",
          "text": [
            "[[-0.91068322 -0.3221843 ]\n",
            " [-0.91434697 -0.3221843 ]\n",
            " [-0.88341845 -0.3221843 ]\n",
            " [-0.92624013 -0.3221843 ]\n",
            " [-0.94842361 -0.3221843 ]\n",
            " [-0.87993164 -0.3221843 ]\n",
            " [-0.60137938 -0.3221843 ]\n",
            " [-0.72392091 -0.3221843 ]\n",
            " [-0.91739153 -0.3221843 ]\n",
            " [-0.51246776 -0.3221843 ]\n",
            " [-0.81983561 -0.3221843 ]\n",
            " [-0.77715134 -0.3221843 ]\n",
            " [-0.79153536 -0.3221843 ]\n",
            " [-0.31634797 -0.3221843 ]\n",
            " [-0.95321165 -0.3221843 ]\n",
            " [-0.92943468 -0.3221843 ]\n",
            " [-0.50508467 -0.3221843 ]\n",
            " [-0.79803979 -0.3221843 ]\n",
            " [-0.73630157 -0.3221843 ]\n",
            " [-0.88818386 -0.3221843 ]\n",
            " [-0.8337705  -0.3221843 ]]\n"
          ],
          "name": "stdout"
        }
      ]
    },
    {
      "cell_type": "code",
      "metadata": {
        "colab": {
          "base_uri": "https://localhost:8080/"
        },
        "id": "o33aOj19o8Ho",
        "outputId": "3fa9cdd8-9508-4b74-b2c3-6eb9eef4c5e6"
      },
      "source": [
        "print(trainX.shape, trainY.shape[1])"
      ],
      "execution_count": 51,
      "outputs": [
        {
          "output_type": "stream",
          "text": [
            "(604, 21, 2) 1\n"
          ],
          "name": "stdout"
        }
      ]
    },
    {
      "cell_type": "code",
      "metadata": {
        "colab": {
          "base_uri": "https://localhost:8080/"
        },
        "id": "XBJuEABfJhzB",
        "outputId": "3b87819a-16ed-4d8a-9e92-5a2d4f942c10"
      },
      "source": [
        "print('trainX shape == {}.'.format(trainX.shape))\n",
        "print('trainY shape == {}.'.format(trainY.shape))\n"
      ],
      "execution_count": 52,
      "outputs": [
        {
          "output_type": "stream",
          "text": [
            "trainX shape == (604, 21, 2).\n",
            "trainY shape == (604, 1, 2).\n"
          ],
          "name": "stdout"
        }
      ]
    },
    {
      "cell_type": "code",
      "metadata": {
        "id": "Qi2wbtW2Pk0H",
        "colab": {
          "base_uri": "https://localhost:8080/",
          "height": 352
        },
        "outputId": "db3915c4-97c5-4bf0-e2e1-1bdcba1e7742"
      },
      "source": [
        "# Correlations among columns\n",
        "import seaborn as sns\n",
        "sns.heatmap(df.corr(),annot=True);\n",
        "plt.title('Correlation Among Features', size=10);\n",
        "plt.figure(figsize=(15,15));\n",
        "plt.show();"
      ],
      "execution_count": 53,
      "outputs": [
        {
          "output_type": "display_data",
          "data": {
            "image/png": "[encoded data removed]",
            "text/plain": [
              "<Figure size 432x288 with 2 Axes>"
            ]
          },
          "metadata": {
            "tags": [],
            "needs_background": "light"
          }
        },
        {
          "output_type": "display_data",
          "data": {
            "text/plain": [
              "<Figure size 1080x1080 with 0 Axes>"
            ]
          },
          "metadata": {
            "tags": []
          }
        }
      ]
    },
    {
      "cell_type": "code",
      "metadata": {
        "colab": {
          "base_uri": "https://localhost:8080/"
        },
        "id": "YU6KmK65mLwU",
        "outputId": "5e321a6d-959f-41bc-db5c-7d8067781a98"
      },
      "source": [
        "# define LSTM model\n",
        "model=None\n",
        "model = Sequential()\n",
        "model.add(LSTM(32, activation='relu', input_shape=(trainX.shape[1], trainX.shape[2]), return_sequences=True))\n",
        "model.add(LSTM(32, activation='relu', return_sequences=False))\n",
        "model.add(Dropout(0.2))\n",
        "model.add(Dense(1))\n",
        "\n",
        "model.compile(optimizer='adam', loss='mse')\n",
        "model.summary()\n"
      ],
      "execution_count": 54,
      "outputs": [
        {
          "output_type": "stream",
          "text": [
            "Model: \"sequential\"\n",
            "_________________________________________________________________\n",
            "Layer (type)                 Output Shape              Param #   \n",
            "=================================================================\n",
            "lstm (LSTM)                  (None, 21, 32)            4480      \n",
            "_________________________________________________________________\n",
            "lstm_1 (LSTM)                (None, 32)                8320      \n",
            "_________________________________________________________________\n",
            "dropout (Dropout)            (None, 32)                0         \n",
            "_________________________________________________________________\n",
            "dense (Dense)                (None, 1)                 33        \n",
            "=================================================================\n",
            "Total params: 12,833\n",
            "Trainable params: 12,833\n",
            "Non-trainable params: 0\n",
            "_________________________________________________________________\n"
          ],
          "name": "stdout"
        }
      ]
    },
    {
      "cell_type": "code",
      "metadata": {
        "colab": {
          "base_uri": "https://localhost:8080/",
          "height": 652
        },
        "id": "sdX8AblHvwNa",
        "outputId": "04c88c1c-4585-491f-ebb6-d1c59a8401d4"
      },
      "source": [
        "print('Train...')\n",
        "\n",
        "#fit\n",
        "\n",
        "history = model.fit(trainX, trainY, epochs=10, batch_size=70, validation_split=0.3, verbose=1)\n",
        "# summarize history for loss\n",
        "plt.plot(history.history['loss'])\n",
        "plt.plot(history.history['val_loss'])\n",
        "plt.title('model loss')\n",
        "plt.ylabel('loss')\n",
        "plt.xlabel('epoch')\n",
        "plt.legend(['train', 'test'], loc='upper right')\n",
        "plt.show()\n",
        "\n"
      ],
      "execution_count": 55,
      "outputs": [
        {
          "output_type": "stream",
          "text": [
            "Train...\n",
            "Epoch 1/10\n",
            "7/7 [==============================] - 3s 93ms/step - loss: 0.5379 - val_loss: 2.7474\n",
            "Epoch 2/10\n",
            "7/7 [==============================] - 0s 28ms/step - loss: 0.4334 - val_loss: 3.6455\n",
            "Epoch 3/10\n",
            "7/7 [==============================] - 0s 29ms/step - loss: 0.5094 - val_loss: 3.7706\n",
            "Epoch 4/10\n",
            "7/7 [==============================] - 0s 31ms/step - loss: 0.4672 - val_loss: 3.2176\n",
            "Epoch 5/10\n",
            "7/7 [==============================] - 0s 28ms/step - loss: 0.4704 - val_loss: 3.0620\n",
            "Epoch 6/10\n",
            "7/7 [==============================] - 0s 29ms/step - loss: 0.5033 - val_loss: 3.0732\n",
            "Epoch 7/10\n",
            "7/7 [==============================] - 0s 29ms/step - loss: 0.4350 - val_loss: 3.0590\n",
            "Epoch 8/10\n",
            "7/7 [==============================] - 0s 31ms/step - loss: 0.4042 - val_loss: 3.1538\n",
            "Epoch 9/10\n",
            "7/7 [==============================] - 0s 29ms/step - loss: 0.4784 - val_loss: 3.2022\n",
            "Epoch 10/10\n",
            "7/7 [==============================] - 0s 29ms/step - loss: 0.4690 - val_loss: 3.0531\n"
          ],
          "name": "stdout"
        },
        {
          "output_type": "display_data",
          "data": {
            "image/png": "[encoded data removed]",
            "text/plain": [
              "<Figure size 432x288 with 1 Axes>"
            ]
          },
          "metadata": {
            "tags": [],
            "needs_background": "light"
          }
        }
      ]
    },
    {
      "cell_type": "code",
      "metadata": {
        "colab": {
          "base_uri": "https://localhost:8080/"
        },
        "id": "tMTbEJ2zqOMo",
        "outputId": "dfc5d37d-7115-4389-8332-8e561f3f5120"
      },
      "source": [
        "print(len(history.history['loss']))"
      ],
      "execution_count": null,
      "outputs": [
        {
          "output_type": "stream",
          "text": [
            "10\n"
          ],
          "name": "stdout"
        }
      ]
    },
    {
      "cell_type": "code",
      "metadata": {
        "colab": {
          "base_uri": "https://localhost:8080/"
        },
        "id": "jCHtxebYdFN8",
        "outputId": "f36b9851-5822-4ee6-e066-aaba9e89432c"
      },
      "source": [
        "print(len(train_dates))"
      ],
      "execution_count": null,
      "outputs": [
        {
          "output_type": "stream",
          "text": [
            "827\n"
          ],
          "name": "stdout"
        }
      ]
    },
    {
      "cell_type": "code",
      "metadata": {
        "id": "2gWtfjS5OZ2y",
        "colab": {
          "base_uri": "https://localhost:8080/",
          "height": 286
        },
        "outputId": "ce1521d4-010a-4017-e6e6-60ce1b22bcca"
      },
      "source": [
        "#Forecasting...\n",
        "#Start with the last day in training date and predict future...\n",
        "n_future=90 #Redefining n_future to extend prediction dates beyond original n_future dates...\n",
        "forecast_period_dates = pd.date_range(list(train_dates)[-1], periods=n_future, freq='1d').tolist()\n",
        "#print(type(forecast_period_dates[0]))\n",
        "\n",
        "forecast = model.predict(trainX[-n_future:]) #forecast \n",
        "#print(forecast)\n",
        "#Perform inverse transformation to rescale back to original range\n",
        "#Since we used 2 variables for transform, the inverse expects same dimensions\n",
        "#Therefore, let us copy our values 2 times and discard them after inverse transform\n",
        "#forecast_copies=None\n",
        "forecast_copies = np.repeat(forecast,2, axis=-1)\n",
        "print(forecast.shape)\n",
        "\n",
        "#Inverse Transform the forecast using previous scaler\n",
        "y_pred_future = scaler.inverse_transform(forecast_copies)[:,:]\n",
        "\n",
        "# Convert timestamp to date\n",
        "forecast_dates = []\n",
        "for time_i in forecast_period_dates:\n",
        "    forecast_dates.append(time_i.date())\n",
        "\n",
        "\n",
        "print(np.array(forecast_dates).shape)\n",
        "print(np.array(y_pred_future[:,0]).shape)\n",
        "    \n",
        "df_forecast = pd.DataFrame({'sales_date':np.array(forecast_dates), 'per_sqft_rate':y_pred_future[:,0]})\n",
        "df_forecast['sales_date']=pd.to_datetime(df_forecast['sales_date'])\n",
        "original = pd.DataFrame()\n",
        "original['per_sqft_rate'] = df_MN['per_sqft_rate']\n",
        "original['sales_date']=train_dates\n",
        "original['sales_date']=pd.to_datetime(original['sales_date'])\n",
        "original=original[0:-1]\n",
        "original = original[original['sales_date'] >= '2020-8-1']\n",
        "original.head()\n",
        "\n"
      ],
      "execution_count": 57,
      "outputs": [
        {
          "output_type": "stream",
          "text": [
            "(90, 1)\n",
            "(90,)\n",
            "(90,)\n"
          ],
          "name": "stdout"
        },
        {
          "output_type": "execute_result",
          "data": {
            "text/html": [
              "<div>\n",
              "<style scoped>\n",
              "    .dataframe tbody tr th:only-of-type {\n",
              "        vertical-align: middle;\n",
              "    }\n",
              "\n",
              "    .dataframe tbody tr th {\n",
              "        vertical-align: top;\n",
              "    }\n",
              "\n",
              "    .dataframe thead th {\n",
              "        text-align: right;\n",
              "    }\n",
              "</style>\n",
              "<table border=\"1\" class=\"dataframe\">\n",
              "  <thead>\n",
              "    <tr style=\"text-align: right;\">\n",
              "      <th></th>\n",
              "      <th>per_sqft_rate</th>\n",
              "      <th>sales_date</th>\n",
              "    </tr>\n",
              "    <tr>\n",
              "      <th>sales_date</th>\n",
              "      <th></th>\n",
              "      <th></th>\n",
              "    </tr>\n",
              "  </thead>\n",
              "  <tbody>\n",
              "    <tr>\n",
              "      <th>2020-08-03</th>\n",
              "      <td>305.916204</td>\n",
              "      <td>2020-08-03</td>\n",
              "    </tr>\n",
              "    <tr>\n",
              "      <th>2020-08-05</th>\n",
              "      <td>325.227949</td>\n",
              "      <td>2020-08-05</td>\n",
              "    </tr>\n",
              "    <tr>\n",
              "      <th>2020-08-07</th>\n",
              "      <td>338.600451</td>\n",
              "      <td>2020-08-07</td>\n",
              "    </tr>\n",
              "    <tr>\n",
              "      <th>2020-08-10</th>\n",
              "      <td>711.878740</td>\n",
              "      <td>2020-08-10</td>\n",
              "    </tr>\n",
              "    <tr>\n",
              "      <th>2020-08-11</th>\n",
              "      <td>220.430631</td>\n",
              "      <td>2020-08-11</td>\n",
              "    </tr>\n",
              "  </tbody>\n",
              "</table>\n",
              "</div>"
            ],
            "text/plain": [
              "            per_sqft_rate sales_date\n",
              "sales_date                          \n",
              "2020-08-03     305.916204 2020-08-03\n",
              "2020-08-05     325.227949 2020-08-05\n",
              "2020-08-07     338.600451 2020-08-07\n",
              "2020-08-10     711.878740 2020-08-10\n",
              "2020-08-11     220.430631 2020-08-11"
            ]
          },
          "metadata": {
            "tags": []
          },
          "execution_count": 57
        }
      ]
    },
    {
      "cell_type": "code",
      "metadata": {
        "colab": {
          "base_uri": "https://localhost:8080/",
          "height": 694
        },
        "id": "ICficRjq7nLt",
        "outputId": "cad5e80b-4bef-4a45-a642-9919564b38c1"
      },
      "source": [
        "import seaborn as sns\n",
        "plt.figure(figsize=(15,10))\n",
        "sns.lineplot(original['sales_date'], original['per_sqft_rate']);\n",
        "sns.lineplot(df_forecast['sales_date'], df_forecast['per_sqft_rate']);\n"
      ],
      "execution_count": 58,
      "outputs": [
        {
          "output_type": "stream",
          "text": [
            "/usr/local/lib/python3.7/dist-packages/seaborn/_decorators.py:43: FutureWarning: Pass the following variables as keyword args: x, y. From version 0.12, the only valid positional argument will be `data`, and passing other arguments without an explicit keyword will result in an error or misinterpretation.\n",
            "  FutureWarning\n",
            "/usr/local/lib/python3.7/dist-packages/seaborn/_decorators.py:43: FutureWarning: Pass the following variables as keyword args: x, y. From version 0.12, the only valid positional argument will be `data`, and passing other arguments without an explicit keyword will result in an error or misinterpretation.\n",
            "  FutureWarning\n"
          ],
          "name": "stderr"
        },
        {
          "output_type": "display_data",
          "data": {
            "image/png": "[encoded data removed]",
            "text/plain": [
              "<Figure size 1080x720 with 1 Axes>"
            ]
          },
          "metadata": {
            "tags": [],
            "needs_background": "light"
          }
        }
      ]
    }
  ]
}