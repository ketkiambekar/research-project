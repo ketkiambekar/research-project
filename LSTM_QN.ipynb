{
  "nbformat": 4,
  "nbformat_minor": 0,
  "metadata": {
    "colab": {
      "name": " LSTM_QN.ipynb",
      "provenance": [],
      "include_colab_link": true
    },
    "kernelspec": {
      "name": "python3",
      "display_name": "Python 3"
    },
    "language_info": {
      "name": "python"
    }
  },
  "cells": [
    {
      "cell_type": "markdown",
      "metadata": {
        "id": "view-in-github",
        "colab_type": "text"
      },
      "source": [
        "<a href=\"https://colab.research.google.com/github/ketkiambekar/masters-research-project/blob/main/LSTM_QN.ipynb\" target=\"_parent\"><img src=\"https://colab.research.google.com/assets/colab-badge.svg\" alt=\"Open In Colab\"/></a>"
      ]
    },
    {
      "cell_type": "code",
      "metadata": {
        "id": "qsY91EM5vaTK",
        "colab": {
          "base_uri": "https://localhost:8080/"
        },
        "outputId": "5c92a8b5-b516-4c48-89ad-bb76da6f6df0"
      },
      "source": [
        "from google.colab import drive\n",
        "drive.mount('/content/drive')"
      ],
      "execution_count": 1,
      "outputs": [
        {
          "output_type": "stream",
          "text": [
            "Mounted at /content/drive\n"
          ],
          "name": "stdout"
        }
      ]
    },
    {
      "cell_type": "code",
      "metadata": {
        "colab": {
          "base_uri": "https://localhost:8080/"
        },
        "id": "y5rwvKysc5cv",
        "outputId": "85f61383-ea28-4d39-e0c0-dbd8ca946c76"
      },
      "source": [
        "%cd drive/MyDrive/KetkiAmbekar/Raw\\ Data\\ Files\n",
        "%pwd\n",
        "%ls"
      ],
      "execution_count": 2,
      "outputs": [
        {
          "output_type": "stream",
          "text": [
            "/content/drive/.shortcut-targets-by-id/1zDGtpS_EJdRSKz3jZptcq5k6f4jqXBwI/KetkiAmbekar/Raw Data Files\n",
            " covid_BK.xlsx                   NYC_housing_prices_dropped_na.csv\n",
            " covid_BX.xlsx                   NYC_Housing_prices_dropped_values.csv\n",
            " covid_MN.xlsx                   NYC_HP_LSTM.csv\n",
            " covid_QN.xlsx                  'nyc_pluto_20v7_csv(1).zip'\n",
            " covid_real_estate.csv           nyc_pluto_20v7_csv.zip\n",
            " covid_SI.xlsx                   nyc_real_estate_PLUTO_+_Final.csv\n",
            " nyc_dataset_final.xlsx          pluto_20v7.csv\n",
            " NYC_housing_prices_dropped_na   \u001b[0m\u001b[01;34mTemperatures\u001b[0m/\n"
          ],
          "name": "stdout"
        }
      ]
    },
    {
      "cell_type": "code",
      "metadata": {
        "id": "YhI7JxKXP5p4"
      },
      "source": [
        "#Import Libraries\n",
        "import matplotlib.pyplot as plt\n",
        "import pandas as pd\n",
        "import math\n",
        "import numpy as np\n",
        "from keras.models import Sequential\n",
        "from keras.layers import Dense, Dropout\n",
        "from keras.layers import LSTM\n",
        "from sklearn.preprocessing import StandardScaler\n",
        "from sklearn.metrics import mean_squared_error\n",
        "\n",
        "\n",
        "# fix random seed for reproducibility\n",
        "np.random.seed(7)"
      ],
      "execution_count": 3,
      "outputs": []
    },
    {
      "cell_type": "code",
      "metadata": {
        "id": "ihOvRWPGPXg3",
        "colab": {
          "base_uri": "https://localhost:8080/",
          "height": 419
        },
        "outputId": "d2b7f7ac-1c7c-41e7-89e6-2a6d97e44cf7"
      },
      "source": [
        "# load the dataset\n",
        "#df = pd.read_csv('NYC_HP_LSTM.csv', engine='python', index_col='sales_date', parse_dates=True )\n",
        "df = pd.read_csv('NYC_HP_LSTM.csv', engine='python', parse_dates=True )\n",
        "df\n"
      ],
      "execution_count": 4,
      "outputs": [
        {
          "output_type": "execute_result",
          "data": {
            "text/html": [
              "<div>\n",
              "<style scoped>\n",
              "    .dataframe tbody tr th:only-of-type {\n",
              "        vertical-align: middle;\n",
              "    }\n",
              "\n",
              "    .dataframe tbody tr th {\n",
              "        vertical-align: top;\n",
              "    }\n",
              "\n",
              "    .dataframe thead th {\n",
              "        text-align: right;\n",
              "    }\n",
              "</style>\n",
              "<table border=\"1\" class=\"dataframe\">\n",
              "  <thead>\n",
              "    <tr style=\"text-align: right;\">\n",
              "      <th></th>\n",
              "      <th>Unnamed: 0</th>\n",
              "      <th>borough_BK</th>\n",
              "      <th>borough_BX</th>\n",
              "      <th>borough_MN</th>\n",
              "      <th>borough_QN</th>\n",
              "      <th>borough_SI</th>\n",
              "      <th>tot_area</th>\n",
              "      <th>covid_cases</th>\n",
              "      <th>sales_date</th>\n",
              "      <th>sales_price</th>\n",
              "    </tr>\n",
              "  </thead>\n",
              "  <tbody>\n",
              "    <tr>\n",
              "      <th>0</th>\n",
              "      <td>0</td>\n",
              "      <td>1.0</td>\n",
              "      <td>0.0</td>\n",
              "      <td>0.0</td>\n",
              "      <td>0.0</td>\n",
              "      <td>0.0</td>\n",
              "      <td>66638.0</td>\n",
              "      <td>1608</td>\n",
              "      <td>2020-08-31</td>\n",
              "      <td>5585336</td>\n",
              "    </tr>\n",
              "    <tr>\n",
              "      <th>1</th>\n",
              "      <td>1</td>\n",
              "      <td>1.0</td>\n",
              "      <td>0.0</td>\n",
              "      <td>0.0</td>\n",
              "      <td>0.0</td>\n",
              "      <td>0.0</td>\n",
              "      <td>8300.0</td>\n",
              "      <td>1608</td>\n",
              "      <td>2020-08-31</td>\n",
              "      <td>1643000</td>\n",
              "    </tr>\n",
              "    <tr>\n",
              "      <th>2</th>\n",
              "      <td>2</td>\n",
              "      <td>1.0</td>\n",
              "      <td>0.0</td>\n",
              "      <td>0.0</td>\n",
              "      <td>0.0</td>\n",
              "      <td>0.0</td>\n",
              "      <td>7488.0</td>\n",
              "      <td>1608</td>\n",
              "      <td>2020-08-31</td>\n",
              "      <td>1200000</td>\n",
              "    </tr>\n",
              "    <tr>\n",
              "      <th>3</th>\n",
              "      <td>3</td>\n",
              "      <td>1.0</td>\n",
              "      <td>0.0</td>\n",
              "      <td>0.0</td>\n",
              "      <td>0.0</td>\n",
              "      <td>0.0</td>\n",
              "      <td>6429.0</td>\n",
              "      <td>1608</td>\n",
              "      <td>2020-08-31</td>\n",
              "      <td>735000</td>\n",
              "    </tr>\n",
              "    <tr>\n",
              "      <th>4</th>\n",
              "      <td>4</td>\n",
              "      <td>1.0</td>\n",
              "      <td>0.0</td>\n",
              "      <td>0.0</td>\n",
              "      <td>0.0</td>\n",
              "      <td>0.0</td>\n",
              "      <td>7000.0</td>\n",
              "      <td>1608</td>\n",
              "      <td>2020-08-31</td>\n",
              "      <td>775000</td>\n",
              "    </tr>\n",
              "    <tr>\n",
              "      <th>...</th>\n",
              "      <td>...</td>\n",
              "      <td>...</td>\n",
              "      <td>...</td>\n",
              "      <td>...</td>\n",
              "      <td>...</td>\n",
              "      <td>...</td>\n",
              "      <td>...</td>\n",
              "      <td>...</td>\n",
              "      <td>...</td>\n",
              "      <td>...</td>\n",
              "    </tr>\n",
              "    <tr>\n",
              "      <th>76837</th>\n",
              "      <td>76837</td>\n",
              "      <td>0.0</td>\n",
              "      <td>0.0</td>\n",
              "      <td>0.0</td>\n",
              "      <td>0.0</td>\n",
              "      <td>1.0</td>\n",
              "      <td>5264.0</td>\n",
              "      <td>0</td>\n",
              "      <td>2018-01-02</td>\n",
              "      <td>680000</td>\n",
              "    </tr>\n",
              "    <tr>\n",
              "      <th>76838</th>\n",
              "      <td>76838</td>\n",
              "      <td>0.0</td>\n",
              "      <td>0.0</td>\n",
              "      <td>0.0</td>\n",
              "      <td>0.0</td>\n",
              "      <td>1.0</td>\n",
              "      <td>10268.0</td>\n",
              "      <td>0</td>\n",
              "      <td>2018-01-02</td>\n",
              "      <td>400000</td>\n",
              "    </tr>\n",
              "    <tr>\n",
              "      <th>76839</th>\n",
              "      <td>76839</td>\n",
              "      <td>0.0</td>\n",
              "      <td>0.0</td>\n",
              "      <td>0.0</td>\n",
              "      <td>0.0</td>\n",
              "      <td>1.0</td>\n",
              "      <td>4901.0</td>\n",
              "      <td>0</td>\n",
              "      <td>2018-01-02</td>\n",
              "      <td>565000</td>\n",
              "    </tr>\n",
              "    <tr>\n",
              "      <th>76840</th>\n",
              "      <td>76840</td>\n",
              "      <td>0.0</td>\n",
              "      <td>0.0</td>\n",
              "      <td>0.0</td>\n",
              "      <td>0.0</td>\n",
              "      <td>1.0</td>\n",
              "      <td>6525.0</td>\n",
              "      <td>0</td>\n",
              "      <td>2018-01-02</td>\n",
              "      <td>499500</td>\n",
              "    </tr>\n",
              "    <tr>\n",
              "      <th>76841</th>\n",
              "      <td>76841</td>\n",
              "      <td>0.0</td>\n",
              "      <td>0.0</td>\n",
              "      <td>0.0</td>\n",
              "      <td>0.0</td>\n",
              "      <td>1.0</td>\n",
              "      <td>8300.0</td>\n",
              "      <td>0</td>\n",
              "      <td>2018-01-02</td>\n",
              "      <td>685000</td>\n",
              "    </tr>\n",
              "  </tbody>\n",
              "</table>\n",
              "<p>76842 rows × 10 columns</p>\n",
              "</div>"
            ],
            "text/plain": [
              "       Unnamed: 0  borough_BK  borough_BX  ...  covid_cases  sales_date  sales_price\n",
              "0               0         1.0         0.0  ...         1608  2020-08-31      5585336\n",
              "1               1         1.0         0.0  ...         1608  2020-08-31      1643000\n",
              "2               2         1.0         0.0  ...         1608  2020-08-31      1200000\n",
              "3               3         1.0         0.0  ...         1608  2020-08-31       735000\n",
              "4               4         1.0         0.0  ...         1608  2020-08-31       775000\n",
              "...           ...         ...         ...  ...          ...         ...          ...\n",
              "76837       76837         0.0         0.0  ...            0  2018-01-02       680000\n",
              "76838       76838         0.0         0.0  ...            0  2018-01-02       400000\n",
              "76839       76839         0.0         0.0  ...            0  2018-01-02       565000\n",
              "76840       76840         0.0         0.0  ...            0  2018-01-02       499500\n",
              "76841       76841         0.0         0.0  ...            0  2018-01-02       685000\n",
              "\n",
              "[76842 rows x 10 columns]"
            ]
          },
          "metadata": {
            "tags": []
          },
          "execution_count": 4
        }
      ]
    },
    {
      "cell_type": "code",
      "metadata": {
        "colab": {
          "base_uri": "https://localhost:8080/",
          "height": 204
        },
        "id": "BUyuHFMfhsWy",
        "outputId": "7b3f44f4-d56e-409f-da4c-561731adfaa6"
      },
      "source": [
        "df.drop(columns=['Unnamed: 0'], inplace=True)\n",
        "df.head()"
      ],
      "execution_count": 5,
      "outputs": [
        {
          "output_type": "execute_result",
          "data": {
            "text/html": [
              "<div>\n",
              "<style scoped>\n",
              "    .dataframe tbody tr th:only-of-type {\n",
              "        vertical-align: middle;\n",
              "    }\n",
              "\n",
              "    .dataframe tbody tr th {\n",
              "        vertical-align: top;\n",
              "    }\n",
              "\n",
              "    .dataframe thead th {\n",
              "        text-align: right;\n",
              "    }\n",
              "</style>\n",
              "<table border=\"1\" class=\"dataframe\">\n",
              "  <thead>\n",
              "    <tr style=\"text-align: right;\">\n",
              "      <th></th>\n",
              "      <th>borough_BK</th>\n",
              "      <th>borough_BX</th>\n",
              "      <th>borough_MN</th>\n",
              "      <th>borough_QN</th>\n",
              "      <th>borough_SI</th>\n",
              "      <th>tot_area</th>\n",
              "      <th>covid_cases</th>\n",
              "      <th>sales_date</th>\n",
              "      <th>sales_price</th>\n",
              "    </tr>\n",
              "  </thead>\n",
              "  <tbody>\n",
              "    <tr>\n",
              "      <th>0</th>\n",
              "      <td>1.0</td>\n",
              "      <td>0.0</td>\n",
              "      <td>0.0</td>\n",
              "      <td>0.0</td>\n",
              "      <td>0.0</td>\n",
              "      <td>66638.0</td>\n",
              "      <td>1608</td>\n",
              "      <td>2020-08-31</td>\n",
              "      <td>5585336</td>\n",
              "    </tr>\n",
              "    <tr>\n",
              "      <th>1</th>\n",
              "      <td>1.0</td>\n",
              "      <td>0.0</td>\n",
              "      <td>0.0</td>\n",
              "      <td>0.0</td>\n",
              "      <td>0.0</td>\n",
              "      <td>8300.0</td>\n",
              "      <td>1608</td>\n",
              "      <td>2020-08-31</td>\n",
              "      <td>1643000</td>\n",
              "    </tr>\n",
              "    <tr>\n",
              "      <th>2</th>\n",
              "      <td>1.0</td>\n",
              "      <td>0.0</td>\n",
              "      <td>0.0</td>\n",
              "      <td>0.0</td>\n",
              "      <td>0.0</td>\n",
              "      <td>7488.0</td>\n",
              "      <td>1608</td>\n",
              "      <td>2020-08-31</td>\n",
              "      <td>1200000</td>\n",
              "    </tr>\n",
              "    <tr>\n",
              "      <th>3</th>\n",
              "      <td>1.0</td>\n",
              "      <td>0.0</td>\n",
              "      <td>0.0</td>\n",
              "      <td>0.0</td>\n",
              "      <td>0.0</td>\n",
              "      <td>6429.0</td>\n",
              "      <td>1608</td>\n",
              "      <td>2020-08-31</td>\n",
              "      <td>735000</td>\n",
              "    </tr>\n",
              "    <tr>\n",
              "      <th>4</th>\n",
              "      <td>1.0</td>\n",
              "      <td>0.0</td>\n",
              "      <td>0.0</td>\n",
              "      <td>0.0</td>\n",
              "      <td>0.0</td>\n",
              "      <td>7000.0</td>\n",
              "      <td>1608</td>\n",
              "      <td>2020-08-31</td>\n",
              "      <td>775000</td>\n",
              "    </tr>\n",
              "  </tbody>\n",
              "</table>\n",
              "</div>"
            ],
            "text/plain": [
              "   borough_BK  borough_BX  borough_MN  ...  covid_cases  sales_date  sales_price\n",
              "0         1.0         0.0         0.0  ...         1608  2020-08-31      5585336\n",
              "1         1.0         0.0         0.0  ...         1608  2020-08-31      1643000\n",
              "2         1.0         0.0         0.0  ...         1608  2020-08-31      1200000\n",
              "3         1.0         0.0         0.0  ...         1608  2020-08-31       735000\n",
              "4         1.0         0.0         0.0  ...         1608  2020-08-31       775000\n",
              "\n",
              "[5 rows x 9 columns]"
            ]
          },
          "metadata": {
            "tags": []
          },
          "execution_count": 5
        }
      ]
    },
    {
      "cell_type": "code",
      "metadata": {
        "colab": {
          "base_uri": "https://localhost:8080/"
        },
        "id": "eFB3RASUv8f-",
        "outputId": "997a180f-dc1c-48de-e95e-9f2fd4c6984d"
      },
      "source": [
        "df.info()"
      ],
      "execution_count": 6,
      "outputs": [
        {
          "output_type": "stream",
          "text": [
            "<class 'pandas.core.frame.DataFrame'>\n",
            "RangeIndex: 76842 entries, 0 to 76841\n",
            "Data columns (total 9 columns):\n",
            " #   Column       Non-Null Count  Dtype  \n",
            "---  ------       --------------  -----  \n",
            " 0   borough_BK   76842 non-null  float64\n",
            " 1   borough_BX   76842 non-null  float64\n",
            " 2   borough_MN   76842 non-null  float64\n",
            " 3   borough_QN   76842 non-null  float64\n",
            " 4   borough_SI   76842 non-null  float64\n",
            " 5   tot_area     76842 non-null  float64\n",
            " 6   covid_cases  76842 non-null  int64  \n",
            " 7   sales_date   76842 non-null  object \n",
            " 8   sales_price  76842 non-null  int64  \n",
            "dtypes: float64(6), int64(2), object(1)\n",
            "memory usage: 5.3+ MB\n"
          ],
          "name": "stdout"
        }
      ]
    },
    {
      "cell_type": "code",
      "metadata": {
        "id": "M0hh3-ybwVrz"
      },
      "source": [
        "df['covid_cases']=df.covid_cases.astype('float64')\n",
        "df['sales_price']=df.sales_price.astype('float64')\n",
        "df['per_sqft_rate']=df['sales_price']/df['tot_area']"
      ],
      "execution_count": 7,
      "outputs": []
    },
    {
      "cell_type": "code",
      "metadata": {
        "id": "o9RKRW9rDsEj",
        "colab": {
          "base_uri": "https://localhost:8080/",
          "height": 204
        },
        "outputId": "2d8101a9-60e9-42c1-84c6-42a03e7928a3"
      },
      "source": [
        "df.head()"
      ],
      "execution_count": null,
      "outputs": [
        {
          "output_type": "execute_result",
          "data": {
            "text/html": [
              "<div>\n",
              "<style scoped>\n",
              "    .dataframe tbody tr th:only-of-type {\n",
              "        vertical-align: middle;\n",
              "    }\n",
              "\n",
              "    .dataframe tbody tr th {\n",
              "        vertical-align: top;\n",
              "    }\n",
              "\n",
              "    .dataframe thead th {\n",
              "        text-align: right;\n",
              "    }\n",
              "</style>\n",
              "<table border=\"1\" class=\"dataframe\">\n",
              "  <thead>\n",
              "    <tr style=\"text-align: right;\">\n",
              "      <th></th>\n",
              "      <th>borough_BK</th>\n",
              "      <th>borough_BX</th>\n",
              "      <th>borough_MN</th>\n",
              "      <th>borough_QN</th>\n",
              "      <th>borough_SI</th>\n",
              "      <th>tot_area</th>\n",
              "      <th>covid_cases</th>\n",
              "      <th>sales_date</th>\n",
              "      <th>sales_price</th>\n",
              "      <th>per_sqft_rate</th>\n",
              "    </tr>\n",
              "  </thead>\n",
              "  <tbody>\n",
              "    <tr>\n",
              "      <th>0</th>\n",
              "      <td>1.0</td>\n",
              "      <td>0.0</td>\n",
              "      <td>0.0</td>\n",
              "      <td>0.0</td>\n",
              "      <td>0.0</td>\n",
              "      <td>66638.0</td>\n",
              "      <td>1608.0</td>\n",
              "      <td>2020-08-31</td>\n",
              "      <td>5585336.0</td>\n",
              "      <td>83.816081</td>\n",
              "    </tr>\n",
              "    <tr>\n",
              "      <th>1</th>\n",
              "      <td>1.0</td>\n",
              "      <td>0.0</td>\n",
              "      <td>0.0</td>\n",
              "      <td>0.0</td>\n",
              "      <td>0.0</td>\n",
              "      <td>8300.0</td>\n",
              "      <td>1608.0</td>\n",
              "      <td>2020-08-31</td>\n",
              "      <td>1643000.0</td>\n",
              "      <td>197.951807</td>\n",
              "    </tr>\n",
              "    <tr>\n",
              "      <th>2</th>\n",
              "      <td>1.0</td>\n",
              "      <td>0.0</td>\n",
              "      <td>0.0</td>\n",
              "      <td>0.0</td>\n",
              "      <td>0.0</td>\n",
              "      <td>7488.0</td>\n",
              "      <td>1608.0</td>\n",
              "      <td>2020-08-31</td>\n",
              "      <td>1200000.0</td>\n",
              "      <td>160.256410</td>\n",
              "    </tr>\n",
              "    <tr>\n",
              "      <th>3</th>\n",
              "      <td>1.0</td>\n",
              "      <td>0.0</td>\n",
              "      <td>0.0</td>\n",
              "      <td>0.0</td>\n",
              "      <td>0.0</td>\n",
              "      <td>6429.0</td>\n",
              "      <td>1608.0</td>\n",
              "      <td>2020-08-31</td>\n",
              "      <td>735000.0</td>\n",
              "      <td>114.325712</td>\n",
              "    </tr>\n",
              "    <tr>\n",
              "      <th>4</th>\n",
              "      <td>1.0</td>\n",
              "      <td>0.0</td>\n",
              "      <td>0.0</td>\n",
              "      <td>0.0</td>\n",
              "      <td>0.0</td>\n",
              "      <td>7000.0</td>\n",
              "      <td>1608.0</td>\n",
              "      <td>2020-08-31</td>\n",
              "      <td>775000.0</td>\n",
              "      <td>110.714286</td>\n",
              "    </tr>\n",
              "  </tbody>\n",
              "</table>\n",
              "</div>"
            ],
            "text/plain": [
              "   borough_BK  borough_BX  borough_MN  ...  sales_date  sales_price  per_sqft_rate\n",
              "0         1.0         0.0         0.0  ...  2020-08-31    5585336.0      83.816081\n",
              "1         1.0         0.0         0.0  ...  2020-08-31    1643000.0     197.951807\n",
              "2         1.0         0.0         0.0  ...  2020-08-31    1200000.0     160.256410\n",
              "3         1.0         0.0         0.0  ...  2020-08-31     735000.0     114.325712\n",
              "4         1.0         0.0         0.0  ...  2020-08-31     775000.0     110.714286\n",
              "\n",
              "[5 rows x 10 columns]"
            ]
          },
          "metadata": {
            "tags": []
          },
          "execution_count": 42
        }
      ]
    },
    {
      "cell_type": "code",
      "metadata": {
        "colab": {
          "base_uri": "https://localhost:8080/"
        },
        "id": "9UoUyMlozv-3",
        "outputId": "33d32d5f-e394-4622-f868-3d81536cd1a1"
      },
      "source": [
        "#We need to separate boroughs Let's first create a model for Manhattan only\n",
        "\n",
        "df_QN = df[df['borough_QN']==1.0]\n",
        "df_QN = df_QN[['tot_area', 'covid_cases', 'sales_date','sales_price','per_sqft_rate' ]]\n",
        "print(len(df_QN), len(df))"
      ],
      "execution_count": 10,
      "outputs": [
        {
          "output_type": "stream",
          "text": [
            "29064 76842\n"
          ],
          "name": "stdout"
        }
      ]
    },
    {
      "cell_type": "code",
      "metadata": {
        "colab": {
          "base_uri": "https://localhost:8080/",
          "height": 450
        },
        "id": "LBpoFhesgl__",
        "outputId": "89874f20-be76-4c94-987b-9082153f8223"
      },
      "source": [
        "#We ensure, one datapoint per date. \n",
        "#We therefore, groupby sales_date column and aggregate over per_sqft_rate column on it's mean andchoose max number of covid_cases.\n",
        "df_QN=df_QN.groupby([\"sales_date\"]).agg({'per_sqft_rate':'mean', 'covid_cases':'max'})\n",
        "df_QN"
      ],
      "execution_count": 13,
      "outputs": [
        {
          "output_type": "execute_result",
          "data": {
            "text/html": [
              "<div>\n",
              "<style scoped>\n",
              "    .dataframe tbody tr th:only-of-type {\n",
              "        vertical-align: middle;\n",
              "    }\n",
              "\n",
              "    .dataframe tbody tr th {\n",
              "        vertical-align: top;\n",
              "    }\n",
              "\n",
              "    .dataframe thead th {\n",
              "        text-align: right;\n",
              "    }\n",
              "</style>\n",
              "<table border=\"1\" class=\"dataframe\">\n",
              "  <thead>\n",
              "    <tr style=\"text-align: right;\">\n",
              "      <th></th>\n",
              "      <th>per_sqft_rate</th>\n",
              "      <th>covid_cases</th>\n",
              "    </tr>\n",
              "    <tr>\n",
              "      <th>sales_date</th>\n",
              "      <th></th>\n",
              "      <th></th>\n",
              "    </tr>\n",
              "  </thead>\n",
              "  <tbody>\n",
              "    <tr>\n",
              "      <th>2018-01-01</th>\n",
              "      <td>57.034221</td>\n",
              "      <td>0.0</td>\n",
              "    </tr>\n",
              "    <tr>\n",
              "      <th>2018-01-02</th>\n",
              "      <td>90.152907</td>\n",
              "      <td>0.0</td>\n",
              "    </tr>\n",
              "    <tr>\n",
              "      <th>2018-01-03</th>\n",
              "      <td>83.815069</td>\n",
              "      <td>0.0</td>\n",
              "    </tr>\n",
              "    <tr>\n",
              "      <th>2018-01-04</th>\n",
              "      <td>123.410207</td>\n",
              "      <td>0.0</td>\n",
              "    </tr>\n",
              "    <tr>\n",
              "      <th>2018-01-05</th>\n",
              "      <td>87.139988</td>\n",
              "      <td>0.0</td>\n",
              "    </tr>\n",
              "    <tr>\n",
              "      <th>...</th>\n",
              "      <td>...</td>\n",
              "      <td>...</td>\n",
              "    </tr>\n",
              "    <tr>\n",
              "      <th>2020-08-26</th>\n",
              "      <td>116.581124</td>\n",
              "      <td>1754.0</td>\n",
              "    </tr>\n",
              "    <tr>\n",
              "      <th>2020-08-27</th>\n",
              "      <td>122.902363</td>\n",
              "      <td>1754.0</td>\n",
              "    </tr>\n",
              "    <tr>\n",
              "      <th>2020-08-28</th>\n",
              "      <td>138.316537</td>\n",
              "      <td>1754.0</td>\n",
              "    </tr>\n",
              "    <tr>\n",
              "      <th>2020-08-29</th>\n",
              "      <td>48.997135</td>\n",
              "      <td>1754.0</td>\n",
              "    </tr>\n",
              "    <tr>\n",
              "      <th>2020-08-31</th>\n",
              "      <td>117.246102</td>\n",
              "      <td>1754.0</td>\n",
              "    </tr>\n",
              "  </tbody>\n",
              "</table>\n",
              "<p>746 rows × 2 columns</p>\n",
              "</div>"
            ],
            "text/plain": [
              "            per_sqft_rate  covid_cases\n",
              "sales_date                            \n",
              "2018-01-01      57.034221          0.0\n",
              "2018-01-02      90.152907          0.0\n",
              "2018-01-03      83.815069          0.0\n",
              "2018-01-04     123.410207          0.0\n",
              "2018-01-05      87.139988          0.0\n",
              "...                   ...          ...\n",
              "2020-08-26     116.581124       1754.0\n",
              "2020-08-27     122.902363       1754.0\n",
              "2020-08-28     138.316537       1754.0\n",
              "2020-08-29      48.997135       1754.0\n",
              "2020-08-31     117.246102       1754.0\n",
              "\n",
              "[746 rows x 2 columns]"
            ]
          },
          "metadata": {
            "tags": []
          },
          "execution_count": 13
        }
      ]
    },
    {
      "cell_type": "code",
      "metadata": {
        "colab": {
          "base_uri": "https://localhost:8080/",
          "height": 297
        },
        "id": "u3ebwcjBwp6x",
        "outputId": "71d397ba-fa75-458a-db32-1c28f18de321"
      },
      "source": [
        "df_QN.describe()"
      ],
      "execution_count": 14,
      "outputs": [
        {
          "output_type": "execute_result",
          "data": {
            "text/html": [
              "<div>\n",
              "<style scoped>\n",
              "    .dataframe tbody tr th:only-of-type {\n",
              "        vertical-align: middle;\n",
              "    }\n",
              "\n",
              "    .dataframe tbody tr th {\n",
              "        vertical-align: top;\n",
              "    }\n",
              "\n",
              "    .dataframe thead th {\n",
              "        text-align: right;\n",
              "    }\n",
              "</style>\n",
              "<table border=\"1\" class=\"dataframe\">\n",
              "  <thead>\n",
              "    <tr style=\"text-align: right;\">\n",
              "      <th></th>\n",
              "      <th>per_sqft_rate</th>\n",
              "      <th>covid_cases</th>\n",
              "    </tr>\n",
              "  </thead>\n",
              "  <tbody>\n",
              "    <tr>\n",
              "      <th>count</th>\n",
              "      <td>746.000000</td>\n",
              "      <td>746.000000</td>\n",
              "    </tr>\n",
              "    <tr>\n",
              "      <th>mean</th>\n",
              "      <td>103.327732</td>\n",
              "      <td>2100.067024</td>\n",
              "    </tr>\n",
              "    <tr>\n",
              "      <th>std</th>\n",
              "      <td>31.984893</td>\n",
              "      <td>6751.577472</td>\n",
              "    </tr>\n",
              "    <tr>\n",
              "      <th>min</th>\n",
              "      <td>0.064506</td>\n",
              "      <td>0.000000</td>\n",
              "    </tr>\n",
              "    <tr>\n",
              "      <th>25%</th>\n",
              "      <td>83.956020</td>\n",
              "      <td>0.000000</td>\n",
              "    </tr>\n",
              "    <tr>\n",
              "      <th>50%</th>\n",
              "      <td>109.987658</td>\n",
              "      <td>0.000000</td>\n",
              "    </tr>\n",
              "    <tr>\n",
              "      <th>75%</th>\n",
              "      <td>121.234093</td>\n",
              "      <td>0.000000</td>\n",
              "    </tr>\n",
              "    <tr>\n",
              "      <th>max</th>\n",
              "      <td>496.037658</td>\n",
              "      <td>34019.000000</td>\n",
              "    </tr>\n",
              "  </tbody>\n",
              "</table>\n",
              "</div>"
            ],
            "text/plain": [
              "       per_sqft_rate   covid_cases\n",
              "count     746.000000    746.000000\n",
              "mean      103.327732   2100.067024\n",
              "std        31.984893   6751.577472\n",
              "min         0.064506      0.000000\n",
              "25%        83.956020      0.000000\n",
              "50%       109.987658      0.000000\n",
              "75%       121.234093      0.000000\n",
              "max       496.037658  34019.000000"
            ]
          },
          "metadata": {
            "tags": []
          },
          "execution_count": 14
        }
      ]
    },
    {
      "cell_type": "code",
      "metadata": {
        "id": "bzXz0_0bPhWV",
        "colab": {
          "base_uri": "https://localhost:8080/"
        },
        "outputId": "8ed09ff6-92e1-48ea-9b23-8c312eb5c51c"
      },
      "source": [
        "#LSTM uses sigmoid and tanh that are sensitive to magnitude so values need to be normalized\n",
        "# normalize the dataset\n",
        "print(df_QN.shape)\n",
        "scaler = StandardScaler()\n",
        "scaler = scaler.fit(df_QN)\n",
        "df_scaled = scaler.transform(df_QN)\n",
        "df_scaled"
      ],
      "execution_count": 15,
      "outputs": [
        {
          "output_type": "stream",
          "text": [
            "(746, 2)\n"
          ],
          "name": "stdout"
        },
        {
          "output_type": "execute_result",
          "data": {
            "text/plain": [
              "array([[-1.44832656, -0.31125704],\n",
              "       [-0.41218409, -0.31125704],\n",
              "       [-0.61046803, -0.31125704],\n",
              "       ...,\n",
              "       [ 1.09465052, -0.0512916 ],\n",
              "       [-1.6997727 , -0.0512916 ],\n",
              "       [ 0.43544644, -0.0512916 ]])"
            ]
          },
          "metadata": {
            "tags": []
          },
          "execution_count": 15
        }
      ]
    },
    {
      "cell_type": "code",
      "metadata": {
        "colab": {
          "base_uri": "https://localhost:8080/"
        },
        "id": "ajMFnddw2Nu9",
        "outputId": "92979bd3-5be7-438a-9edb-797aadb433cc"
      },
      "source": [
        "df_scaled.shape"
      ],
      "execution_count": 16,
      "outputs": [
        {
          "output_type": "execute_result",
          "data": {
            "text/plain": [
              "(746, 2)"
            ]
          },
          "metadata": {
            "tags": []
          },
          "execution_count": 16
        }
      ]
    },
    {
      "cell_type": "code",
      "metadata": {
        "colab": {
          "base_uri": "https://localhost:8080/",
          "height": 235
        },
        "id": "mVB_hitf2AoX",
        "outputId": "2f8c0c8a-af2a-4fed-9625-a907e469c6b7"
      },
      "source": [
        "import numpy as np\n",
        "df_QN['scaled_per_sqft_rate']= df_scaled[:,0]\n",
        "df_QN['scaled_covid_cases']= df_scaled[:,1]\n",
        "df_QN.head()"
      ],
      "execution_count": 18,
      "outputs": [
        {
          "output_type": "execute_result",
          "data": {
            "text/html": [
              "<div>\n",
              "<style scoped>\n",
              "    .dataframe tbody tr th:only-of-type {\n",
              "        vertical-align: middle;\n",
              "    }\n",
              "\n",
              "    .dataframe tbody tr th {\n",
              "        vertical-align: top;\n",
              "    }\n",
              "\n",
              "    .dataframe thead th {\n",
              "        text-align: right;\n",
              "    }\n",
              "</style>\n",
              "<table border=\"1\" class=\"dataframe\">\n",
              "  <thead>\n",
              "    <tr style=\"text-align: right;\">\n",
              "      <th></th>\n",
              "      <th>per_sqft_rate</th>\n",
              "      <th>covid_cases</th>\n",
              "      <th>scaled_per_sqft_rate</th>\n",
              "      <th>scaled_covid_cases</th>\n",
              "    </tr>\n",
              "    <tr>\n",
              "      <th>sales_date</th>\n",
              "      <th></th>\n",
              "      <th></th>\n",
              "      <th></th>\n",
              "      <th></th>\n",
              "    </tr>\n",
              "  </thead>\n",
              "  <tbody>\n",
              "    <tr>\n",
              "      <th>2018-01-01</th>\n",
              "      <td>57.034221</td>\n",
              "      <td>0.0</td>\n",
              "      <td>-1.448327</td>\n",
              "      <td>-0.311257</td>\n",
              "    </tr>\n",
              "    <tr>\n",
              "      <th>2018-01-02</th>\n",
              "      <td>90.152907</td>\n",
              "      <td>0.0</td>\n",
              "      <td>-0.412184</td>\n",
              "      <td>-0.311257</td>\n",
              "    </tr>\n",
              "    <tr>\n",
              "      <th>2018-01-03</th>\n",
              "      <td>83.815069</td>\n",
              "      <td>0.0</td>\n",
              "      <td>-0.610468</td>\n",
              "      <td>-0.311257</td>\n",
              "    </tr>\n",
              "    <tr>\n",
              "      <th>2018-01-04</th>\n",
              "      <td>123.410207</td>\n",
              "      <td>0.0</td>\n",
              "      <td>0.628295</td>\n",
              "      <td>-0.311257</td>\n",
              "    </tr>\n",
              "    <tr>\n",
              "      <th>2018-01-05</th>\n",
              "      <td>87.139988</td>\n",
              "      <td>0.0</td>\n",
              "      <td>-0.506445</td>\n",
              "      <td>-0.311257</td>\n",
              "    </tr>\n",
              "  </tbody>\n",
              "</table>\n",
              "</div>"
            ],
            "text/plain": [
              "            per_sqft_rate  ...  scaled_covid_cases\n",
              "sales_date                 ...                    \n",
              "2018-01-01      57.034221  ...           -0.311257\n",
              "2018-01-02      90.152907  ...           -0.311257\n",
              "2018-01-03      83.815069  ...           -0.311257\n",
              "2018-01-04     123.410207  ...           -0.311257\n",
              "2018-01-05      87.139988  ...           -0.311257\n",
              "\n",
              "[5 rows x 4 columns]"
            ]
          },
          "metadata": {
            "tags": []
          },
          "execution_count": 18
        }
      ]
    },
    {
      "cell_type": "code",
      "metadata": {
        "colab": {
          "base_uri": "https://localhost:8080/",
          "height": 390
        },
        "id": "zuC2S6qFFSb-",
        "outputId": "d736df4a-d2d1-4e19-cacc-26ca3e86b20a"
      },
      "source": [
        "df_QN.tail(10)"
      ],
      "execution_count": null,
      "outputs": [
        {
          "output_type": "execute_result",
          "data": {
            "text/html": [
              "<div>\n",
              "<style scoped>\n",
              "    .dataframe tbody tr th:only-of-type {\n",
              "        vertical-align: middle;\n",
              "    }\n",
              "\n",
              "    .dataframe tbody tr th {\n",
              "        vertical-align: top;\n",
              "    }\n",
              "\n",
              "    .dataframe thead th {\n",
              "        text-align: right;\n",
              "    }\n",
              "</style>\n",
              "<table border=\"1\" class=\"dataframe\">\n",
              "  <thead>\n",
              "    <tr style=\"text-align: right;\">\n",
              "      <th></th>\n",
              "      <th>per_sqft_rate</th>\n",
              "      <th>covid_cases</th>\n",
              "      <th>scaled_per_sqft_rate</th>\n",
              "      <th>scaled_covid_cases</th>\n",
              "    </tr>\n",
              "    <tr>\n",
              "      <th>sales_date</th>\n",
              "      <th></th>\n",
              "      <th></th>\n",
              "      <th></th>\n",
              "      <th></th>\n",
              "    </tr>\n",
              "  </thead>\n",
              "  <tbody>\n",
              "    <tr>\n",
              "      <th>2020-08-14</th>\n",
              "      <td>380.451005</td>\n",
              "      <td>1278.0</td>\n",
              "      <td>0.370549</td>\n",
              "      <td>0.184978</td>\n",
              "    </tr>\n",
              "    <tr>\n",
              "      <th>2020-08-17</th>\n",
              "      <td>163.150596</td>\n",
              "      <td>1278.0</td>\n",
              "      <td>-0.391461</td>\n",
              "      <td>0.184978</td>\n",
              "    </tr>\n",
              "    <tr>\n",
              "      <th>2020-08-18</th>\n",
              "      <td>231.811139</td>\n",
              "      <td>1278.0</td>\n",
              "      <td>-0.150688</td>\n",
              "      <td>0.184978</td>\n",
              "    </tr>\n",
              "    <tr>\n",
              "      <th>2020-08-20</th>\n",
              "      <td>236.500263</td>\n",
              "      <td>1278.0</td>\n",
              "      <td>-0.134245</td>\n",
              "      <td>0.184978</td>\n",
              "    </tr>\n",
              "    <tr>\n",
              "      <th>2020-08-24</th>\n",
              "      <td>294.098433</td>\n",
              "      <td>1278.0</td>\n",
              "      <td>0.067735</td>\n",
              "      <td>0.184978</td>\n",
              "    </tr>\n",
              "    <tr>\n",
              "      <th>2020-08-25</th>\n",
              "      <td>234.502818</td>\n",
              "      <td>1278.0</td>\n",
              "      <td>-0.141249</td>\n",
              "      <td>0.184978</td>\n",
              "    </tr>\n",
              "    <tr>\n",
              "      <th>2020-08-26</th>\n",
              "      <td>274.190344</td>\n",
              "      <td>1278.0</td>\n",
              "      <td>-0.002076</td>\n",
              "      <td>0.184978</td>\n",
              "    </tr>\n",
              "    <tr>\n",
              "      <th>2020-08-27</th>\n",
              "      <td>80.290997</td>\n",
              "      <td>1278.0</td>\n",
              "      <td>-0.682025</td>\n",
              "      <td>0.184978</td>\n",
              "    </tr>\n",
              "    <tr>\n",
              "      <th>2020-08-28</th>\n",
              "      <td>319.488818</td>\n",
              "      <td>1278.0</td>\n",
              "      <td>0.156772</td>\n",
              "      <td>0.184978</td>\n",
              "    </tr>\n",
              "    <tr>\n",
              "      <th>2020-08-31</th>\n",
              "      <td>309.525652</td>\n",
              "      <td>1278.0</td>\n",
              "      <td>0.121834</td>\n",
              "      <td>0.184978</td>\n",
              "    </tr>\n",
              "  </tbody>\n",
              "</table>\n",
              "</div>"
            ],
            "text/plain": [
              "            per_sqft_rate  ...  scaled_covid_cases\n",
              "sales_date                 ...                    \n",
              "2020-08-14     380.451005  ...            0.184978\n",
              "2020-08-17     163.150596  ...            0.184978\n",
              "2020-08-18     231.811139  ...            0.184978\n",
              "2020-08-20     236.500263  ...            0.184978\n",
              "2020-08-24     294.098433  ...            0.184978\n",
              "2020-08-25     234.502818  ...            0.184978\n",
              "2020-08-26     274.190344  ...            0.184978\n",
              "2020-08-27      80.290997  ...            0.184978\n",
              "2020-08-28     319.488818  ...            0.184978\n",
              "2020-08-31     309.525652  ...            0.184978\n",
              "\n",
              "[10 rows x 4 columns]"
            ]
          },
          "metadata": {
            "tags": []
          },
          "execution_count": 38
        }
      ]
    },
    {
      "cell_type": "code",
      "metadata": {
        "colab": {
          "base_uri": "https://localhost:8080/",
          "height": 390
        },
        "id": "a8hCAnuf2yLU",
        "outputId": "37d12d7a-337b-4f76-ad51-b171ba97c37e"
      },
      "source": [
        "#Plotting Normalized Prices and Covid Cases\n",
        "plt.figure(figsize=(20,6))\n",
        "plt.title(\"Covid Cases and Per Sqft Housing Prices Over Time in Brooklyn (Scaled)\")\n",
        "plt.plot(df_QN['scaled_covid_cases'], linestyle='solid', color='orange', label=\"Covid Cases\")\n",
        "plt.plot(df_QN['scaled_per_sqft_rate'], linestyle='solid', color='teal', label=\"Per Sqft. Rate in Dollars\")\n",
        "plt.legend(loc=\"upper left\")\n",
        "plt.grid(False)\n",
        "#sns.lineplot(data=trends.drop(['sales_price', 'covid_cases'], axis=1));"
      ],
      "execution_count": 19,
      "outputs": [
        {
          "output_type": "display_data",
          "data": {
            "image/png": "[encoded data removed]",
            "text/plain": [
              "<Figure size 1440x432 with 1 Axes>"
            ]
          },
          "metadata": {
            "tags": [],
            "needs_background": "light"
          }
        }
      ]
    },
    {
      "cell_type": "code",
      "metadata": {
        "colab": {
          "base_uri": "https://localhost:8080/"
        },
        "id": "m-xL74KaOm7k",
        "outputId": "67a34f29-da75-4242-f21b-2b3090f451dd"
      },
      "source": [
        "#Separate dates for future plotting\n",
        "train_dates = pd.to_datetime(df_QN.index)\n",
        "train_dates"
      ],
      "execution_count": 21,
      "outputs": [
        {
          "output_type": "execute_result",
          "data": {
            "text/plain": [
              "DatetimeIndex(['2018-01-01', '2018-01-02', '2018-01-03', '2018-01-04',\n",
              "               '2018-01-05', '2018-01-07', '2018-01-08', '2018-01-09',\n",
              "               '2018-01-10', '2018-01-11',\n",
              "               ...\n",
              "               '2020-08-19', '2020-08-20', '2020-08-21', '2020-08-24',\n",
              "               '2020-08-25', '2020-08-26', '2020-08-27', '2020-08-28',\n",
              "               '2020-08-29', '2020-08-31'],\n",
              "              dtype='datetime64[ns]', name='sales_date', length=746, freq=None)"
            ]
          },
          "metadata": {
            "tags": []
          },
          "execution_count": 21
        }
      ]
    },
    {
      "cell_type": "code",
      "metadata": {
        "id": "d1gDbGP_jpfy"
      },
      "source": [
        "trainX = []\n",
        "trainY = []\n",
        "\n",
        "n_future = 1   # Number of days we want to predict into the future\n",
        "n_past = 21     # Number of past days we want to use to predict the future\n",
        "\n",
        "\n",
        "#Creating sequential window trainX for training. \n",
        "#Sample trainX window : [0.1 0.2 0.3 0.5 0.4 0.1 ]\n",
        "for i in range(n_past, len(df_scaled) - n_future +1):\n",
        "    trainX.append(df_scaled[i - n_past:i, 0:df_scaled.shape[1]])\n",
        "\n",
        "    #trainY.append(df_scaled[i + n_future - 1:i + n_future, 0])\n",
        "    trainY.append(df_scaled[i + n_future - 1:i + n_future, :])  #We want to predict both covid cases and per sq. ft rate, so trin y will contain both.  \n",
        "\n",
        "\n"
      ],
      "execution_count": 22,
      "outputs": []
    },
    {
      "cell_type": "code",
      "metadata": {
        "id": "0F7i7fHjs2fO"
      },
      "source": [
        "trainX, trainY = np.array(trainX), np.array(trainY)"
      ],
      "execution_count": 23,
      "outputs": []
    },
    {
      "cell_type": "code",
      "metadata": {
        "id": "RuSAVAz30bas",
        "colab": {
          "base_uri": "https://localhost:8080/"
        },
        "outputId": "a8f07928-6e74-45f1-9500-fadea54b109b"
      },
      "source": [
        "#trainX=trainX[:800]\n",
        "#trainY=trainY[:800]\n",
        "trainX.shape"
      ],
      "execution_count": 24,
      "outputs": [
        {
          "output_type": "execute_result",
          "data": {
            "text/plain": [
              "(725, 21, 2)"
            ]
          },
          "metadata": {
            "tags": []
          },
          "execution_count": 24
        }
      ]
    },
    {
      "cell_type": "code",
      "metadata": {
        "colab": {
          "base_uri": "https://localhost:8080/"
        },
        "id": "_qiS5BXzZo8-",
        "outputId": "fbe5c2e6-e940-4ef5-a0ce-7c96e2c15a41"
      },
      "source": [
        "trainY.shape"
      ],
      "execution_count": 25,
      "outputs": [
        {
          "output_type": "execute_result",
          "data": {
            "text/plain": [
              "(725, 1, 2)"
            ]
          },
          "metadata": {
            "tags": []
          },
          "execution_count": 25
        }
      ]
    },
    {
      "cell_type": "code",
      "metadata": {
        "colab": {
          "base_uri": "https://localhost:8080/"
        },
        "id": "gK--kpB5s1rs",
        "outputId": "e630bbcc-575b-4e3b-b911-53f4930db58a"
      },
      "source": [
        "df_scaled.shape"
      ],
      "execution_count": 26,
      "outputs": [
        {
          "output_type": "execute_result",
          "data": {
            "text/plain": [
              "(746, 2)"
            ]
          },
          "metadata": {
            "tags": []
          },
          "execution_count": 26
        }
      ]
    },
    {
      "cell_type": "code",
      "metadata": {
        "id": "EWLTBDr3t_N0",
        "colab": {
          "base_uri": "https://localhost:8080/"
        },
        "outputId": "e554ba76-7d8d-4267-e67d-a6fe38a5dfb8"
      },
      "source": [
        "print(trainX[0])"
      ],
      "execution_count": 27,
      "outputs": [
        {
          "output_type": "stream",
          "text": [
            "[[-1.44832656 -0.31125704]\n",
            " [-0.41218409 -0.31125704]\n",
            " [-0.61046803 -0.31125704]\n",
            " [ 0.62829501 -0.31125704]\n",
            " [-0.50644548 -0.31125704]\n",
            " [-3.19694903 -0.31125704]\n",
            " [-0.56795498 -0.31125704]\n",
            " [-0.78752519 -0.31125704]\n",
            " [-0.40986745 -0.31125704]\n",
            " [-0.93153318 -0.31125704]\n",
            " [-0.86548022 -0.31125704]\n",
            " [-0.54661717 -0.31125704]\n",
            " [-0.52591901 -0.31125704]\n",
            " [-0.89739473 -0.31125704]\n",
            " [-0.8353575  -0.31125704]\n",
            " [-0.86117472 -0.31125704]\n",
            " [-0.39995059 -0.31125704]\n",
            " [-0.88582128 -0.31125704]\n",
            " [-0.7677325  -0.31125704]\n",
            " [-1.04923356 -0.31125704]\n",
            " [-1.10763122 -0.31125704]]\n"
          ],
          "name": "stdout"
        }
      ]
    },
    {
      "cell_type": "code",
      "metadata": {
        "colab": {
          "base_uri": "https://localhost:8080/"
        },
        "id": "o33aOj19o8Ho",
        "outputId": "dd8f18fc-2501-4c11-ad3a-1c0a97697fa4"
      },
      "source": [
        "print(trainX.shape, trainY.shape[1])"
      ],
      "execution_count": 28,
      "outputs": [
        {
          "output_type": "stream",
          "text": [
            "(725, 21, 2) 1\n"
          ],
          "name": "stdout"
        }
      ]
    },
    {
      "cell_type": "code",
      "metadata": {
        "colab": {
          "base_uri": "https://localhost:8080/"
        },
        "id": "XBJuEABfJhzB",
        "outputId": "2d6f4075-ba54-4226-c4c2-590439637b02"
      },
      "source": [
        "print('trainX shape == {}.'.format(trainX.shape))\n",
        "print('trainY shape == {}.'.format(trainY.shape))\n"
      ],
      "execution_count": 29,
      "outputs": [
        {
          "output_type": "stream",
          "text": [
            "trainX shape == (725, 21, 2).\n",
            "trainY shape == (725, 1, 2).\n"
          ],
          "name": "stdout"
        }
      ]
    },
    {
      "cell_type": "code",
      "metadata": {
        "id": "Qi2wbtW2Pk0H",
        "colab": {
          "base_uri": "https://localhost:8080/",
          "height": 352
        },
        "outputId": "ab0f0a3a-8b36-416f-96ad-53bf1b067d63"
      },
      "source": [
        "# Correlations among columns\n",
        "import seaborn as sns\n",
        "sns.heatmap(df.corr(),annot=True);\n",
        "plt.title('Correlation Among Features', size=10);\n",
        "plt.figure(figsize=(15,15));\n",
        "plt.show();"
      ],
      "execution_count": 30,
      "outputs": [
        {
          "output_type": "display_data",
          "data": {
            "image/png": "[encoded data removed]",
            "text/plain": [
              "<Figure size 432x288 with 2 Axes>"
            ]
          },
          "metadata": {
            "tags": [],
            "needs_background": "light"
          }
        },
        {
          "output_type": "display_data",
          "data": {
            "text/plain": [
              "<Figure size 1080x1080 with 0 Axes>"
            ]
          },
          "metadata": {
            "tags": []
          }
        }
      ]
    },
    {
      "cell_type": "code",
      "metadata": {
        "colab": {
          "base_uri": "https://localhost:8080/"
        },
        "id": "YU6KmK65mLwU",
        "outputId": "5c65c7d4-44fb-448f-c6e5-edb13bba1baa"
      },
      "source": [
        "# define LSTM model\n",
        "model=None\n",
        "model = Sequential()\n",
        "model.add(LSTM(32, activation='relu', input_shape=(trainX.shape[1], trainX.shape[2]), return_sequences=True))\n",
        "model.add(LSTM(32, activation='relu', return_sequences=False))\n",
        "model.add(Dropout(0.2))\n",
        "model.add(Dense(1))\n",
        "\n",
        "model.compile(optimizer='adam', loss='mse')\n",
        "model.summary()\n"
      ],
      "execution_count": 31,
      "outputs": [
        {
          "output_type": "stream",
          "text": [
            "Model: \"sequential\"\n",
            "_________________________________________________________________\n",
            "Layer (type)                 Output Shape              Param #   \n",
            "=================================================================\n",
            "lstm (LSTM)                  (None, 21, 32)            4480      \n",
            "_________________________________________________________________\n",
            "lstm_1 (LSTM)                (None, 32)                8320      \n",
            "_________________________________________________________________\n",
            "dropout (Dropout)            (None, 32)                0         \n",
            "_________________________________________________________________\n",
            "dense (Dense)                (None, 1)                 33        \n",
            "=================================================================\n",
            "Total params: 12,833\n",
            "Trainable params: 12,833\n",
            "Non-trainable params: 0\n",
            "_________________________________________________________________\n"
          ],
          "name": "stdout"
        }
      ]
    },
    {
      "cell_type": "code",
      "metadata": {
        "colab": {
          "base_uri": "https://localhost:8080/",
          "height": 652
        },
        "id": "sdX8AblHvwNa",
        "outputId": "06503e21-435b-4797-aeea-0836998c3673"
      },
      "source": [
        "print('Train...')\n",
        "\n",
        "#fit\n",
        "\n",
        "history = model.fit(trainX, trainY, epochs=10, batch_size=70, validation_split=0.3, verbose=1)\n",
        "# summarize history for loss\n",
        "plt.plot(history.history['loss'])\n",
        "plt.plot(history.history['val_loss'])\n",
        "plt.title('model loss')\n",
        "plt.ylabel('loss')\n",
        "plt.xlabel('epoch')\n",
        "plt.legend(['train', 'test'], loc='upper right')\n",
        "plt.show()\n",
        "\n"
      ],
      "execution_count": 32,
      "outputs": [
        {
          "output_type": "stream",
          "text": [
            "Train...\n",
            "Epoch 1/10\n",
            "8/8 [==============================] - 3s 93ms/step - loss: 0.4182 - val_loss: 2.5980\n",
            "Epoch 2/10\n",
            "8/8 [==============================] - 0s 31ms/step - loss: 0.4397 - val_loss: 2.9630\n",
            "Epoch 3/10\n",
            "8/8 [==============================] - 0s 33ms/step - loss: 0.3542 - val_loss: 3.4012\n",
            "Epoch 4/10\n",
            "8/8 [==============================] - 0s 29ms/step - loss: 0.4065 - val_loss: 3.1896\n",
            "Epoch 5/10\n",
            "8/8 [==============================] - 0s 29ms/step - loss: 0.3504 - val_loss: 2.9146\n",
            "Epoch 6/10\n",
            "8/8 [==============================] - 0s 28ms/step - loss: 0.3778 - val_loss: 2.9109\n",
            "Epoch 7/10\n",
            "8/8 [==============================] - 0s 30ms/step - loss: 0.4268 - val_loss: 2.9354\n",
            "Epoch 8/10\n",
            "8/8 [==============================] - 0s 31ms/step - loss: 0.4300 - val_loss: 2.8938\n",
            "Epoch 9/10\n",
            "8/8 [==============================] - 0s 31ms/step - loss: 0.3765 - val_loss: 2.8437\n",
            "Epoch 10/10\n",
            "8/8 [==============================] - 0s 30ms/step - loss: 0.3803 - val_loss: 2.8161\n"
          ],
          "name": "stdout"
        },
        {
          "output_type": "display_data",
          "data": {
            "image/png": "[encoded data removed]",
            "text/plain": [
              "<Figure size 432x288 with 1 Axes>"
            ]
          },
          "metadata": {
            "tags": [],
            "needs_background": "light"
          }
        }
      ]
    },
    {
      "cell_type": "code",
      "metadata": {
        "colab": {
          "base_uri": "https://localhost:8080/"
        },
        "id": "tMTbEJ2zqOMo",
        "outputId": "a155cf91-7c82-46a0-bed2-247e0ca14113"
      },
      "source": [
        "print(len(history.history['loss']))"
      ],
      "execution_count": 33,
      "outputs": [
        {
          "output_type": "stream",
          "text": [
            "10\n"
          ],
          "name": "stdout"
        }
      ]
    },
    {
      "cell_type": "code",
      "metadata": {
        "colab": {
          "base_uri": "https://localhost:8080/"
        },
        "id": "jCHtxebYdFN8",
        "outputId": "a329e0e1-50c9-4407-cc8e-ae4c0520ccb6"
      },
      "source": [
        "print(len(train_dates))"
      ],
      "execution_count": 34,
      "outputs": [
        {
          "output_type": "stream",
          "text": [
            "746\n"
          ],
          "name": "stdout"
        }
      ]
    },
    {
      "cell_type": "code",
      "metadata": {
        "id": "2gWtfjS5OZ2y",
        "colab": {
          "base_uri": "https://localhost:8080/",
          "height": 286
        },
        "outputId": "7b62d783-f357-4edc-ccd8-6bab55987fec"
      },
      "source": [
        "#Forecasting...\n",
        "#Start with the last day in training date and predict future...\n",
        "n_future=90 #Redefining n_future to extend prediction dates beyond original n_future dates...\n",
        "forecast_period_dates = pd.date_range(list(train_dates)[-1], periods=n_future, freq='1d').tolist()\n",
        "#print(type(forecast_period_dates[0]))\n",
        "\n",
        "forecast = model.predict(trainX[-n_future:]) #forecast \n",
        "#print(forecast)\n",
        "#Perform inverse transformation to rescale back to original range\n",
        "#Since we used 2 variables for transform, the inverse expects same dimensions\n",
        "#Therefore, let us copy our values 2 times and discard them after inverse transform\n",
        "#forecast_copies=None\n",
        "forecast_copies = np.repeat(forecast,2, axis=-1)\n",
        "print(forecast.shape)\n",
        "\n",
        "#Inverse Transform the forecast using previous scaler\n",
        "y_pred_future = scaler.inverse_transform(forecast_copies)[:,:]\n",
        "\n",
        "# Convert timestamp to date\n",
        "forecast_dates = []\n",
        "for time_i in forecast_period_dates:\n",
        "    forecast_dates.append(time_i.date())\n",
        "\n",
        "\n",
        "print(np.array(forecast_dates).shape)\n",
        "print(np.array(y_pred_future[:,0]).shape)\n",
        "    \n",
        "df_forecast = pd.DataFrame({'sales_date':np.array(forecast_dates), 'per_sqft_rate':y_pred_future[:,0]})\n",
        "df_forecast['sales_date']=pd.to_datetime(df_forecast['sales_date'])\n",
        "original = pd.DataFrame()\n",
        "original['per_sqft_rate'] = df_QN['per_sqft_rate']\n",
        "original['sales_date']=train_dates\n",
        "original['sales_date']=pd.to_datetime(original['sales_date'])\n",
        "original=original[0:-1]\n",
        "original = original[original['sales_date'] >= '2020-8-1']\n",
        "original.head()\n",
        "\n"
      ],
      "execution_count": 36,
      "outputs": [
        {
          "output_type": "stream",
          "text": [
            "(90, 1)\n",
            "(90,)\n",
            "(90,)\n"
          ],
          "name": "stdout"
        },
        {
          "output_type": "execute_result",
          "data": {
            "text/html": [
              "<div>\n",
              "<style scoped>\n",
              "    .dataframe tbody tr th:only-of-type {\n",
              "        vertical-align: middle;\n",
              "    }\n",
              "\n",
              "    .dataframe tbody tr th {\n",
              "        vertical-align: top;\n",
              "    }\n",
              "\n",
              "    .dataframe thead th {\n",
              "        text-align: right;\n",
              "    }\n",
              "</style>\n",
              "<table border=\"1\" class=\"dataframe\">\n",
              "  <thead>\n",
              "    <tr style=\"text-align: right;\">\n",
              "      <th></th>\n",
              "      <th>per_sqft_rate</th>\n",
              "      <th>sales_date</th>\n",
              "    </tr>\n",
              "    <tr>\n",
              "      <th>sales_date</th>\n",
              "      <th></th>\n",
              "      <th></th>\n",
              "    </tr>\n",
              "  </thead>\n",
              "  <tbody>\n",
              "    <tr>\n",
              "      <th>2020-08-01</th>\n",
              "      <td>62.733035</td>\n",
              "      <td>2020-08-01</td>\n",
              "    </tr>\n",
              "    <tr>\n",
              "      <th>2020-08-03</th>\n",
              "      <td>144.112872</td>\n",
              "      <td>2020-08-03</td>\n",
              "    </tr>\n",
              "    <tr>\n",
              "      <th>2020-08-04</th>\n",
              "      <td>124.889666</td>\n",
              "      <td>2020-08-04</td>\n",
              "    </tr>\n",
              "    <tr>\n",
              "      <th>2020-08-05</th>\n",
              "      <td>123.940912</td>\n",
              "      <td>2020-08-05</td>\n",
              "    </tr>\n",
              "    <tr>\n",
              "      <th>2020-08-06</th>\n",
              "      <td>100.872712</td>\n",
              "      <td>2020-08-06</td>\n",
              "    </tr>\n",
              "  </tbody>\n",
              "</table>\n",
              "</div>"
            ],
            "text/plain": [
              "            per_sqft_rate sales_date\n",
              "sales_date                          \n",
              "2020-08-01      62.733035 2020-08-01\n",
              "2020-08-03     144.112872 2020-08-03\n",
              "2020-08-04     124.889666 2020-08-04\n",
              "2020-08-05     123.940912 2020-08-05\n",
              "2020-08-06     100.872712 2020-08-06"
            ]
          },
          "metadata": {
            "tags": []
          },
          "execution_count": 36
        }
      ]
    },
    {
      "cell_type": "code",
      "metadata": {
        "colab": {
          "base_uri": "https://localhost:8080/",
          "height": 694
        },
        "id": "ICficRjq7nLt",
        "outputId": "3b841e58-bf3b-40cf-c0fc-481bb92ff72e"
      },
      "source": [
        "import seaborn as sns\n",
        "plt.figure(figsize=(15,10))\n",
        "sns.lineplot(original['sales_date'], original['per_sqft_rate']);\n",
        "sns.lineplot(df_forecast['sales_date'], df_forecast['per_sqft_rate']);\n"
      ],
      "execution_count": 37,
      "outputs": [
        {
          "output_type": "stream",
          "text": [
            "/usr/local/lib/python3.7/dist-packages/seaborn/_decorators.py:43: FutureWarning: Pass the following variables as keyword args: x, y. From version 0.12, the only valid positional argument will be `data`, and passing other arguments without an explicit keyword will result in an error or misinterpretation.\n",
            "  FutureWarning\n",
            "/usr/local/lib/python3.7/dist-packages/seaborn/_decorators.py:43: FutureWarning: Pass the following variables as keyword args: x, y. From version 0.12, the only valid positional argument will be `data`, and passing other arguments without an explicit keyword will result in an error or misinterpretation.\n",
            "  FutureWarning\n"
          ],
          "name": "stderr"
        },
        {
          "output_type": "display_data",
          "data": {
            "image/png": "[encoded data removed]",
            "text/plain": [
              "<Figure size 1080x720 with 1 Axes>"
            ]
          },
          "metadata": {
            "tags": [],
            "needs_background": "light"
          }
        }
      ]
    }
  ]
}