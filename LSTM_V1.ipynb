{
  "nbformat": 4,
  "nbformat_minor": 0,
  "metadata": {
    "colab": {
      "name": "LSTM_V1.ipynb",
      "provenance": [],
      "include_colab_link": true
    },
    "kernelspec": {
      "name": "python3",
      "display_name": "Python 3"
    },
    "language_info": {
      "name": "python"
    }
  },
  "cells": [
    {
      "cell_type": "markdown",
      "metadata": {
        "id": "view-in-github",
        "colab_type": "text"
      },
      "source": [
        "<a href=\"https://colab.research.google.com/github/ketkiambekar/masters-research-project/blob/main/LSTM_V1.ipynb\" target=\"_parent\"><img src=\"https://colab.research.google.com/assets/colab-badge.svg\" alt=\"Open In Colab\"/></a>"
      ]
    },
    {
      "cell_type": "code",
      "metadata": {
        "colab": {
          "base_uri": "https://localhost:8080/"
        },
        "id": "qsY91EM5vaTK",
        "outputId": "4cb5a2b7-3e62-4579-d4e9-edb93c4ae3e6"
      },
      "source": [
        "from google.colab import drive\n",
        "drive.mount('/content/drive')"
      ],
      "execution_count": 2,
      "outputs": [
        {
          "output_type": "stream",
          "text": [
            "Mounted at /content/drive\n"
          ],
          "name": "stdout"
        }
      ]
    },
    {
      "cell_type": "code",
      "metadata": {
        "colab": {
          "base_uri": "https://localhost:8080/"
        },
        "id": "y5rwvKysc5cv",
        "outputId": "f2133b74-e2ad-4e73-ccd3-8e472b193492"
      },
      "source": [
        "%cd drive/MyDrive/KetkiAmbekar/Raw\\ Data\\ Files\n",
        "%pwd\n",
        "%ls"
      ],
      "execution_count": 3,
      "outputs": [
        {
          "output_type": "stream",
          "text": [
            "/content/drive/.shortcut-targets-by-id/1zDGtpS_EJdRSKz3jZptcq5k6f4jqXBwI/KetkiAmbekar/Raw Data Files\n",
            " covid_BK.xlsx                   NYC_housing_prices_dropped_na.csv\n",
            " covid_BX.xlsx                   NYC_Housing_prices_dropped_values.csv\n",
            " covid_MN.xlsx                   NYC_HP_LSTM.csv\n",
            " covid_QN.xlsx                  'nyc_pluto_20v7_csv(1).zip'\n",
            " covid_real_estate.csv           nyc_pluto_20v7_csv.zip\n",
            " covid_SI.xlsx                   nyc_real_estate_PLUTO_+_Final.csv\n",
            " nyc_dataset_final.xlsx          pluto_20v7.csv\n",
            " NYC_housing_prices_dropped_na   \u001b[0m\u001b[01;34mTemperatures\u001b[0m/\n"
          ],
          "name": "stdout"
        }
      ]
    },
    {
      "cell_type": "code",
      "metadata": {
        "id": "YhI7JxKXP5p4"
      },
      "source": [
        "#Import Libraries\n",
        "import matplotlib.pyplot as plt\n",
        "import pandas as pd\n",
        "import math\n",
        "import numpy as np\n",
        "from keras.models import Sequential\n",
        "from keras.layers import Dense, Dropout\n",
        "from keras.layers import LSTM\n",
        "from sklearn.preprocessing import StandardScaler\n",
        "from sklearn.metrics import mean_squared_error\n",
        "\n",
        "\n",
        "# fix random seed for reproducibility\n",
        "np.random.seed(7)"
      ],
      "execution_count": 4,
      "outputs": []
    },
    {
      "cell_type": "code",
      "metadata": {
        "id": "ihOvRWPGPXg3",
        "colab": {
          "base_uri": "https://localhost:8080/",
          "height": 419
        },
        "outputId": "e7486f25-d8a7-41f4-a709-2256ff456d30"
      },
      "source": [
        "# load the dataset\n",
        "#df = pd.read_csv('NYC_HP_LSTM.csv', engine='python', index_col='sales_date', parse_dates=True )\n",
        "df = pd.read_csv('NYC_HP_LSTM.csv', engine='python', parse_dates=True )\n",
        "df\n"
      ],
      "execution_count": 5,
      "outputs": [
        {
          "output_type": "execute_result",
          "data": {
            "text/html": [
              "<div>\n",
              "<style scoped>\n",
              "    .dataframe tbody tr th:only-of-type {\n",
              "        vertical-align: middle;\n",
              "    }\n",
              "\n",
              "    .dataframe tbody tr th {\n",
              "        vertical-align: top;\n",
              "    }\n",
              "\n",
              "    .dataframe thead th {\n",
              "        text-align: right;\n",
              "    }\n",
              "</style>\n",
              "<table border=\"1\" class=\"dataframe\">\n",
              "  <thead>\n",
              "    <tr style=\"text-align: right;\">\n",
              "      <th></th>\n",
              "      <th>Unnamed: 0</th>\n",
              "      <th>borough_BK</th>\n",
              "      <th>borough_BX</th>\n",
              "      <th>borough_MN</th>\n",
              "      <th>borough_QN</th>\n",
              "      <th>borough_SI</th>\n",
              "      <th>tot_area</th>\n",
              "      <th>covid_cases</th>\n",
              "      <th>sales_date</th>\n",
              "      <th>sales_price</th>\n",
              "    </tr>\n",
              "  </thead>\n",
              "  <tbody>\n",
              "    <tr>\n",
              "      <th>0</th>\n",
              "      <td>0</td>\n",
              "      <td>1.0</td>\n",
              "      <td>0.0</td>\n",
              "      <td>0.0</td>\n",
              "      <td>0.0</td>\n",
              "      <td>0.0</td>\n",
              "      <td>66638.0</td>\n",
              "      <td>1608</td>\n",
              "      <td>2020-08-31</td>\n",
              "      <td>5585336</td>\n",
              "    </tr>\n",
              "    <tr>\n",
              "      <th>1</th>\n",
              "      <td>1</td>\n",
              "      <td>1.0</td>\n",
              "      <td>0.0</td>\n",
              "      <td>0.0</td>\n",
              "      <td>0.0</td>\n",
              "      <td>0.0</td>\n",
              "      <td>8300.0</td>\n",
              "      <td>1608</td>\n",
              "      <td>2020-08-31</td>\n",
              "      <td>1643000</td>\n",
              "    </tr>\n",
              "    <tr>\n",
              "      <th>2</th>\n",
              "      <td>2</td>\n",
              "      <td>1.0</td>\n",
              "      <td>0.0</td>\n",
              "      <td>0.0</td>\n",
              "      <td>0.0</td>\n",
              "      <td>0.0</td>\n",
              "      <td>7488.0</td>\n",
              "      <td>1608</td>\n",
              "      <td>2020-08-31</td>\n",
              "      <td>1200000</td>\n",
              "    </tr>\n",
              "    <tr>\n",
              "      <th>3</th>\n",
              "      <td>3</td>\n",
              "      <td>1.0</td>\n",
              "      <td>0.0</td>\n",
              "      <td>0.0</td>\n",
              "      <td>0.0</td>\n",
              "      <td>0.0</td>\n",
              "      <td>6429.0</td>\n",
              "      <td>1608</td>\n",
              "      <td>2020-08-31</td>\n",
              "      <td>735000</td>\n",
              "    </tr>\n",
              "    <tr>\n",
              "      <th>4</th>\n",
              "      <td>4</td>\n",
              "      <td>1.0</td>\n",
              "      <td>0.0</td>\n",
              "      <td>0.0</td>\n",
              "      <td>0.0</td>\n",
              "      <td>0.0</td>\n",
              "      <td>7000.0</td>\n",
              "      <td>1608</td>\n",
              "      <td>2020-08-31</td>\n",
              "      <td>775000</td>\n",
              "    </tr>\n",
              "    <tr>\n",
              "      <th>...</th>\n",
              "      <td>...</td>\n",
              "      <td>...</td>\n",
              "      <td>...</td>\n",
              "      <td>...</td>\n",
              "      <td>...</td>\n",
              "      <td>...</td>\n",
              "      <td>...</td>\n",
              "      <td>...</td>\n",
              "      <td>...</td>\n",
              "      <td>...</td>\n",
              "    </tr>\n",
              "    <tr>\n",
              "      <th>76837</th>\n",
              "      <td>76837</td>\n",
              "      <td>0.0</td>\n",
              "      <td>0.0</td>\n",
              "      <td>0.0</td>\n",
              "      <td>0.0</td>\n",
              "      <td>1.0</td>\n",
              "      <td>5264.0</td>\n",
              "      <td>0</td>\n",
              "      <td>2018-01-02</td>\n",
              "      <td>680000</td>\n",
              "    </tr>\n",
              "    <tr>\n",
              "      <th>76838</th>\n",
              "      <td>76838</td>\n",
              "      <td>0.0</td>\n",
              "      <td>0.0</td>\n",
              "      <td>0.0</td>\n",
              "      <td>0.0</td>\n",
              "      <td>1.0</td>\n",
              "      <td>10268.0</td>\n",
              "      <td>0</td>\n",
              "      <td>2018-01-02</td>\n",
              "      <td>400000</td>\n",
              "    </tr>\n",
              "    <tr>\n",
              "      <th>76839</th>\n",
              "      <td>76839</td>\n",
              "      <td>0.0</td>\n",
              "      <td>0.0</td>\n",
              "      <td>0.0</td>\n",
              "      <td>0.0</td>\n",
              "      <td>1.0</td>\n",
              "      <td>4901.0</td>\n",
              "      <td>0</td>\n",
              "      <td>2018-01-02</td>\n",
              "      <td>565000</td>\n",
              "    </tr>\n",
              "    <tr>\n",
              "      <th>76840</th>\n",
              "      <td>76840</td>\n",
              "      <td>0.0</td>\n",
              "      <td>0.0</td>\n",
              "      <td>0.0</td>\n",
              "      <td>0.0</td>\n",
              "      <td>1.0</td>\n",
              "      <td>6525.0</td>\n",
              "      <td>0</td>\n",
              "      <td>2018-01-02</td>\n",
              "      <td>499500</td>\n",
              "    </tr>\n",
              "    <tr>\n",
              "      <th>76841</th>\n",
              "      <td>76841</td>\n",
              "      <td>0.0</td>\n",
              "      <td>0.0</td>\n",
              "      <td>0.0</td>\n",
              "      <td>0.0</td>\n",
              "      <td>1.0</td>\n",
              "      <td>8300.0</td>\n",
              "      <td>0</td>\n",
              "      <td>2018-01-02</td>\n",
              "      <td>685000</td>\n",
              "    </tr>\n",
              "  </tbody>\n",
              "</table>\n",
              "<p>76842 rows × 10 columns</p>\n",
              "</div>"
            ],
            "text/plain": [
              "       Unnamed: 0  borough_BK  borough_BX  ...  covid_cases  sales_date  sales_price\n",
              "0               0         1.0         0.0  ...         1608  2020-08-31      5585336\n",
              "1               1         1.0         0.0  ...         1608  2020-08-31      1643000\n",
              "2               2         1.0         0.0  ...         1608  2020-08-31      1200000\n",
              "3               3         1.0         0.0  ...         1608  2020-08-31       735000\n",
              "4               4         1.0         0.0  ...         1608  2020-08-31       775000\n",
              "...           ...         ...         ...  ...          ...         ...          ...\n",
              "76837       76837         0.0         0.0  ...            0  2018-01-02       680000\n",
              "76838       76838         0.0         0.0  ...            0  2018-01-02       400000\n",
              "76839       76839         0.0         0.0  ...            0  2018-01-02       565000\n",
              "76840       76840         0.0         0.0  ...            0  2018-01-02       499500\n",
              "76841       76841         0.0         0.0  ...            0  2018-01-02       685000\n",
              "\n",
              "[76842 rows x 10 columns]"
            ]
          },
          "metadata": {
            "tags": []
          },
          "execution_count": 5
        }
      ]
    },
    {
      "cell_type": "code",
      "metadata": {
        "colab": {
          "base_uri": "https://localhost:8080/",
          "height": 204
        },
        "id": "BUyuHFMfhsWy",
        "outputId": "b3d6885f-d945-422f-bbe0-1110193ff168"
      },
      "source": [
        "df.drop(columns=['Unnamed: 0'], inplace=True)\n",
        "df.head()"
      ],
      "execution_count": 6,
      "outputs": [
        {
          "output_type": "execute_result",
          "data": {
            "text/html": [
              "<div>\n",
              "<style scoped>\n",
              "    .dataframe tbody tr th:only-of-type {\n",
              "        vertical-align: middle;\n",
              "    }\n",
              "\n",
              "    .dataframe tbody tr th {\n",
              "        vertical-align: top;\n",
              "    }\n",
              "\n",
              "    .dataframe thead th {\n",
              "        text-align: right;\n",
              "    }\n",
              "</style>\n",
              "<table border=\"1\" class=\"dataframe\">\n",
              "  <thead>\n",
              "    <tr style=\"text-align: right;\">\n",
              "      <th></th>\n",
              "      <th>borough_BK</th>\n",
              "      <th>borough_BX</th>\n",
              "      <th>borough_MN</th>\n",
              "      <th>borough_QN</th>\n",
              "      <th>borough_SI</th>\n",
              "      <th>tot_area</th>\n",
              "      <th>covid_cases</th>\n",
              "      <th>sales_date</th>\n",
              "      <th>sales_price</th>\n",
              "    </tr>\n",
              "  </thead>\n",
              "  <tbody>\n",
              "    <tr>\n",
              "      <th>0</th>\n",
              "      <td>1.0</td>\n",
              "      <td>0.0</td>\n",
              "      <td>0.0</td>\n",
              "      <td>0.0</td>\n",
              "      <td>0.0</td>\n",
              "      <td>66638.0</td>\n",
              "      <td>1608</td>\n",
              "      <td>2020-08-31</td>\n",
              "      <td>5585336</td>\n",
              "    </tr>\n",
              "    <tr>\n",
              "      <th>1</th>\n",
              "      <td>1.0</td>\n",
              "      <td>0.0</td>\n",
              "      <td>0.0</td>\n",
              "      <td>0.0</td>\n",
              "      <td>0.0</td>\n",
              "      <td>8300.0</td>\n",
              "      <td>1608</td>\n",
              "      <td>2020-08-31</td>\n",
              "      <td>1643000</td>\n",
              "    </tr>\n",
              "    <tr>\n",
              "      <th>2</th>\n",
              "      <td>1.0</td>\n",
              "      <td>0.0</td>\n",
              "      <td>0.0</td>\n",
              "      <td>0.0</td>\n",
              "      <td>0.0</td>\n",
              "      <td>7488.0</td>\n",
              "      <td>1608</td>\n",
              "      <td>2020-08-31</td>\n",
              "      <td>1200000</td>\n",
              "    </tr>\n",
              "    <tr>\n",
              "      <th>3</th>\n",
              "      <td>1.0</td>\n",
              "      <td>0.0</td>\n",
              "      <td>0.0</td>\n",
              "      <td>0.0</td>\n",
              "      <td>0.0</td>\n",
              "      <td>6429.0</td>\n",
              "      <td>1608</td>\n",
              "      <td>2020-08-31</td>\n",
              "      <td>735000</td>\n",
              "    </tr>\n",
              "    <tr>\n",
              "      <th>4</th>\n",
              "      <td>1.0</td>\n",
              "      <td>0.0</td>\n",
              "      <td>0.0</td>\n",
              "      <td>0.0</td>\n",
              "      <td>0.0</td>\n",
              "      <td>7000.0</td>\n",
              "      <td>1608</td>\n",
              "      <td>2020-08-31</td>\n",
              "      <td>775000</td>\n",
              "    </tr>\n",
              "  </tbody>\n",
              "</table>\n",
              "</div>"
            ],
            "text/plain": [
              "   borough_BK  borough_BX  borough_MN  ...  covid_cases  sales_date  sales_price\n",
              "0         1.0         0.0         0.0  ...         1608  2020-08-31      5585336\n",
              "1         1.0         0.0         0.0  ...         1608  2020-08-31      1643000\n",
              "2         1.0         0.0         0.0  ...         1608  2020-08-31      1200000\n",
              "3         1.0         0.0         0.0  ...         1608  2020-08-31       735000\n",
              "4         1.0         0.0         0.0  ...         1608  2020-08-31       775000\n",
              "\n",
              "[5 rows x 9 columns]"
            ]
          },
          "metadata": {
            "tags": []
          },
          "execution_count": 6
        }
      ]
    },
    {
      "cell_type": "code",
      "metadata": {
        "colab": {
          "base_uri": "https://localhost:8080/"
        },
        "id": "eFB3RASUv8f-",
        "outputId": "0c9b06a2-f267-466b-821f-6613df086410"
      },
      "source": [
        "df.info()"
      ],
      "execution_count": 8,
      "outputs": [
        {
          "output_type": "stream",
          "text": [
            "<class 'pandas.core.frame.DataFrame'>\n",
            "RangeIndex: 76842 entries, 0 to 76841\n",
            "Data columns (total 9 columns):\n",
            " #   Column       Non-Null Count  Dtype  \n",
            "---  ------       --------------  -----  \n",
            " 0   borough_BK   76842 non-null  float64\n",
            " 1   borough_BX   76842 non-null  float64\n",
            " 2   borough_MN   76842 non-null  float64\n",
            " 3   borough_QN   76842 non-null  float64\n",
            " 4   borough_SI   76842 non-null  float64\n",
            " 5   tot_area     76842 non-null  float64\n",
            " 6   covid_cases  76842 non-null  int64  \n",
            " 7   sales_date   76842 non-null  object \n",
            " 8   sales_price  76842 non-null  int64  \n",
            "dtypes: float64(6), int64(2), object(1)\n",
            "memory usage: 5.3+ MB\n"
          ],
          "name": "stdout"
        }
      ]
    },
    {
      "cell_type": "code",
      "metadata": {
        "id": "M0hh3-ybwVrz"
      },
      "source": [
        "df['covid_cases']=df.covid_cases.astype('float64')\n",
        "df['sales_price']=df.sales_price.astype('float64')\n",
        "df['per_sqft_rate']=df['sales_price']/df['tot_area']"
      ],
      "execution_count": 9,
      "outputs": []
    },
    {
      "cell_type": "code",
      "metadata": {
        "colab": {
          "base_uri": "https://localhost:8080/",
          "height": 204
        },
        "id": "o9RKRW9rDsEj",
        "outputId": "39c55b62-c13b-4f86-96a3-a405e5447418"
      },
      "source": [
        "df.head()"
      ],
      "execution_count": 10,
      "outputs": [
        {
          "output_type": "execute_result",
          "data": {
            "text/html": [
              "<div>\n",
              "<style scoped>\n",
              "    .dataframe tbody tr th:only-of-type {\n",
              "        vertical-align: middle;\n",
              "    }\n",
              "\n",
              "    .dataframe tbody tr th {\n",
              "        vertical-align: top;\n",
              "    }\n",
              "\n",
              "    .dataframe thead th {\n",
              "        text-align: right;\n",
              "    }\n",
              "</style>\n",
              "<table border=\"1\" class=\"dataframe\">\n",
              "  <thead>\n",
              "    <tr style=\"text-align: right;\">\n",
              "      <th></th>\n",
              "      <th>borough_BK</th>\n",
              "      <th>borough_BX</th>\n",
              "      <th>borough_MN</th>\n",
              "      <th>borough_QN</th>\n",
              "      <th>borough_SI</th>\n",
              "      <th>tot_area</th>\n",
              "      <th>covid_cases</th>\n",
              "      <th>sales_date</th>\n",
              "      <th>sales_price</th>\n",
              "      <th>per_sqft_rate</th>\n",
              "    </tr>\n",
              "  </thead>\n",
              "  <tbody>\n",
              "    <tr>\n",
              "      <th>0</th>\n",
              "      <td>1.0</td>\n",
              "      <td>0.0</td>\n",
              "      <td>0.0</td>\n",
              "      <td>0.0</td>\n",
              "      <td>0.0</td>\n",
              "      <td>66638.0</td>\n",
              "      <td>1608.0</td>\n",
              "      <td>2020-08-31</td>\n",
              "      <td>5585336.0</td>\n",
              "      <td>83.816081</td>\n",
              "    </tr>\n",
              "    <tr>\n",
              "      <th>1</th>\n",
              "      <td>1.0</td>\n",
              "      <td>0.0</td>\n",
              "      <td>0.0</td>\n",
              "      <td>0.0</td>\n",
              "      <td>0.0</td>\n",
              "      <td>8300.0</td>\n",
              "      <td>1608.0</td>\n",
              "      <td>2020-08-31</td>\n",
              "      <td>1643000.0</td>\n",
              "      <td>197.951807</td>\n",
              "    </tr>\n",
              "    <tr>\n",
              "      <th>2</th>\n",
              "      <td>1.0</td>\n",
              "      <td>0.0</td>\n",
              "      <td>0.0</td>\n",
              "      <td>0.0</td>\n",
              "      <td>0.0</td>\n",
              "      <td>7488.0</td>\n",
              "      <td>1608.0</td>\n",
              "      <td>2020-08-31</td>\n",
              "      <td>1200000.0</td>\n",
              "      <td>160.256410</td>\n",
              "    </tr>\n",
              "    <tr>\n",
              "      <th>3</th>\n",
              "      <td>1.0</td>\n",
              "      <td>0.0</td>\n",
              "      <td>0.0</td>\n",
              "      <td>0.0</td>\n",
              "      <td>0.0</td>\n",
              "      <td>6429.0</td>\n",
              "      <td>1608.0</td>\n",
              "      <td>2020-08-31</td>\n",
              "      <td>735000.0</td>\n",
              "      <td>114.325712</td>\n",
              "    </tr>\n",
              "    <tr>\n",
              "      <th>4</th>\n",
              "      <td>1.0</td>\n",
              "      <td>0.0</td>\n",
              "      <td>0.0</td>\n",
              "      <td>0.0</td>\n",
              "      <td>0.0</td>\n",
              "      <td>7000.0</td>\n",
              "      <td>1608.0</td>\n",
              "      <td>2020-08-31</td>\n",
              "      <td>775000.0</td>\n",
              "      <td>110.714286</td>\n",
              "    </tr>\n",
              "  </tbody>\n",
              "</table>\n",
              "</div>"
            ],
            "text/plain": [
              "   borough_BK  borough_BX  borough_MN  ...  sales_date  sales_price  per_sqft_rate\n",
              "0         1.0         0.0         0.0  ...  2020-08-31    5585336.0      83.816081\n",
              "1         1.0         0.0         0.0  ...  2020-08-31    1643000.0     197.951807\n",
              "2         1.0         0.0         0.0  ...  2020-08-31    1200000.0     160.256410\n",
              "3         1.0         0.0         0.0  ...  2020-08-31     735000.0     114.325712\n",
              "4         1.0         0.0         0.0  ...  2020-08-31     775000.0     110.714286\n",
              "\n",
              "[5 rows x 10 columns]"
            ]
          },
          "metadata": {
            "tags": []
          },
          "execution_count": 10
        }
      ]
    },
    {
      "cell_type": "code",
      "metadata": {
        "colab": {
          "base_uri": "https://localhost:8080/",
          "height": 419
        },
        "id": "9UoUyMlozv-3",
        "outputId": "4fd90c9f-9328-4158-de99-c2d1c31a9480"
      },
      "source": [
        "#We need to separate boroughs Let's first create a model for Brooklyn only\n",
        "\n",
        "df_BK = df[df['borough_BK']==1]\n",
        "df_BK = df[['tot_area', 'covid_cases', 'sales_date','sales_price','per_sqft_rate' ]]\n",
        "df_BK"
      ],
      "execution_count": 11,
      "outputs": [
        {
          "output_type": "execute_result",
          "data": {
            "text/html": [
              "<div>\n",
              "<style scoped>\n",
              "    .dataframe tbody tr th:only-of-type {\n",
              "        vertical-align: middle;\n",
              "    }\n",
              "\n",
              "    .dataframe tbody tr th {\n",
              "        vertical-align: top;\n",
              "    }\n",
              "\n",
              "    .dataframe thead th {\n",
              "        text-align: right;\n",
              "    }\n",
              "</style>\n",
              "<table border=\"1\" class=\"dataframe\">\n",
              "  <thead>\n",
              "    <tr style=\"text-align: right;\">\n",
              "      <th></th>\n",
              "      <th>tot_area</th>\n",
              "      <th>covid_cases</th>\n",
              "      <th>sales_date</th>\n",
              "      <th>sales_price</th>\n",
              "      <th>per_sqft_rate</th>\n",
              "    </tr>\n",
              "  </thead>\n",
              "  <tbody>\n",
              "    <tr>\n",
              "      <th>0</th>\n",
              "      <td>66638.0</td>\n",
              "      <td>1608.0</td>\n",
              "      <td>2020-08-31</td>\n",
              "      <td>5585336.0</td>\n",
              "      <td>83.816081</td>\n",
              "    </tr>\n",
              "    <tr>\n",
              "      <th>1</th>\n",
              "      <td>8300.0</td>\n",
              "      <td>1608.0</td>\n",
              "      <td>2020-08-31</td>\n",
              "      <td>1643000.0</td>\n",
              "      <td>197.951807</td>\n",
              "    </tr>\n",
              "    <tr>\n",
              "      <th>2</th>\n",
              "      <td>7488.0</td>\n",
              "      <td>1608.0</td>\n",
              "      <td>2020-08-31</td>\n",
              "      <td>1200000.0</td>\n",
              "      <td>160.256410</td>\n",
              "    </tr>\n",
              "    <tr>\n",
              "      <th>3</th>\n",
              "      <td>6429.0</td>\n",
              "      <td>1608.0</td>\n",
              "      <td>2020-08-31</td>\n",
              "      <td>735000.0</td>\n",
              "      <td>114.325712</td>\n",
              "    </tr>\n",
              "    <tr>\n",
              "      <th>4</th>\n",
              "      <td>7000.0</td>\n",
              "      <td>1608.0</td>\n",
              "      <td>2020-08-31</td>\n",
              "      <td>775000.0</td>\n",
              "      <td>110.714286</td>\n",
              "    </tr>\n",
              "    <tr>\n",
              "      <th>...</th>\n",
              "      <td>...</td>\n",
              "      <td>...</td>\n",
              "      <td>...</td>\n",
              "      <td>...</td>\n",
              "      <td>...</td>\n",
              "    </tr>\n",
              "    <tr>\n",
              "      <th>76837</th>\n",
              "      <td>5264.0</td>\n",
              "      <td>0.0</td>\n",
              "      <td>2018-01-02</td>\n",
              "      <td>680000.0</td>\n",
              "      <td>129.179331</td>\n",
              "    </tr>\n",
              "    <tr>\n",
              "      <th>76838</th>\n",
              "      <td>10268.0</td>\n",
              "      <td>0.0</td>\n",
              "      <td>2018-01-02</td>\n",
              "      <td>400000.0</td>\n",
              "      <td>38.955980</td>\n",
              "    </tr>\n",
              "    <tr>\n",
              "      <th>76839</th>\n",
              "      <td>4901.0</td>\n",
              "      <td>0.0</td>\n",
              "      <td>2018-01-02</td>\n",
              "      <td>565000.0</td>\n",
              "      <td>115.282595</td>\n",
              "    </tr>\n",
              "    <tr>\n",
              "      <th>76840</th>\n",
              "      <td>6525.0</td>\n",
              "      <td>0.0</td>\n",
              "      <td>2018-01-02</td>\n",
              "      <td>499500.0</td>\n",
              "      <td>76.551724</td>\n",
              "    </tr>\n",
              "    <tr>\n",
              "      <th>76841</th>\n",
              "      <td>8300.0</td>\n",
              "      <td>0.0</td>\n",
              "      <td>2018-01-02</td>\n",
              "      <td>685000.0</td>\n",
              "      <td>82.530120</td>\n",
              "    </tr>\n",
              "  </tbody>\n",
              "</table>\n",
              "<p>76842 rows × 5 columns</p>\n",
              "</div>"
            ],
            "text/plain": [
              "       tot_area  covid_cases  sales_date  sales_price  per_sqft_rate\n",
              "0       66638.0       1608.0  2020-08-31    5585336.0      83.816081\n",
              "1        8300.0       1608.0  2020-08-31    1643000.0     197.951807\n",
              "2        7488.0       1608.0  2020-08-31    1200000.0     160.256410\n",
              "3        6429.0       1608.0  2020-08-31     735000.0     114.325712\n",
              "4        7000.0       1608.0  2020-08-31     775000.0     110.714286\n",
              "...         ...          ...         ...          ...            ...\n",
              "76837    5264.0          0.0  2018-01-02     680000.0     129.179331\n",
              "76838   10268.0          0.0  2018-01-02     400000.0      38.955980\n",
              "76839    4901.0          0.0  2018-01-02     565000.0     115.282595\n",
              "76840    6525.0          0.0  2018-01-02     499500.0      76.551724\n",
              "76841    8300.0          0.0  2018-01-02     685000.0      82.530120\n",
              "\n",
              "[76842 rows x 5 columns]"
            ]
          },
          "metadata": {
            "tags": []
          },
          "execution_count": 11
        }
      ]
    },
    {
      "cell_type": "code",
      "metadata": {
        "id": "K-JxYd7yH-gw"
      },
      "source": [
        "sales_date = df['sales_date']"
      ],
      "execution_count": 12,
      "outputs": []
    },
    {
      "cell_type": "code",
      "metadata": {
        "colab": {
          "base_uri": "https://localhost:8080/",
          "height": 450
        },
        "id": "LBpoFhesgl__",
        "outputId": "548d72eb-81d0-4b2d-952d-316a083c691d"
      },
      "source": [
        "#We ensure, one datapoint per date. \n",
        "#We therefore, groupby sales_date column and aggregate over per_sqft_rate column on it's mean andchoose max number of covid_cases.\n",
        "df_BK=df_BK.groupby([\"sales_date\"]).agg({'per_sqft_rate':'mean', 'covid_cases':'max'})\n",
        "df_BK"
      ],
      "execution_count": 13,
      "outputs": [
        {
          "output_type": "execute_result",
          "data": {
            "text/html": [
              "<div>\n",
              "<style scoped>\n",
              "    .dataframe tbody tr th:only-of-type {\n",
              "        vertical-align: middle;\n",
              "    }\n",
              "\n",
              "    .dataframe tbody tr th {\n",
              "        vertical-align: top;\n",
              "    }\n",
              "\n",
              "    .dataframe thead th {\n",
              "        text-align: right;\n",
              "    }\n",
              "</style>\n",
              "<table border=\"1\" class=\"dataframe\">\n",
              "  <thead>\n",
              "    <tr style=\"text-align: right;\">\n",
              "      <th></th>\n",
              "      <th>per_sqft_rate</th>\n",
              "      <th>covid_cases</th>\n",
              "    </tr>\n",
              "    <tr>\n",
              "      <th>sales_date</th>\n",
              "      <th></th>\n",
              "      <th></th>\n",
              "    </tr>\n",
              "  </thead>\n",
              "  <tbody>\n",
              "    <tr>\n",
              "      <th>2018-01-01</th>\n",
              "      <td>29.068164</td>\n",
              "      <td>0.0</td>\n",
              "    </tr>\n",
              "    <tr>\n",
              "      <th>2018-01-02</th>\n",
              "      <td>112.733805</td>\n",
              "      <td>0.0</td>\n",
              "    </tr>\n",
              "    <tr>\n",
              "      <th>2018-01-03</th>\n",
              "      <td>78.229029</td>\n",
              "      <td>0.0</td>\n",
              "    </tr>\n",
              "    <tr>\n",
              "      <th>2018-01-04</th>\n",
              "      <td>87.236638</td>\n",
              "      <td>0.0</td>\n",
              "    </tr>\n",
              "    <tr>\n",
              "      <th>2018-01-05</th>\n",
              "      <td>77.624732</td>\n",
              "      <td>0.0</td>\n",
              "    </tr>\n",
              "    <tr>\n",
              "      <th>...</th>\n",
              "      <td>...</td>\n",
              "      <td>...</td>\n",
              "    </tr>\n",
              "    <tr>\n",
              "      <th>2020-08-26</th>\n",
              "      <td>153.116965</td>\n",
              "      <td>1754.0</td>\n",
              "    </tr>\n",
              "    <tr>\n",
              "      <th>2020-08-27</th>\n",
              "      <td>131.620605</td>\n",
              "      <td>1754.0</td>\n",
              "    </tr>\n",
              "    <tr>\n",
              "      <th>2020-08-28</th>\n",
              "      <td>128.667341</td>\n",
              "      <td>1754.0</td>\n",
              "    </tr>\n",
              "    <tr>\n",
              "      <th>2020-08-29</th>\n",
              "      <td>48.997135</td>\n",
              "      <td>1754.0</td>\n",
              "    </tr>\n",
              "    <tr>\n",
              "      <th>2020-08-31</th>\n",
              "      <td>117.664893</td>\n",
              "      <td>1754.0</td>\n",
              "    </tr>\n",
              "  </tbody>\n",
              "</table>\n",
              "<p>827 rows × 2 columns</p>\n",
              "</div>"
            ],
            "text/plain": [
              "            per_sqft_rate  covid_cases\n",
              "sales_date                            \n",
              "2018-01-01      29.068164          0.0\n",
              "2018-01-02     112.733805          0.0\n",
              "2018-01-03      78.229029          0.0\n",
              "2018-01-04      87.236638          0.0\n",
              "2018-01-05      77.624732          0.0\n",
              "...                   ...          ...\n",
              "2020-08-26     153.116965       1754.0\n",
              "2020-08-27     131.620605       1754.0\n",
              "2020-08-28     128.667341       1754.0\n",
              "2020-08-29      48.997135       1754.0\n",
              "2020-08-31     117.664893       1754.0\n",
              "\n",
              "[827 rows x 2 columns]"
            ]
          },
          "metadata": {
            "tags": []
          },
          "execution_count": 13
        }
      ]
    },
    {
      "cell_type": "code",
      "metadata": {
        "colab": {
          "base_uri": "https://localhost:8080/",
          "height": 297
        },
        "id": "u3ebwcjBwp6x",
        "outputId": "a8bb5cff-223b-40b5-8ee0-fec2a19b096c"
      },
      "source": [
        "df_BK.describe()"
      ],
      "execution_count": 14,
      "outputs": [
        {
          "output_type": "execute_result",
          "data": {
            "text/html": [
              "<div>\n",
              "<style scoped>\n",
              "    .dataframe tbody tr th:only-of-type {\n",
              "        vertical-align: middle;\n",
              "    }\n",
              "\n",
              "    .dataframe tbody tr th {\n",
              "        vertical-align: top;\n",
              "    }\n",
              "\n",
              "    .dataframe thead th {\n",
              "        text-align: right;\n",
              "    }\n",
              "</style>\n",
              "<table border=\"1\" class=\"dataframe\">\n",
              "  <thead>\n",
              "    <tr style=\"text-align: right;\">\n",
              "      <th></th>\n",
              "      <th>per_sqft_rate</th>\n",
              "      <th>covid_cases</th>\n",
              "    </tr>\n",
              "  </thead>\n",
              "  <tbody>\n",
              "    <tr>\n",
              "      <th>count</th>\n",
              "      <td>827.000000</td>\n",
              "      <td>827.000000</td>\n",
              "    </tr>\n",
              "    <tr>\n",
              "      <th>mean</th>\n",
              "      <td>112.915610</td>\n",
              "      <td>2006.338573</td>\n",
              "    </tr>\n",
              "    <tr>\n",
              "      <th>std</th>\n",
              "      <td>53.502946</td>\n",
              "      <td>6528.535324</td>\n",
              "    </tr>\n",
              "    <tr>\n",
              "      <th>min</th>\n",
              "      <td>0.064506</td>\n",
              "      <td>0.000000</td>\n",
              "    </tr>\n",
              "    <tr>\n",
              "      <th>25%</th>\n",
              "      <td>84.976315</td>\n",
              "      <td>0.000000</td>\n",
              "    </tr>\n",
              "    <tr>\n",
              "      <th>50%</th>\n",
              "      <td>116.610502</td>\n",
              "      <td>0.000000</td>\n",
              "    </tr>\n",
              "    <tr>\n",
              "      <th>75%</th>\n",
              "      <td>134.819387</td>\n",
              "      <td>0.000000</td>\n",
              "    </tr>\n",
              "    <tr>\n",
              "      <th>max</th>\n",
              "      <td>1049.128099</td>\n",
              "      <td>34019.000000</td>\n",
              "    </tr>\n",
              "  </tbody>\n",
              "</table>\n",
              "</div>"
            ],
            "text/plain": [
              "       per_sqft_rate   covid_cases\n",
              "count     827.000000    827.000000\n",
              "mean      112.915610   2006.338573\n",
              "std        53.502946   6528.535324\n",
              "min         0.064506      0.000000\n",
              "25%        84.976315      0.000000\n",
              "50%       116.610502      0.000000\n",
              "75%       134.819387      0.000000\n",
              "max      1049.128099  34019.000000"
            ]
          },
          "metadata": {
            "tags": []
          },
          "execution_count": 14
        }
      ]
    },
    {
      "cell_type": "code",
      "metadata": {
        "id": "bzXz0_0bPhWV",
        "colab": {
          "base_uri": "https://localhost:8080/"
        },
        "outputId": "7f62bcba-9b4c-46eb-e366-3a1c599d45d0"
      },
      "source": [
        "#LSTM uses sigmoid and tanh that are sensitive to magnitude so values need to be normalized\n",
        "# normalize the dataset\n",
        "print(df_BK.shape)\n",
        "scaler = StandardScaler()\n",
        "scaler = scaler.fit(df_BK)\n",
        "df_scaled = scaler.transform(df_BK)\n",
        "df_scaled"
      ],
      "execution_count": 15,
      "outputs": [
        {
          "output_type": "stream",
          "text": [
            "(827, 2)\n"
          ],
          "name": "stdout"
        },
        {
          "output_type": "execute_result",
          "data": {
            "text/plain": [
              "array([[-1.56810405, -0.3075043 ],\n",
              "       [-0.0034001 , -0.3075043 ],\n",
              "       [-0.64870392, -0.3075043 ],\n",
              "       ...,\n",
              "       [ 0.29458683, -0.03867503],\n",
              "       [-1.19539502, -0.03867503],\n",
              "       [ 0.08882048, -0.03867503]])"
            ]
          },
          "metadata": {
            "tags": []
          },
          "execution_count": 15
        }
      ]
    },
    {
      "cell_type": "code",
      "metadata": {
        "colab": {
          "base_uri": "https://localhost:8080/"
        },
        "id": "ajMFnddw2Nu9",
        "outputId": "6a570781-c0e1-4e33-ef2a-934e128ae02a"
      },
      "source": [
        "df_scaled.shape"
      ],
      "execution_count": 16,
      "outputs": [
        {
          "output_type": "execute_result",
          "data": {
            "text/plain": [
              "(827, 2)"
            ]
          },
          "metadata": {
            "tags": []
          },
          "execution_count": 16
        }
      ]
    },
    {
      "cell_type": "code",
      "metadata": {
        "colab": {
          "base_uri": "https://localhost:8080/",
          "height": 235
        },
        "id": "mVB_hitf2AoX",
        "outputId": "a5b949f6-151d-4d51-8502-c4a5aa721fab"
      },
      "source": [
        "import numpy as np\n",
        "df_BK['scaled_per_sqft_rate']= df_scaled[:,0]\n",
        "df_BK['scaled_covid_cases']= df_scaled[:,1]\n",
        "df_BK.head()"
      ],
      "execution_count": 17,
      "outputs": [
        {
          "output_type": "execute_result",
          "data": {
            "text/html": [
              "<div>\n",
              "<style scoped>\n",
              "    .dataframe tbody tr th:only-of-type {\n",
              "        vertical-align: middle;\n",
              "    }\n",
              "\n",
              "    .dataframe tbody tr th {\n",
              "        vertical-align: top;\n",
              "    }\n",
              "\n",
              "    .dataframe thead th {\n",
              "        text-align: right;\n",
              "    }\n",
              "</style>\n",
              "<table border=\"1\" class=\"dataframe\">\n",
              "  <thead>\n",
              "    <tr style=\"text-align: right;\">\n",
              "      <th></th>\n",
              "      <th>per_sqft_rate</th>\n",
              "      <th>covid_cases</th>\n",
              "      <th>scaled_per_sqft_rate</th>\n",
              "      <th>scaled_covid_cases</th>\n",
              "    </tr>\n",
              "    <tr>\n",
              "      <th>sales_date</th>\n",
              "      <th></th>\n",
              "      <th></th>\n",
              "      <th></th>\n",
              "      <th></th>\n",
              "    </tr>\n",
              "  </thead>\n",
              "  <tbody>\n",
              "    <tr>\n",
              "      <th>2018-01-01</th>\n",
              "      <td>29.068164</td>\n",
              "      <td>0.0</td>\n",
              "      <td>-1.568104</td>\n",
              "      <td>-0.307504</td>\n",
              "    </tr>\n",
              "    <tr>\n",
              "      <th>2018-01-02</th>\n",
              "      <td>112.733805</td>\n",
              "      <td>0.0</td>\n",
              "      <td>-0.003400</td>\n",
              "      <td>-0.307504</td>\n",
              "    </tr>\n",
              "    <tr>\n",
              "      <th>2018-01-03</th>\n",
              "      <td>78.229029</td>\n",
              "      <td>0.0</td>\n",
              "      <td>-0.648704</td>\n",
              "      <td>-0.307504</td>\n",
              "    </tr>\n",
              "    <tr>\n",
              "      <th>2018-01-04</th>\n",
              "      <td>87.236638</td>\n",
              "      <td>0.0</td>\n",
              "      <td>-0.480245</td>\n",
              "      <td>-0.307504</td>\n",
              "    </tr>\n",
              "    <tr>\n",
              "      <th>2018-01-05</th>\n",
              "      <td>77.624732</td>\n",
              "      <td>0.0</td>\n",
              "      <td>-0.660005</td>\n",
              "      <td>-0.307504</td>\n",
              "    </tr>\n",
              "  </tbody>\n",
              "</table>\n",
              "</div>"
            ],
            "text/plain": [
              "            per_sqft_rate  ...  scaled_covid_cases\n",
              "sales_date                 ...                    \n",
              "2018-01-01      29.068164  ...           -0.307504\n",
              "2018-01-02     112.733805  ...           -0.307504\n",
              "2018-01-03      78.229029  ...           -0.307504\n",
              "2018-01-04      87.236638  ...           -0.307504\n",
              "2018-01-05      77.624732  ...           -0.307504\n",
              "\n",
              "[5 rows x 4 columns]"
            ]
          },
          "metadata": {
            "tags": []
          },
          "execution_count": 17
        }
      ]
    },
    {
      "cell_type": "code",
      "metadata": {
        "colab": {
          "base_uri": "https://localhost:8080/",
          "height": 390
        },
        "id": "zuC2S6qFFSb-",
        "outputId": "877b118e-c52c-4d2f-a830-ec545cad199d"
      },
      "source": [
        "df_BK.tail(10)"
      ],
      "execution_count": 18,
      "outputs": [
        {
          "output_type": "execute_result",
          "data": {
            "text/html": [
              "<div>\n",
              "<style scoped>\n",
              "    .dataframe tbody tr th:only-of-type {\n",
              "        vertical-align: middle;\n",
              "    }\n",
              "\n",
              "    .dataframe tbody tr th {\n",
              "        vertical-align: top;\n",
              "    }\n",
              "\n",
              "    .dataframe thead th {\n",
              "        text-align: right;\n",
              "    }\n",
              "</style>\n",
              "<table border=\"1\" class=\"dataframe\">\n",
              "  <thead>\n",
              "    <tr style=\"text-align: right;\">\n",
              "      <th></th>\n",
              "      <th>per_sqft_rate</th>\n",
              "      <th>covid_cases</th>\n",
              "      <th>scaled_per_sqft_rate</th>\n",
              "      <th>scaled_covid_cases</th>\n",
              "    </tr>\n",
              "    <tr>\n",
              "      <th>sales_date</th>\n",
              "      <th></th>\n",
              "      <th></th>\n",
              "      <th></th>\n",
              "      <th></th>\n",
              "    </tr>\n",
              "  </thead>\n",
              "  <tbody>\n",
              "    <tr>\n",
              "      <th>2020-08-19</th>\n",
              "      <td>131.773825</td>\n",
              "      <td>1754.0</td>\n",
              "      <td>0.352684</td>\n",
              "      <td>-0.038675</td>\n",
              "    </tr>\n",
              "    <tr>\n",
              "      <th>2020-08-20</th>\n",
              "      <td>133.068943</td>\n",
              "      <td>1754.0</td>\n",
              "      <td>0.376905</td>\n",
              "      <td>-0.038675</td>\n",
              "    </tr>\n",
              "    <tr>\n",
              "      <th>2020-08-21</th>\n",
              "      <td>133.975795</td>\n",
              "      <td>1754.0</td>\n",
              "      <td>0.393865</td>\n",
              "      <td>-0.038675</td>\n",
              "    </tr>\n",
              "    <tr>\n",
              "      <th>2020-08-24</th>\n",
              "      <td>144.783767</td>\n",
              "      <td>1754.0</td>\n",
              "      <td>0.595994</td>\n",
              "      <td>-0.038675</td>\n",
              "    </tr>\n",
              "    <tr>\n",
              "      <th>2020-08-25</th>\n",
              "      <td>128.278371</td>\n",
              "      <td>1754.0</td>\n",
              "      <td>0.287312</td>\n",
              "      <td>-0.038675</td>\n",
              "    </tr>\n",
              "    <tr>\n",
              "      <th>2020-08-26</th>\n",
              "      <td>153.116965</td>\n",
              "      <td>1754.0</td>\n",
              "      <td>0.751841</td>\n",
              "      <td>-0.038675</td>\n",
              "    </tr>\n",
              "    <tr>\n",
              "      <th>2020-08-27</th>\n",
              "      <td>131.620605</td>\n",
              "      <td>1754.0</td>\n",
              "      <td>0.349818</td>\n",
              "      <td>-0.038675</td>\n",
              "    </tr>\n",
              "    <tr>\n",
              "      <th>2020-08-28</th>\n",
              "      <td>128.667341</td>\n",
              "      <td>1754.0</td>\n",
              "      <td>0.294587</td>\n",
              "      <td>-0.038675</td>\n",
              "    </tr>\n",
              "    <tr>\n",
              "      <th>2020-08-29</th>\n",
              "      <td>48.997135</td>\n",
              "      <td>1754.0</td>\n",
              "      <td>-1.195395</td>\n",
              "      <td>-0.038675</td>\n",
              "    </tr>\n",
              "    <tr>\n",
              "      <th>2020-08-31</th>\n",
              "      <td>117.664893</td>\n",
              "      <td>1754.0</td>\n",
              "      <td>0.088820</td>\n",
              "      <td>-0.038675</td>\n",
              "    </tr>\n",
              "  </tbody>\n",
              "</table>\n",
              "</div>"
            ],
            "text/plain": [
              "            per_sqft_rate  ...  scaled_covid_cases\n",
              "sales_date                 ...                    \n",
              "2020-08-19     131.773825  ...           -0.038675\n",
              "2020-08-20     133.068943  ...           -0.038675\n",
              "2020-08-21     133.975795  ...           -0.038675\n",
              "2020-08-24     144.783767  ...           -0.038675\n",
              "2020-08-25     128.278371  ...           -0.038675\n",
              "2020-08-26     153.116965  ...           -0.038675\n",
              "2020-08-27     131.620605  ...           -0.038675\n",
              "2020-08-28     128.667341  ...           -0.038675\n",
              "2020-08-29      48.997135  ...           -0.038675\n",
              "2020-08-31     117.664893  ...           -0.038675\n",
              "\n",
              "[10 rows x 4 columns]"
            ]
          },
          "metadata": {
            "tags": []
          },
          "execution_count": 18
        }
      ]
    },
    {
      "cell_type": "code",
      "metadata": {
        "id": "-XJa7DDHrz82"
      },
      "source": [
        "# #Handling Missing Values\n",
        "# import datetime\n",
        "# def fill_in_missing_dates(df, date_col_name = 'sales_date',date_order = 'asc', fill_method = 'ffill', start_date ='2018-01-01'):\n",
        "\n",
        "#     #df.set_index(date_col_name,drop=True,inplace=True)\n",
        "#     df.index = pd.DatetimeIndex(df.index)\n",
        "#     start=pd.to_datetime(\"2018-01-01\")\n",
        "#     end =pd.to_datetime('2020-08-31')\n",
        "#     #d2 = (d - pd.to_datetime(start_date)).days\n",
        "#     #print(d,d2)\n",
        "#     idx = pd.date_range(start=start, end=end, freq = \"D\")\n",
        "#     df = df.reindex(idx,method=fill_method)\n",
        "#     df[date_col_name] = pd.DatetimeIndex(df.index)\n",
        "\n",
        "#     return df\n",
        "\n",
        "# df_BK=fill_in_missing_dates(df_BK )\n",
        "# df_BK"
      ],
      "execution_count": null,
      "outputs": []
    },
    {
      "cell_type": "code",
      "metadata": {
        "colab": {
          "base_uri": "https://localhost:8080/",
          "height": 390
        },
        "id": "a8hCAnuf2yLU",
        "outputId": "fd6eeb59-554f-4127-a1cf-7486750afff5"
      },
      "source": [
        "#Plotting Normalized Prices and Covid Cases\n",
        "plt.figure(figsize=(20,6))\n",
        "plt.title(\"Covid Cases and Per Sqft Housing Prices Over Time in Brooklyn\")\n",
        "plt.plot(df_BK['scaled_covid_cases'], linestyle='solid', color='orange')\n",
        "plt.plot(df_BK['scaled_per_sqft_rate'], linestyle='solid', color='teal')\n",
        "plt.grid(False)\n",
        "#sns.lineplot(data=trends.drop(['sales_price', 'covid_cases'], axis=1));"
      ],
      "execution_count": 19,
      "outputs": [
        {
          "output_type": "display_data",
          "data": {
            "image/png": "[encoded data removed]",
            "text/plain": [
              "<Figure size 1440x432 with 1 Axes>"
            ]
          },
          "metadata": {
            "tags": [],
            "needs_background": "light"
          }
        }
      ]
    },
    {
      "cell_type": "code",
      "metadata": {
        "colab": {
          "base_uri": "https://localhost:8080/"
        },
        "id": "m-xL74KaOm7k",
        "outputId": "96105267-b5d4-422c-ab90-c7e64685ed9c"
      },
      "source": [
        "#Separate dates for future plotting\n",
        "train_dates = pd.to_datetime(df_BK.index)\n",
        "train_dates"
      ],
      "execution_count": 20,
      "outputs": [
        {
          "output_type": "execute_result",
          "data": {
            "text/plain": [
              "DatetimeIndex(['2018-01-01', '2018-01-02', '2018-01-03', '2018-01-04',\n",
              "               '2018-01-05', '2018-01-07', '2018-01-08', '2018-01-09',\n",
              "               '2018-01-10', '2018-01-11',\n",
              "               ...\n",
              "               '2020-08-19', '2020-08-20', '2020-08-21', '2020-08-24',\n",
              "               '2020-08-25', '2020-08-26', '2020-08-27', '2020-08-28',\n",
              "               '2020-08-29', '2020-08-31'],\n",
              "              dtype='datetime64[ns]', name='sales_date', length=827, freq=None)"
            ]
          },
          "metadata": {
            "tags": []
          },
          "execution_count": 20
        }
      ]
    },
    {
      "cell_type": "code",
      "metadata": {
        "id": "d1gDbGP_jpfy"
      },
      "source": [
        "trainX = []\n",
        "trainY = []\n",
        "\n",
        "n_future = 7   # Number of days we want to predict into the future\n",
        "n_past = 14     # Number of past days we want to use to predict the future\n",
        "\n",
        "\n",
        "#Creating sequential window trainX for training. \n",
        "#Sample trainX window : [0.1 0.2 0.3 0.5 0.4 0.1 ]\n",
        "for i in range(n_past, len(df_scaled) - n_future +1):\n",
        "    trainX.append(df_scaled[i - n_past:i, 0:df_scaled.shape[1]])\n",
        "    trainY.append(df_scaled[i + n_future - 1:i + n_future, 0])\n"
      ],
      "execution_count": 21,
      "outputs": []
    },
    {
      "cell_type": "code",
      "metadata": {
        "id": "RuSAVAz30bas"
      },
      "source": [
        "trainX=trainX[:800]\n",
        "trainY=trainY[:800]"
      ],
      "execution_count": 71,
      "outputs": []
    },
    {
      "cell_type": "code",
      "metadata": {
        "colab": {
          "base_uri": "https://localhost:8080/"
        },
        "id": "gK--kpB5s1rs",
        "outputId": "c5704229-64c7-4264-cfab-17b8dce92645"
      },
      "source": [
        "df_scaled.shape"
      ],
      "execution_count": 22,
      "outputs": [
        {
          "output_type": "execute_result",
          "data": {
            "text/plain": [
              "(827, 2)"
            ]
          },
          "metadata": {
            "tags": []
          },
          "execution_count": 22
        }
      ]
    },
    {
      "cell_type": "code",
      "metadata": {
        "id": "EWLTBDr3t_N0",
        "colab": {
          "base_uri": "https://localhost:8080/"
        },
        "outputId": "c9ac993c-10d6-44d7-bcee-9763cde08f79"
      },
      "source": [
        "print(trainX[0])"
      ],
      "execution_count": 23,
      "outputs": [
        {
          "output_type": "stream",
          "text": [
            "[[-1.56810405 -0.3075043 ]\n",
            " [-0.0034001  -0.3075043 ]\n",
            " [-0.64870392 -0.3075043 ]\n",
            " [-0.4802448  -0.3075043 ]\n",
            " [-0.66000542 -0.3075043 ]\n",
            " [-1.37834975 -0.3075043 ]\n",
            " [-0.68485516 -0.3075043 ]\n",
            " [-0.28925468 -0.3075043 ]\n",
            " [-0.38884578 -0.3075043 ]\n",
            " [-0.8474091  -0.3075043 ]\n",
            " [-0.32847487 -0.3075043 ]\n",
            " [-1.53769755 -0.3075043 ]\n",
            " [-0.80579558 -0.3075043 ]\n",
            " [-0.52169578 -0.3075043 ]]\n"
          ],
          "name": "stdout"
        }
      ]
    },
    {
      "cell_type": "code",
      "metadata": {
        "id": "mYgSVkO892Gv"
      },
      "source": [
        "trainX, trainY = np.array(trainX), np.array(trainY)"
      ],
      "execution_count": 24,
      "outputs": []
    },
    {
      "cell_type": "code",
      "metadata": {
        "colab": {
          "base_uri": "https://localhost:8080/"
        },
        "id": "o33aOj19o8Ho",
        "outputId": "7a2b5c36-e4a1-4576-b688-c5643c9846f4"
      },
      "source": [
        "print(trainX.shape)"
      ],
      "execution_count": 25,
      "outputs": [
        {
          "output_type": "stream",
          "text": [
            "(807, 14, 2)\n"
          ],
          "name": "stdout"
        }
      ]
    },
    {
      "cell_type": "code",
      "metadata": {
        "colab": {
          "base_uri": "https://localhost:8080/"
        },
        "id": "XBJuEABfJhzB",
        "outputId": "59156abc-519c-409f-8118-0d3b7af596bc"
      },
      "source": [
        "print('trainX shape == {}.'.format(trainX.shape))\n",
        "print('trainY shape == {}.'.format(trainY.shape))\n"
      ],
      "execution_count": 26,
      "outputs": [
        {
          "output_type": "stream",
          "text": [
            "trainX shape == (807, 14, 2).\n",
            "trainY shape == (807, 1).\n"
          ],
          "name": "stdout"
        }
      ]
    },
    {
      "cell_type": "code",
      "metadata": {
        "id": "Qi2wbtW2Pk0H",
        "colab": {
          "base_uri": "https://localhost:8080/",
          "height": 352
        },
        "outputId": "4b823e81-f79c-40db-db21-a0b264407555"
      },
      "source": [
        "# Correlations among columns\n",
        "import seaborn as sns\n",
        "sns.heatmap(df.corr(),annot=True);\n",
        "plt.title('Correlation Among Features', size=10);\n",
        "plt.figure(figsize=(15,15));\n",
        "plt.show();"
      ],
      "execution_count": 27,
      "outputs": [
        {
          "output_type": "display_data",
          "data": {
            "image/png": "[encoded data removed]",
            "text/plain": [
              "<Figure size 432x288 with 2 Axes>"
            ]
          },
          "metadata": {
            "tags": [],
            "needs_background": "light"
          }
        },
        {
          "output_type": "display_data",
          "data": {
            "text/plain": [
              "<Figure size 1080x1080 with 0 Axes>"
            ]
          },
          "metadata": {
            "tags": []
          }
        }
      ]
    },
    {
      "cell_type": "code",
      "metadata": {
        "colab": {
          "base_uri": "https://localhost:8080/"
        },
        "id": "YU6KmK65mLwU",
        "outputId": "5fd2b9f2-4008-4a7c-b170-c65e5da3d28b"
      },
      "source": [
        "# define LSTM model\n",
        "model=None\n",
        "model = Sequential()\n",
        "model.add(LSTM(32, activation='relu', input_shape=(trainX.shape[1], trainX.shape[2]), return_sequences=True))\n",
        "model.add(LSTM(32, activation='relu', return_sequences=True))\n",
        "model.add(Dropout(0.2))\n",
        "model.add(Dense(trainY.shape[1]))\n",
        "\n",
        "model.compile(optimizer='adam', loss='mse')\n",
        "model.summary()\n"
      ],
      "execution_count": 28,
      "outputs": [
        {
          "output_type": "stream",
          "text": [
            "Model: \"sequential\"\n",
            "_________________________________________________________________\n",
            "Layer (type)                 Output Shape              Param #   \n",
            "=================================================================\n",
            "lstm (LSTM)                  (None, 14, 32)            4480      \n",
            "_________________________________________________________________\n",
            "lstm_1 (LSTM)                (None, 14, 32)            8320      \n",
            "_________________________________________________________________\n",
            "dropout (Dropout)            (None, 14, 32)            0         \n",
            "_________________________________________________________________\n",
            "dense (Dense)                (None, 14, 1)             33        \n",
            "=================================================================\n",
            "Total params: 12,833\n",
            "Trainable params: 12,833\n",
            "Non-trainable params: 0\n",
            "_________________________________________________________________\n"
          ],
          "name": "stdout"
        }
      ]
    },
    {
      "cell_type": "code",
      "metadata": {
        "id": "2bx8ICf_0P4W"
      },
      "source": [
        ""
      ],
      "execution_count": null,
      "outputs": []
    },
    {
      "cell_type": "code",
      "metadata": {
        "colab": {
          "base_uri": "https://localhost:8080/",
          "height": 652
        },
        "id": "sdX8AblHvwNa",
        "outputId": "2405b1bf-452f-402d-c219-ad20bf32a982"
      },
      "source": [
        "print('Train...')\n",
        "\n",
        "#fit\n",
        "\n",
        "history = model.fit(trainX, trainY, epochs=10, batch_size=70, validation_split=0.3, verbose=1)\n",
        "# summarize history for loss\n",
        "plt.plot(history.history['loss'])\n",
        "plt.plot(history.history['val_loss'])\n",
        "plt.title('model loss')\n",
        "plt.ylabel('loss')\n",
        "plt.xlabel('epoch')\n",
        "plt.legend(['train', 'test'], loc='upper right')\n",
        "plt.show()\n",
        "\n",
        "# # make a prediction\n",
        "# yhat = model.predict(Test_X)\n",
        "# test_X = test_X.reshape((Test_X.shape[0], 7))\n",
        "# # invert scaling for forecast\n",
        "# inv_yhat = np.concatenate((yhat, test_X[:, -6:]), axis=1)\n",
        "# inv_yhat = scaler.inverse_transform(inv_yhat)\n",
        "# inv_yhat = inv_yhat[:,0]\n",
        "# # invert scaling for actual\n",
        "# test_y = test_y.reshape((len(test_y), 1))\n",
        "# inv_y = np.concatenate((test_y, test_X[:, -6:]), axis=1)\n",
        "# inv_y = scaler.inverse_transform(inv_y)\n",
        "# inv_y = inv_y[:,0]\n",
        "# # calculate RMSE\n",
        "# rmse = np.sqrt(mean_squared_error(inv_y, inv_yhat))\n",
        "# print('Test RMSE: %.3f' % rmse)"
      ],
      "execution_count": 29,
      "outputs": [
        {
          "output_type": "stream",
          "text": [
            "Train...\n",
            "Epoch 1/10\n",
            "9/9 [==============================] - 3s 93ms/step - loss: 1.3702 - val_loss: 0.9727\n",
            "Epoch 2/10\n",
            "9/9 [==============================] - 0s 19ms/step - loss: 0.8314 - val_loss: 0.9776\n",
            "Epoch 3/10\n",
            "9/9 [==============================] - 0s 21ms/step - loss: 0.8748 - val_loss: 0.9815\n",
            "Epoch 4/10\n",
            "9/9 [==============================] - 0s 22ms/step - loss: 0.5946 - val_loss: 0.9806\n",
            "Epoch 5/10\n",
            "9/9 [==============================] - 0s 22ms/step - loss: 1.0851 - val_loss: 0.9423\n",
            "Epoch 6/10\n",
            "9/9 [==============================] - 0s 21ms/step - loss: 0.8049 - val_loss: 0.9277\n",
            "Epoch 7/10\n",
            "9/9 [==============================] - 0s 22ms/step - loss: 0.8933 - val_loss: 0.9301\n",
            "Epoch 8/10\n",
            "9/9 [==============================] - 0s 22ms/step - loss: 0.7349 - val_loss: 0.9404\n",
            "Epoch 9/10\n",
            "9/9 [==============================] - 0s 21ms/step - loss: 0.7784 - val_loss: 0.9442\n",
            "Epoch 10/10\n",
            "9/9 [==============================] - 0s 22ms/step - loss: 1.0326 - val_loss: 0.9400\n"
          ],
          "name": "stdout"
        },
        {
          "output_type": "display_data",
          "data": {
            "image/png": "[encoded data removed]",
            "text/plain": [
              "<Figure size 432x288 with 1 Axes>"
            ]
          },
          "metadata": {
            "tags": [],
            "needs_background": "light"
          }
        }
      ]
    },
    {
      "cell_type": "code",
      "metadata": {
        "colab": {
          "base_uri": "https://localhost:8080/"
        },
        "id": "tMTbEJ2zqOMo",
        "outputId": "56f4d747-57d3-41e3-8208-06d950015ded"
      },
      "source": [
        "print(len(history.history['loss']))"
      ],
      "execution_count": null,
      "outputs": [
        {
          "output_type": "stream",
          "text": [
            "10\n"
          ],
          "name": "stdout"
        }
      ]
    },
    {
      "cell_type": "code",
      "metadata": {
        "id": "2gWtfjS5OZ2y",
        "colab": {
          "base_uri": "https://localhost:8080/",
          "height": 409
        },
        "outputId": "9977725b-4e6c-4b11-bf66-d7da6181b33d"
      },
      "source": [
        "#Forecasting...\n",
        "#Start with the last day in training date and predict future...\n",
        "n_future=90 #Redefining n_future to extend prediction dates beyond original n_future dates...\n",
        "forecast_period_dates = pd.date_range(list(train_dates)[-1], periods=n_future, freq='1d').tolist()\n",
        "print(type(forecast_period_dates[0]))\n",
        "\n",
        "forecast = model.predict(trainX[-n_future:]) #forecast \n",
        "#print(forecast)\n",
        "#Perform inverse transformation to rescale back to original range\n",
        "#Since we used 2 variables for transform, the inverse expects same dimensions\n",
        "#Therefore, let us copy our values 2 times and discard them after inverse transform\n",
        "forecast_copies = np.repeat(forecast, 2, axis=-1)\n",
        "print(forecast_copies.shape)\n",
        "\n",
        "\n",
        "#Inverse Transform the forecast using previous scaler\n",
        "y_pred_future = scaler.inverse_transform(forecast_copies)[:,0]\n",
        "\n",
        "\n",
        "# Convert timestamp to date\n",
        "forecast_dates = []\n",
        "for time_i in forecast_period_dates:\n",
        "    forecast_dates.append(time_i.date())\n",
        "    \n",
        "df_forecast = pd.DataFrame({'sales_date':np.array(forecast_dates), 'per_sqft_rate':y_pred_future[0]})\n",
        "df_forecast['sales_date']=pd.to_datetime(df_forecast['sales_date'])\n",
        "original = pd.DataFrame()\n",
        "original['per_sqft_rate'] = df_BK['per_sqft_rate']\n",
        "original['sales_date']=sales_date\n",
        "original['sales_date']=pd.to_datetime(original['sales_date'])\n",
        "original=original[0:-1]\n",
        "original = original[original['sales_date'] >= '2020-8-1']\n",
        "\n",
        "\n",
        "plt.figure(figsize=(15,10))\n",
        "sns.lineplot(original['sales_date'], original['per_sqft_rate']);\n",
        "sns.lineplot(df_forecast['sales_date'], df_forecast['per_sqft_rate']);\n"
      ],
      "execution_count": 31,
      "outputs": [
        {
          "output_type": "stream",
          "text": [
            "<class 'pandas._libs.tslibs.timestamps.Timestamp'>\n",
            "(90, 14, 2)\n"
          ],
          "name": "stdout"
        },
        {
          "output_type": "error",
          "ename": "ValueError",
          "evalue": "ignored",
          "traceback": [
            "\u001b[0;31m---------------------------------------------------------------------------\u001b[0m",
            "\u001b[0;31mValueError\u001b[0m                                Traceback (most recent call last)",
            "\u001b[0;32m<ipython-input-31-80269ba40ee7>\u001b[0m in \u001b[0;36m<module>\u001b[0;34m()\u001b[0m\n\u001b[1;32m     23\u001b[0m     \u001b[0mforecast_dates\u001b[0m\u001b[0;34m.\u001b[0m\u001b[0mappend\u001b[0m\u001b[0;34m(\u001b[0m\u001b[0mtime_i\u001b[0m\u001b[0;34m.\u001b[0m\u001b[0mdate\u001b[0m\u001b[0;34m(\u001b[0m\u001b[0;34m)\u001b[0m\u001b[0;34m)\u001b[0m\u001b[0;34m\u001b[0m\u001b[0;34m\u001b[0m\u001b[0m\n\u001b[1;32m     24\u001b[0m \u001b[0;34m\u001b[0m\u001b[0m\n\u001b[0;32m---> 25\u001b[0;31m \u001b[0mdf_forecast\u001b[0m \u001b[0;34m=\u001b[0m \u001b[0mpd\u001b[0m\u001b[0;34m.\u001b[0m\u001b[0mDataFrame\u001b[0m\u001b[0;34m(\u001b[0m\u001b[0;34m{\u001b[0m\u001b[0;34m'sales_date'\u001b[0m\u001b[0;34m:\u001b[0m\u001b[0mnp\u001b[0m\u001b[0;34m.\u001b[0m\u001b[0marray\u001b[0m\u001b[0;34m(\u001b[0m\u001b[0mforecast_dates\u001b[0m\u001b[0;34m)\u001b[0m\u001b[0;34m,\u001b[0m \u001b[0;34m'per_sqft_rate'\u001b[0m\u001b[0;34m:\u001b[0m\u001b[0my_pred_future\u001b[0m\u001b[0;34m[\u001b[0m\u001b[0;36m0\u001b[0m\u001b[0;34m]\u001b[0m\u001b[0;34m}\u001b[0m\u001b[0;34m)\u001b[0m\u001b[0;34m\u001b[0m\u001b[0;34m\u001b[0m\u001b[0m\n\u001b[0m\u001b[1;32m     26\u001b[0m \u001b[0mdf_forecast\u001b[0m\u001b[0;34m[\u001b[0m\u001b[0;34m'sales_date'\u001b[0m\u001b[0;34m]\u001b[0m\u001b[0;34m=\u001b[0m\u001b[0mpd\u001b[0m\u001b[0;34m.\u001b[0m\u001b[0mto_datetime\u001b[0m\u001b[0;34m(\u001b[0m\u001b[0mdf_forecast\u001b[0m\u001b[0;34m[\u001b[0m\u001b[0;34m'sales_date'\u001b[0m\u001b[0;34m]\u001b[0m\u001b[0;34m)\u001b[0m\u001b[0;34m\u001b[0m\u001b[0;34m\u001b[0m\u001b[0m\n\u001b[1;32m     27\u001b[0m \u001b[0moriginal\u001b[0m \u001b[0;34m=\u001b[0m \u001b[0mpd\u001b[0m\u001b[0;34m.\u001b[0m\u001b[0mDataFrame\u001b[0m\u001b[0;34m(\u001b[0m\u001b[0;34m)\u001b[0m\u001b[0;34m\u001b[0m\u001b[0;34m\u001b[0m\u001b[0m\n",
            "\u001b[0;32m/usr/local/lib/python3.7/dist-packages/pandas/core/frame.py\u001b[0m in \u001b[0;36m__init__\u001b[0;34m(self, data, index, columns, dtype, copy)\u001b[0m\n\u001b[1;32m    466\u001b[0m \u001b[0;34m\u001b[0m\u001b[0m\n\u001b[1;32m    467\u001b[0m         \u001b[0;32melif\u001b[0m \u001b[0misinstance\u001b[0m\u001b[0;34m(\u001b[0m\u001b[0mdata\u001b[0m\u001b[0;34m,\u001b[0m \u001b[0mdict\u001b[0m\u001b[0;34m)\u001b[0m\u001b[0;34m:\u001b[0m\u001b[0;34m\u001b[0m\u001b[0;34m\u001b[0m\u001b[0m\n\u001b[0;32m--> 468\u001b[0;31m             \u001b[0mmgr\u001b[0m \u001b[0;34m=\u001b[0m \u001b[0minit_dict\u001b[0m\u001b[0;34m(\u001b[0m\u001b[0mdata\u001b[0m\u001b[0;34m,\u001b[0m \u001b[0mindex\u001b[0m\u001b[0;34m,\u001b[0m \u001b[0mcolumns\u001b[0m\u001b[0;34m,\u001b[0m \u001b[0mdtype\u001b[0m\u001b[0;34m=\u001b[0m\u001b[0mdtype\u001b[0m\u001b[0;34m)\u001b[0m\u001b[0;34m\u001b[0m\u001b[0;34m\u001b[0m\u001b[0m\n\u001b[0m\u001b[1;32m    469\u001b[0m         \u001b[0;32melif\u001b[0m \u001b[0misinstance\u001b[0m\u001b[0;34m(\u001b[0m\u001b[0mdata\u001b[0m\u001b[0;34m,\u001b[0m \u001b[0mma\u001b[0m\u001b[0;34m.\u001b[0m\u001b[0mMaskedArray\u001b[0m\u001b[0;34m)\u001b[0m\u001b[0;34m:\u001b[0m\u001b[0;34m\u001b[0m\u001b[0;34m\u001b[0m\u001b[0m\n\u001b[1;32m    470\u001b[0m             \u001b[0;32mimport\u001b[0m \u001b[0mnumpy\u001b[0m\u001b[0;34m.\u001b[0m\u001b[0mma\u001b[0m\u001b[0;34m.\u001b[0m\u001b[0mmrecords\u001b[0m \u001b[0;32mas\u001b[0m \u001b[0mmrecords\u001b[0m\u001b[0;34m\u001b[0m\u001b[0;34m\u001b[0m\u001b[0m\n",
            "\u001b[0;32m/usr/local/lib/python3.7/dist-packages/pandas/core/internals/construction.py\u001b[0m in \u001b[0;36minit_dict\u001b[0;34m(data, index, columns, dtype)\u001b[0m\n\u001b[1;32m    281\u001b[0m             \u001b[0marr\u001b[0m \u001b[0;32mif\u001b[0m \u001b[0;32mnot\u001b[0m \u001b[0mis_datetime64tz_dtype\u001b[0m\u001b[0;34m(\u001b[0m\u001b[0marr\u001b[0m\u001b[0;34m)\u001b[0m \u001b[0;32melse\u001b[0m \u001b[0marr\u001b[0m\u001b[0;34m.\u001b[0m\u001b[0mcopy\u001b[0m\u001b[0;34m(\u001b[0m\u001b[0;34m)\u001b[0m \u001b[0;32mfor\u001b[0m \u001b[0marr\u001b[0m \u001b[0;32min\u001b[0m \u001b[0marrays\u001b[0m\u001b[0;34m\u001b[0m\u001b[0;34m\u001b[0m\u001b[0m\n\u001b[1;32m    282\u001b[0m         ]\n\u001b[0;32m--> 283\u001b[0;31m     \u001b[0;32mreturn\u001b[0m \u001b[0marrays_to_mgr\u001b[0m\u001b[0;34m(\u001b[0m\u001b[0marrays\u001b[0m\u001b[0;34m,\u001b[0m \u001b[0mdata_names\u001b[0m\u001b[0;34m,\u001b[0m \u001b[0mindex\u001b[0m\u001b[0;34m,\u001b[0m \u001b[0mcolumns\u001b[0m\u001b[0;34m,\u001b[0m \u001b[0mdtype\u001b[0m\u001b[0;34m=\u001b[0m\u001b[0mdtype\u001b[0m\u001b[0;34m)\u001b[0m\u001b[0;34m\u001b[0m\u001b[0;34m\u001b[0m\u001b[0m\n\u001b[0m\u001b[1;32m    284\u001b[0m \u001b[0;34m\u001b[0m\u001b[0m\n\u001b[1;32m    285\u001b[0m \u001b[0;34m\u001b[0m\u001b[0m\n",
            "\u001b[0;32m/usr/local/lib/python3.7/dist-packages/pandas/core/internals/construction.py\u001b[0m in \u001b[0;36marrays_to_mgr\u001b[0;34m(arrays, arr_names, index, columns, dtype, verify_integrity)\u001b[0m\n\u001b[1;32m     76\u001b[0m         \u001b[0;31m# figure out the index, if necessary\u001b[0m\u001b[0;34m\u001b[0m\u001b[0;34m\u001b[0m\u001b[0;34m\u001b[0m\u001b[0m\n\u001b[1;32m     77\u001b[0m         \u001b[0;32mif\u001b[0m \u001b[0mindex\u001b[0m \u001b[0;32mis\u001b[0m \u001b[0;32mNone\u001b[0m\u001b[0;34m:\u001b[0m\u001b[0;34m\u001b[0m\u001b[0;34m\u001b[0m\u001b[0m\n\u001b[0;32m---> 78\u001b[0;31m             \u001b[0mindex\u001b[0m \u001b[0;34m=\u001b[0m \u001b[0mextract_index\u001b[0m\u001b[0;34m(\u001b[0m\u001b[0marrays\u001b[0m\u001b[0;34m)\u001b[0m\u001b[0;34m\u001b[0m\u001b[0;34m\u001b[0m\u001b[0m\n\u001b[0m\u001b[1;32m     79\u001b[0m         \u001b[0;32melse\u001b[0m\u001b[0;34m:\u001b[0m\u001b[0;34m\u001b[0m\u001b[0;34m\u001b[0m\u001b[0m\n\u001b[1;32m     80\u001b[0m             \u001b[0mindex\u001b[0m \u001b[0;34m=\u001b[0m \u001b[0mensure_index\u001b[0m\u001b[0;34m(\u001b[0m\u001b[0mindex\u001b[0m\u001b[0;34m)\u001b[0m\u001b[0;34m\u001b[0m\u001b[0;34m\u001b[0m\u001b[0m\n",
            "\u001b[0;32m/usr/local/lib/python3.7/dist-packages/pandas/core/internals/construction.py\u001b[0m in \u001b[0;36mextract_index\u001b[0;34m(data)\u001b[0m\n\u001b[1;32m    395\u001b[0m             \u001b[0mlengths\u001b[0m \u001b[0;34m=\u001b[0m \u001b[0mlist\u001b[0m\u001b[0;34m(\u001b[0m\u001b[0mset\u001b[0m\u001b[0;34m(\u001b[0m\u001b[0mraw_lengths\u001b[0m\u001b[0;34m)\u001b[0m\u001b[0;34m)\u001b[0m\u001b[0;34m\u001b[0m\u001b[0;34m\u001b[0m\u001b[0m\n\u001b[1;32m    396\u001b[0m             \u001b[0;32mif\u001b[0m \u001b[0mlen\u001b[0m\u001b[0;34m(\u001b[0m\u001b[0mlengths\u001b[0m\u001b[0;34m)\u001b[0m \u001b[0;34m>\u001b[0m \u001b[0;36m1\u001b[0m\u001b[0;34m:\u001b[0m\u001b[0;34m\u001b[0m\u001b[0;34m\u001b[0m\u001b[0m\n\u001b[0;32m--> 397\u001b[0;31m                 \u001b[0;32mraise\u001b[0m \u001b[0mValueError\u001b[0m\u001b[0;34m(\u001b[0m\u001b[0;34m\"arrays must all be same length\"\u001b[0m\u001b[0;34m)\u001b[0m\u001b[0;34m\u001b[0m\u001b[0;34m\u001b[0m\u001b[0m\n\u001b[0m\u001b[1;32m    398\u001b[0m \u001b[0;34m\u001b[0m\u001b[0m\n\u001b[1;32m    399\u001b[0m             \u001b[0;32mif\u001b[0m \u001b[0mhave_dicts\u001b[0m\u001b[0;34m:\u001b[0m\u001b[0;34m\u001b[0m\u001b[0;34m\u001b[0m\u001b[0m\n",
            "\u001b[0;31mValueError\u001b[0m: arrays must all be same length"
          ]
        }
      ]
    }
  ]
}